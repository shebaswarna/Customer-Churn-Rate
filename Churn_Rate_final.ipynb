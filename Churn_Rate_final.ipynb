{
  "nbformat": 4,
  "nbformat_minor": 0,
  "metadata": {
    "colab": {
      "name": "Churn Rate_02",
      "provenance": [],
      "collapsed_sections": []
    },
    "kernelspec": {
      "name": "python3",
      "display_name": "Python 3"
    },
    "language_info": {
      "name": "python"
    }
  },
  "cells": [
    {
      "cell_type": "markdown",
      "source": [
        "# Importing Libraries"
      ],
      "metadata": {
        "id": "t0blPOF0Pe_J"
      }
    },
    {
      "cell_type": "code",
      "execution_count": 1,
      "metadata": {
        "id": "JlxzKMLvPaCX"
      },
      "outputs": [],
      "source": [
        "import numpy as np\n",
        "import matplotlib.pyplot as plt\n",
        "import pandas as pd\n",
        "import seaborn as sns"
      ]
    },
    {
      "cell_type": "markdown",
      "source": [
        "# Importing Data Set"
      ],
      "metadata": {
        "id": "8JwxMSzmP4vY"
      }
    },
    {
      "cell_type": "code",
      "source": [
        "dataset = pd.read_csv('Churn_data.csv')\n"
      ],
      "metadata": {
        "id": "Genpe25lP-1A"
      },
      "execution_count": 2,
      "outputs": []
    },
    {
      "cell_type": "code",
      "source": [
        "dataset.head()"
      ],
      "metadata": {
        "colab": {
          "base_uri": "https://localhost:8080/",
          "height": 357
        },
        "id": "qKgQwRssQaI6",
        "outputId": "eb9d1554-8e6f-46c2-8ea0-3d23be838c54"
      },
      "execution_count": 3,
      "outputs": [
        {
          "output_type": "execute_result",
          "data": {
            "text/html": [
              "\n",
              "  <div id=\"df-0736172d-8e40-4b35-bb09-7477664e4756\">\n",
              "    <div class=\"colab-df-container\">\n",
              "      <div>\n",
              "<style scoped>\n",
              "    .dataframe tbody tr th:only-of-type {\n",
              "        vertical-align: middle;\n",
              "    }\n",
              "\n",
              "    .dataframe tbody tr th {\n",
              "        vertical-align: top;\n",
              "    }\n",
              "\n",
              "    .dataframe thead th {\n",
              "        text-align: right;\n",
              "    }\n",
              "</style>\n",
              "<table border=\"1\" class=\"dataframe\">\n",
              "  <thead>\n",
              "    <tr style=\"text-align: right;\">\n",
              "      <th></th>\n",
              "      <th>customerID</th>\n",
              "      <th>gender</th>\n",
              "      <th>SeniorCitizen</th>\n",
              "      <th>Partner</th>\n",
              "      <th>Dependents</th>\n",
              "      <th>tenure</th>\n",
              "      <th>PhoneService</th>\n",
              "      <th>MultipleLines</th>\n",
              "      <th>InternetService</th>\n",
              "      <th>OnlineSecurity</th>\n",
              "      <th>OnlineBackup</th>\n",
              "      <th>DeviceProtection</th>\n",
              "      <th>TechSupport</th>\n",
              "      <th>StreamingTV</th>\n",
              "      <th>StreamingMovies</th>\n",
              "      <th>Contract</th>\n",
              "      <th>PaperlessBilling</th>\n",
              "      <th>PaymentMethod</th>\n",
              "      <th>MonthlyCharges</th>\n",
              "      <th>TotalCharges</th>\n",
              "      <th>Churn</th>\n",
              "    </tr>\n",
              "  </thead>\n",
              "  <tbody>\n",
              "    <tr>\n",
              "      <th>0</th>\n",
              "      <td>7590-VHVEG</td>\n",
              "      <td>Female</td>\n",
              "      <td>0</td>\n",
              "      <td>Yes</td>\n",
              "      <td>No</td>\n",
              "      <td>1</td>\n",
              "      <td>No</td>\n",
              "      <td>No phone service</td>\n",
              "      <td>DSL</td>\n",
              "      <td>No</td>\n",
              "      <td>Yes</td>\n",
              "      <td>No</td>\n",
              "      <td>No</td>\n",
              "      <td>No</td>\n",
              "      <td>No</td>\n",
              "      <td>Month-to-month</td>\n",
              "      <td>Yes</td>\n",
              "      <td>Electronic check</td>\n",
              "      <td>29.85</td>\n",
              "      <td>29.85</td>\n",
              "      <td>No</td>\n",
              "    </tr>\n",
              "    <tr>\n",
              "      <th>1</th>\n",
              "      <td>5575-GNVDE</td>\n",
              "      <td>Male</td>\n",
              "      <td>0</td>\n",
              "      <td>No</td>\n",
              "      <td>No</td>\n",
              "      <td>34</td>\n",
              "      <td>Yes</td>\n",
              "      <td>No</td>\n",
              "      <td>DSL</td>\n",
              "      <td>Yes</td>\n",
              "      <td>No</td>\n",
              "      <td>Yes</td>\n",
              "      <td>No</td>\n",
              "      <td>No</td>\n",
              "      <td>No</td>\n",
              "      <td>One year</td>\n",
              "      <td>No</td>\n",
              "      <td>Mailed check</td>\n",
              "      <td>56.95</td>\n",
              "      <td>1889.5</td>\n",
              "      <td>No</td>\n",
              "    </tr>\n",
              "    <tr>\n",
              "      <th>2</th>\n",
              "      <td>3668-QPYBK</td>\n",
              "      <td>Male</td>\n",
              "      <td>0</td>\n",
              "      <td>No</td>\n",
              "      <td>No</td>\n",
              "      <td>2</td>\n",
              "      <td>Yes</td>\n",
              "      <td>No</td>\n",
              "      <td>DSL</td>\n",
              "      <td>Yes</td>\n",
              "      <td>Yes</td>\n",
              "      <td>No</td>\n",
              "      <td>No</td>\n",
              "      <td>No</td>\n",
              "      <td>No</td>\n",
              "      <td>Month-to-month</td>\n",
              "      <td>Yes</td>\n",
              "      <td>Mailed check</td>\n",
              "      <td>53.85</td>\n",
              "      <td>108.15</td>\n",
              "      <td>Yes</td>\n",
              "    </tr>\n",
              "    <tr>\n",
              "      <th>3</th>\n",
              "      <td>7795-CFOCW</td>\n",
              "      <td>Male</td>\n",
              "      <td>0</td>\n",
              "      <td>No</td>\n",
              "      <td>No</td>\n",
              "      <td>45</td>\n",
              "      <td>No</td>\n",
              "      <td>No phone service</td>\n",
              "      <td>DSL</td>\n",
              "      <td>Yes</td>\n",
              "      <td>No</td>\n",
              "      <td>Yes</td>\n",
              "      <td>Yes</td>\n",
              "      <td>No</td>\n",
              "      <td>No</td>\n",
              "      <td>One year</td>\n",
              "      <td>No</td>\n",
              "      <td>Bank transfer (automatic)</td>\n",
              "      <td>42.30</td>\n",
              "      <td>1840.75</td>\n",
              "      <td>No</td>\n",
              "    </tr>\n",
              "    <tr>\n",
              "      <th>4</th>\n",
              "      <td>9237-HQITU</td>\n",
              "      <td>Female</td>\n",
              "      <td>0</td>\n",
              "      <td>No</td>\n",
              "      <td>No</td>\n",
              "      <td>2</td>\n",
              "      <td>Yes</td>\n",
              "      <td>No</td>\n",
              "      <td>Fiber optic</td>\n",
              "      <td>No</td>\n",
              "      <td>No</td>\n",
              "      <td>No</td>\n",
              "      <td>No</td>\n",
              "      <td>No</td>\n",
              "      <td>No</td>\n",
              "      <td>Month-to-month</td>\n",
              "      <td>Yes</td>\n",
              "      <td>Electronic check</td>\n",
              "      <td>70.70</td>\n",
              "      <td>151.65</td>\n",
              "      <td>Yes</td>\n",
              "    </tr>\n",
              "  </tbody>\n",
              "</table>\n",
              "</div>\n",
              "      <button class=\"colab-df-convert\" onclick=\"convertToInteractive('df-0736172d-8e40-4b35-bb09-7477664e4756')\"\n",
              "              title=\"Convert this dataframe to an interactive table.\"\n",
              "              style=\"display:none;\">\n",
              "        \n",
              "  <svg xmlns=\"http://www.w3.org/2000/svg\" height=\"24px\"viewBox=\"0 0 24 24\"\n",
              "       width=\"24px\">\n",
              "    <path d=\"M0 0h24v24H0V0z\" fill=\"none\"/>\n",
              "    <path d=\"M18.56 5.44l.94 2.06.94-2.06 2.06-.94-2.06-.94-.94-2.06-.94 2.06-2.06.94zm-11 1L8.5 8.5l.94-2.06 2.06-.94-2.06-.94L8.5 2.5l-.94 2.06-2.06.94zm10 10l.94 2.06.94-2.06 2.06-.94-2.06-.94-.94-2.06-.94 2.06-2.06.94z\"/><path d=\"M17.41 7.96l-1.37-1.37c-.4-.4-.92-.59-1.43-.59-.52 0-1.04.2-1.43.59L10.3 9.45l-7.72 7.72c-.78.78-.78 2.05 0 2.83L4 21.41c.39.39.9.59 1.41.59.51 0 1.02-.2 1.41-.59l7.78-7.78 2.81-2.81c.8-.78.8-2.07 0-2.86zM5.41 20L4 18.59l7.72-7.72 1.47 1.35L5.41 20z\"/>\n",
              "  </svg>\n",
              "      </button>\n",
              "      \n",
              "  <style>\n",
              "    .colab-df-container {\n",
              "      display:flex;\n",
              "      flex-wrap:wrap;\n",
              "      gap: 12px;\n",
              "    }\n",
              "\n",
              "    .colab-df-convert {\n",
              "      background-color: #E8F0FE;\n",
              "      border: none;\n",
              "      border-radius: 50%;\n",
              "      cursor: pointer;\n",
              "      display: none;\n",
              "      fill: #1967D2;\n",
              "      height: 32px;\n",
              "      padding: 0 0 0 0;\n",
              "      width: 32px;\n",
              "    }\n",
              "\n",
              "    .colab-df-convert:hover {\n",
              "      background-color: #E2EBFA;\n",
              "      box-shadow: 0px 1px 2px rgba(60, 64, 67, 0.3), 0px 1px 3px 1px rgba(60, 64, 67, 0.15);\n",
              "      fill: #174EA6;\n",
              "    }\n",
              "\n",
              "    [theme=dark] .colab-df-convert {\n",
              "      background-color: #3B4455;\n",
              "      fill: #D2E3FC;\n",
              "    }\n",
              "\n",
              "    [theme=dark] .colab-df-convert:hover {\n",
              "      background-color: #434B5C;\n",
              "      box-shadow: 0px 1px 3px 1px rgba(0, 0, 0, 0.15);\n",
              "      filter: drop-shadow(0px 1px 2px rgba(0, 0, 0, 0.3));\n",
              "      fill: #FFFFFF;\n",
              "    }\n",
              "  </style>\n",
              "\n",
              "      <script>\n",
              "        const buttonEl =\n",
              "          document.querySelector('#df-0736172d-8e40-4b35-bb09-7477664e4756 button.colab-df-convert');\n",
              "        buttonEl.style.display =\n",
              "          google.colab.kernel.accessAllowed ? 'block' : 'none';\n",
              "\n",
              "        async function convertToInteractive(key) {\n",
              "          const element = document.querySelector('#df-0736172d-8e40-4b35-bb09-7477664e4756');\n",
              "          const dataTable =\n",
              "            await google.colab.kernel.invokeFunction('convertToInteractive',\n",
              "                                                     [key], {});\n",
              "          if (!dataTable) return;\n",
              "\n",
              "          const docLinkHtml = 'Like what you see? Visit the ' +\n",
              "            '<a target=\"_blank\" href=https://colab.research.google.com/notebooks/data_table.ipynb>data table notebook</a>'\n",
              "            + ' to learn more about interactive tables.';\n",
              "          element.innerHTML = '';\n",
              "          dataTable['output_type'] = 'display_data';\n",
              "          await google.colab.output.renderOutput(dataTable, element);\n",
              "          const docLink = document.createElement('div');\n",
              "          docLink.innerHTML = docLinkHtml;\n",
              "          element.appendChild(docLink);\n",
              "        }\n",
              "      </script>\n",
              "    </div>\n",
              "  </div>\n",
              "  "
            ],
            "text/plain": [
              "   customerID  gender  SeniorCitizen  ... MonthlyCharges TotalCharges  Churn\n",
              "0  7590-VHVEG  Female              0  ...          29.85        29.85     No\n",
              "1  5575-GNVDE    Male              0  ...          56.95       1889.5     No\n",
              "2  3668-QPYBK    Male              0  ...          53.85       108.15    Yes\n",
              "3  7795-CFOCW    Male              0  ...          42.30      1840.75     No\n",
              "4  9237-HQITU  Female              0  ...          70.70       151.65    Yes\n",
              "\n",
              "[5 rows x 21 columns]"
            ]
          },
          "metadata": {},
          "execution_count": 3
        }
      ]
    },
    {
      "cell_type": "markdown",
      "source": [
        "# Data Analysis cum Visualization"
      ],
      "metadata": {
        "id": "qMvUgAc2FgCs"
      }
    },
    {
      "cell_type": "code",
      "source": [
        "dataset.info()"
      ],
      "metadata": {
        "colab": {
          "base_uri": "https://localhost:8080/"
        },
        "id": "YBa_OTR-Qmq2",
        "outputId": "ff115f07-e939-4c3f-d36f-00500f9a7345"
      },
      "execution_count": 5,
      "outputs": [
        {
          "output_type": "stream",
          "name": "stdout",
          "text": [
            "<class 'pandas.core.frame.DataFrame'>\n",
            "RangeIndex: 7043 entries, 0 to 7042\n",
            "Data columns (total 21 columns):\n",
            " #   Column            Non-Null Count  Dtype  \n",
            "---  ------            --------------  -----  \n",
            " 0   customerID        7043 non-null   object \n",
            " 1   gender            7043 non-null   object \n",
            " 2   SeniorCitizen     7043 non-null   int64  \n",
            " 3   Partner           7043 non-null   object \n",
            " 4   Dependents        7043 non-null   object \n",
            " 5   tenure            7043 non-null   int64  \n",
            " 6   PhoneService      7043 non-null   object \n",
            " 7   MultipleLines     7043 non-null   object \n",
            " 8   InternetService   7043 non-null   object \n",
            " 9   OnlineSecurity    7043 non-null   object \n",
            " 10  OnlineBackup      7043 non-null   object \n",
            " 11  DeviceProtection  7043 non-null   object \n",
            " 12  TechSupport       7043 non-null   object \n",
            " 13  StreamingTV       7043 non-null   object \n",
            " 14  StreamingMovies   7043 non-null   object \n",
            " 15  Contract          7043 non-null   object \n",
            " 16  PaperlessBilling  7043 non-null   object \n",
            " 17  PaymentMethod     7043 non-null   object \n",
            " 18  MonthlyCharges    7043 non-null   float64\n",
            " 19  TotalCharges      7043 non-null   object \n",
            " 20  Churn             7043 non-null   object \n",
            "dtypes: float64(1), int64(2), object(18)\n",
            "memory usage: 1.1+ MB\n"
          ]
        }
      ]
    },
    {
      "cell_type": "code",
      "source": [
        "dataset.loc[dataset.Churn=='No','Churn'] = 0             #changing the categorical column of \"Churn\" \n",
        "dataset.loc[dataset.Churn=='Yes','Churn'] = 1            #into numerical for better analysis"
      ],
      "metadata": {
        "id": "Cy9PC79gQoWs"
      },
      "execution_count": 6,
      "outputs": []
    },
    {
      "cell_type": "code",
      "source": [
        "dataset.head()"
      ],
      "metadata": {
        "colab": {
          "base_uri": "https://localhost:8080/",
          "height": 357
        },
        "id": "UVMFokLxRXBX",
        "outputId": "ef3b4023-14d9-4db3-e3b2-68f202322335"
      },
      "execution_count": 7,
      "outputs": [
        {
          "output_type": "execute_result",
          "data": {
            "text/html": [
              "\n",
              "  <div id=\"df-20231c78-2bf5-495c-b73d-9b86f85de331\">\n",
              "    <div class=\"colab-df-container\">\n",
              "      <div>\n",
              "<style scoped>\n",
              "    .dataframe tbody tr th:only-of-type {\n",
              "        vertical-align: middle;\n",
              "    }\n",
              "\n",
              "    .dataframe tbody tr th {\n",
              "        vertical-align: top;\n",
              "    }\n",
              "\n",
              "    .dataframe thead th {\n",
              "        text-align: right;\n",
              "    }\n",
              "</style>\n",
              "<table border=\"1\" class=\"dataframe\">\n",
              "  <thead>\n",
              "    <tr style=\"text-align: right;\">\n",
              "      <th></th>\n",
              "      <th>customerID</th>\n",
              "      <th>gender</th>\n",
              "      <th>SeniorCitizen</th>\n",
              "      <th>Partner</th>\n",
              "      <th>Dependents</th>\n",
              "      <th>tenure</th>\n",
              "      <th>PhoneService</th>\n",
              "      <th>MultipleLines</th>\n",
              "      <th>InternetService</th>\n",
              "      <th>OnlineSecurity</th>\n",
              "      <th>OnlineBackup</th>\n",
              "      <th>DeviceProtection</th>\n",
              "      <th>TechSupport</th>\n",
              "      <th>StreamingTV</th>\n",
              "      <th>StreamingMovies</th>\n",
              "      <th>Contract</th>\n",
              "      <th>PaperlessBilling</th>\n",
              "      <th>PaymentMethod</th>\n",
              "      <th>MonthlyCharges</th>\n",
              "      <th>TotalCharges</th>\n",
              "      <th>Churn</th>\n",
              "    </tr>\n",
              "  </thead>\n",
              "  <tbody>\n",
              "    <tr>\n",
              "      <th>0</th>\n",
              "      <td>7590-VHVEG</td>\n",
              "      <td>Female</td>\n",
              "      <td>0</td>\n",
              "      <td>Yes</td>\n",
              "      <td>No</td>\n",
              "      <td>1</td>\n",
              "      <td>No</td>\n",
              "      <td>No phone service</td>\n",
              "      <td>DSL</td>\n",
              "      <td>No</td>\n",
              "      <td>Yes</td>\n",
              "      <td>No</td>\n",
              "      <td>No</td>\n",
              "      <td>No</td>\n",
              "      <td>No</td>\n",
              "      <td>Month-to-month</td>\n",
              "      <td>Yes</td>\n",
              "      <td>Electronic check</td>\n",
              "      <td>29.85</td>\n",
              "      <td>29.85</td>\n",
              "      <td>0</td>\n",
              "    </tr>\n",
              "    <tr>\n",
              "      <th>1</th>\n",
              "      <td>5575-GNVDE</td>\n",
              "      <td>Male</td>\n",
              "      <td>0</td>\n",
              "      <td>No</td>\n",
              "      <td>No</td>\n",
              "      <td>34</td>\n",
              "      <td>Yes</td>\n",
              "      <td>No</td>\n",
              "      <td>DSL</td>\n",
              "      <td>Yes</td>\n",
              "      <td>No</td>\n",
              "      <td>Yes</td>\n",
              "      <td>No</td>\n",
              "      <td>No</td>\n",
              "      <td>No</td>\n",
              "      <td>One year</td>\n",
              "      <td>No</td>\n",
              "      <td>Mailed check</td>\n",
              "      <td>56.95</td>\n",
              "      <td>1889.5</td>\n",
              "      <td>0</td>\n",
              "    </tr>\n",
              "    <tr>\n",
              "      <th>2</th>\n",
              "      <td>3668-QPYBK</td>\n",
              "      <td>Male</td>\n",
              "      <td>0</td>\n",
              "      <td>No</td>\n",
              "      <td>No</td>\n",
              "      <td>2</td>\n",
              "      <td>Yes</td>\n",
              "      <td>No</td>\n",
              "      <td>DSL</td>\n",
              "      <td>Yes</td>\n",
              "      <td>Yes</td>\n",
              "      <td>No</td>\n",
              "      <td>No</td>\n",
              "      <td>No</td>\n",
              "      <td>No</td>\n",
              "      <td>Month-to-month</td>\n",
              "      <td>Yes</td>\n",
              "      <td>Mailed check</td>\n",
              "      <td>53.85</td>\n",
              "      <td>108.15</td>\n",
              "      <td>1</td>\n",
              "    </tr>\n",
              "    <tr>\n",
              "      <th>3</th>\n",
              "      <td>7795-CFOCW</td>\n",
              "      <td>Male</td>\n",
              "      <td>0</td>\n",
              "      <td>No</td>\n",
              "      <td>No</td>\n",
              "      <td>45</td>\n",
              "      <td>No</td>\n",
              "      <td>No phone service</td>\n",
              "      <td>DSL</td>\n",
              "      <td>Yes</td>\n",
              "      <td>No</td>\n",
              "      <td>Yes</td>\n",
              "      <td>Yes</td>\n",
              "      <td>No</td>\n",
              "      <td>No</td>\n",
              "      <td>One year</td>\n",
              "      <td>No</td>\n",
              "      <td>Bank transfer (automatic)</td>\n",
              "      <td>42.30</td>\n",
              "      <td>1840.75</td>\n",
              "      <td>0</td>\n",
              "    </tr>\n",
              "    <tr>\n",
              "      <th>4</th>\n",
              "      <td>9237-HQITU</td>\n",
              "      <td>Female</td>\n",
              "      <td>0</td>\n",
              "      <td>No</td>\n",
              "      <td>No</td>\n",
              "      <td>2</td>\n",
              "      <td>Yes</td>\n",
              "      <td>No</td>\n",
              "      <td>Fiber optic</td>\n",
              "      <td>No</td>\n",
              "      <td>No</td>\n",
              "      <td>No</td>\n",
              "      <td>No</td>\n",
              "      <td>No</td>\n",
              "      <td>No</td>\n",
              "      <td>Month-to-month</td>\n",
              "      <td>Yes</td>\n",
              "      <td>Electronic check</td>\n",
              "      <td>70.70</td>\n",
              "      <td>151.65</td>\n",
              "      <td>1</td>\n",
              "    </tr>\n",
              "  </tbody>\n",
              "</table>\n",
              "</div>\n",
              "      <button class=\"colab-df-convert\" onclick=\"convertToInteractive('df-20231c78-2bf5-495c-b73d-9b86f85de331')\"\n",
              "              title=\"Convert this dataframe to an interactive table.\"\n",
              "              style=\"display:none;\">\n",
              "        \n",
              "  <svg xmlns=\"http://www.w3.org/2000/svg\" height=\"24px\"viewBox=\"0 0 24 24\"\n",
              "       width=\"24px\">\n",
              "    <path d=\"M0 0h24v24H0V0z\" fill=\"none\"/>\n",
              "    <path d=\"M18.56 5.44l.94 2.06.94-2.06 2.06-.94-2.06-.94-.94-2.06-.94 2.06-2.06.94zm-11 1L8.5 8.5l.94-2.06 2.06-.94-2.06-.94L8.5 2.5l-.94 2.06-2.06.94zm10 10l.94 2.06.94-2.06 2.06-.94-2.06-.94-.94-2.06-.94 2.06-2.06.94z\"/><path d=\"M17.41 7.96l-1.37-1.37c-.4-.4-.92-.59-1.43-.59-.52 0-1.04.2-1.43.59L10.3 9.45l-7.72 7.72c-.78.78-.78 2.05 0 2.83L4 21.41c.39.39.9.59 1.41.59.51 0 1.02-.2 1.41-.59l7.78-7.78 2.81-2.81c.8-.78.8-2.07 0-2.86zM5.41 20L4 18.59l7.72-7.72 1.47 1.35L5.41 20z\"/>\n",
              "  </svg>\n",
              "      </button>\n",
              "      \n",
              "  <style>\n",
              "    .colab-df-container {\n",
              "      display:flex;\n",
              "      flex-wrap:wrap;\n",
              "      gap: 12px;\n",
              "    }\n",
              "\n",
              "    .colab-df-convert {\n",
              "      background-color: #E8F0FE;\n",
              "      border: none;\n",
              "      border-radius: 50%;\n",
              "      cursor: pointer;\n",
              "      display: none;\n",
              "      fill: #1967D2;\n",
              "      height: 32px;\n",
              "      padding: 0 0 0 0;\n",
              "      width: 32px;\n",
              "    }\n",
              "\n",
              "    .colab-df-convert:hover {\n",
              "      background-color: #E2EBFA;\n",
              "      box-shadow: 0px 1px 2px rgba(60, 64, 67, 0.3), 0px 1px 3px 1px rgba(60, 64, 67, 0.15);\n",
              "      fill: #174EA6;\n",
              "    }\n",
              "\n",
              "    [theme=dark] .colab-df-convert {\n",
              "      background-color: #3B4455;\n",
              "      fill: #D2E3FC;\n",
              "    }\n",
              "\n",
              "    [theme=dark] .colab-df-convert:hover {\n",
              "      background-color: #434B5C;\n",
              "      box-shadow: 0px 1px 3px 1px rgba(0, 0, 0, 0.15);\n",
              "      filter: drop-shadow(0px 1px 2px rgba(0, 0, 0, 0.3));\n",
              "      fill: #FFFFFF;\n",
              "    }\n",
              "  </style>\n",
              "\n",
              "      <script>\n",
              "        const buttonEl =\n",
              "          document.querySelector('#df-20231c78-2bf5-495c-b73d-9b86f85de331 button.colab-df-convert');\n",
              "        buttonEl.style.display =\n",
              "          google.colab.kernel.accessAllowed ? 'block' : 'none';\n",
              "\n",
              "        async function convertToInteractive(key) {\n",
              "          const element = document.querySelector('#df-20231c78-2bf5-495c-b73d-9b86f85de331');\n",
              "          const dataTable =\n",
              "            await google.colab.kernel.invokeFunction('convertToInteractive',\n",
              "                                                     [key], {});\n",
              "          if (!dataTable) return;\n",
              "\n",
              "          const docLinkHtml = 'Like what you see? Visit the ' +\n",
              "            '<a target=\"_blank\" href=https://colab.research.google.com/notebooks/data_table.ipynb>data table notebook</a>'\n",
              "            + ' to learn more about interactive tables.';\n",
              "          element.innerHTML = '';\n",
              "          dataTable['output_type'] = 'display_data';\n",
              "          await google.colab.output.renderOutput(dataTable, element);\n",
              "          const docLink = document.createElement('div');\n",
              "          docLink.innerHTML = docLinkHtml;\n",
              "          element.appendChild(docLink);\n",
              "        }\n",
              "      </script>\n",
              "    </div>\n",
              "  </div>\n",
              "  "
            ],
            "text/plain": [
              "   customerID  gender  SeniorCitizen  ... MonthlyCharges TotalCharges  Churn\n",
              "0  7590-VHVEG  Female              0  ...          29.85        29.85      0\n",
              "1  5575-GNVDE    Male              0  ...          56.95       1889.5      0\n",
              "2  3668-QPYBK    Male              0  ...          53.85       108.15      1\n",
              "3  7795-CFOCW    Male              0  ...          42.30      1840.75      0\n",
              "4  9237-HQITU  Female              0  ...          70.70       151.65      1\n",
              "\n",
              "[5 rows x 21 columns]"
            ]
          },
          "metadata": {},
          "execution_count": 7
        }
      ]
    },
    {
      "cell_type": "code",
      "source": [
        "dataset.describe()"
      ],
      "metadata": {
        "colab": {
          "base_uri": "https://localhost:8080/",
          "height": 300
        },
        "id": "HV4TiV5DBcrW",
        "outputId": "807b1e1b-b3bc-4e69-b32d-97e17cdc3a92"
      },
      "execution_count": 8,
      "outputs": [
        {
          "output_type": "execute_result",
          "data": {
            "text/html": [
              "\n",
              "  <div id=\"df-f9bef634-c2a9-43ab-b077-ed9e98913ea4\">\n",
              "    <div class=\"colab-df-container\">\n",
              "      <div>\n",
              "<style scoped>\n",
              "    .dataframe tbody tr th:only-of-type {\n",
              "        vertical-align: middle;\n",
              "    }\n",
              "\n",
              "    .dataframe tbody tr th {\n",
              "        vertical-align: top;\n",
              "    }\n",
              "\n",
              "    .dataframe thead th {\n",
              "        text-align: right;\n",
              "    }\n",
              "</style>\n",
              "<table border=\"1\" class=\"dataframe\">\n",
              "  <thead>\n",
              "    <tr style=\"text-align: right;\">\n",
              "      <th></th>\n",
              "      <th>SeniorCitizen</th>\n",
              "      <th>tenure</th>\n",
              "      <th>MonthlyCharges</th>\n",
              "    </tr>\n",
              "  </thead>\n",
              "  <tbody>\n",
              "    <tr>\n",
              "      <th>count</th>\n",
              "      <td>7043.000000</td>\n",
              "      <td>7043.000000</td>\n",
              "      <td>7043.000000</td>\n",
              "    </tr>\n",
              "    <tr>\n",
              "      <th>mean</th>\n",
              "      <td>0.162147</td>\n",
              "      <td>32.371149</td>\n",
              "      <td>64.761692</td>\n",
              "    </tr>\n",
              "    <tr>\n",
              "      <th>std</th>\n",
              "      <td>0.368612</td>\n",
              "      <td>24.559481</td>\n",
              "      <td>30.090047</td>\n",
              "    </tr>\n",
              "    <tr>\n",
              "      <th>min</th>\n",
              "      <td>0.000000</td>\n",
              "      <td>0.000000</td>\n",
              "      <td>18.250000</td>\n",
              "    </tr>\n",
              "    <tr>\n",
              "      <th>25%</th>\n",
              "      <td>0.000000</td>\n",
              "      <td>9.000000</td>\n",
              "      <td>35.500000</td>\n",
              "    </tr>\n",
              "    <tr>\n",
              "      <th>50%</th>\n",
              "      <td>0.000000</td>\n",
              "      <td>29.000000</td>\n",
              "      <td>70.350000</td>\n",
              "    </tr>\n",
              "    <tr>\n",
              "      <th>75%</th>\n",
              "      <td>0.000000</td>\n",
              "      <td>55.000000</td>\n",
              "      <td>89.850000</td>\n",
              "    </tr>\n",
              "    <tr>\n",
              "      <th>max</th>\n",
              "      <td>1.000000</td>\n",
              "      <td>72.000000</td>\n",
              "      <td>118.750000</td>\n",
              "    </tr>\n",
              "  </tbody>\n",
              "</table>\n",
              "</div>\n",
              "      <button class=\"colab-df-convert\" onclick=\"convertToInteractive('df-f9bef634-c2a9-43ab-b077-ed9e98913ea4')\"\n",
              "              title=\"Convert this dataframe to an interactive table.\"\n",
              "              style=\"display:none;\">\n",
              "        \n",
              "  <svg xmlns=\"http://www.w3.org/2000/svg\" height=\"24px\"viewBox=\"0 0 24 24\"\n",
              "       width=\"24px\">\n",
              "    <path d=\"M0 0h24v24H0V0z\" fill=\"none\"/>\n",
              "    <path d=\"M18.56 5.44l.94 2.06.94-2.06 2.06-.94-2.06-.94-.94-2.06-.94 2.06-2.06.94zm-11 1L8.5 8.5l.94-2.06 2.06-.94-2.06-.94L8.5 2.5l-.94 2.06-2.06.94zm10 10l.94 2.06.94-2.06 2.06-.94-2.06-.94-.94-2.06-.94 2.06-2.06.94z\"/><path d=\"M17.41 7.96l-1.37-1.37c-.4-.4-.92-.59-1.43-.59-.52 0-1.04.2-1.43.59L10.3 9.45l-7.72 7.72c-.78.78-.78 2.05 0 2.83L4 21.41c.39.39.9.59 1.41.59.51 0 1.02-.2 1.41-.59l7.78-7.78 2.81-2.81c.8-.78.8-2.07 0-2.86zM5.41 20L4 18.59l7.72-7.72 1.47 1.35L5.41 20z\"/>\n",
              "  </svg>\n",
              "      </button>\n",
              "      \n",
              "  <style>\n",
              "    .colab-df-container {\n",
              "      display:flex;\n",
              "      flex-wrap:wrap;\n",
              "      gap: 12px;\n",
              "    }\n",
              "\n",
              "    .colab-df-convert {\n",
              "      background-color: #E8F0FE;\n",
              "      border: none;\n",
              "      border-radius: 50%;\n",
              "      cursor: pointer;\n",
              "      display: none;\n",
              "      fill: #1967D2;\n",
              "      height: 32px;\n",
              "      padding: 0 0 0 0;\n",
              "      width: 32px;\n",
              "    }\n",
              "\n",
              "    .colab-df-convert:hover {\n",
              "      background-color: #E2EBFA;\n",
              "      box-shadow: 0px 1px 2px rgba(60, 64, 67, 0.3), 0px 1px 3px 1px rgba(60, 64, 67, 0.15);\n",
              "      fill: #174EA6;\n",
              "    }\n",
              "\n",
              "    [theme=dark] .colab-df-convert {\n",
              "      background-color: #3B4455;\n",
              "      fill: #D2E3FC;\n",
              "    }\n",
              "\n",
              "    [theme=dark] .colab-df-convert:hover {\n",
              "      background-color: #434B5C;\n",
              "      box-shadow: 0px 1px 3px 1px rgba(0, 0, 0, 0.15);\n",
              "      filter: drop-shadow(0px 1px 2px rgba(0, 0, 0, 0.3));\n",
              "      fill: #FFFFFF;\n",
              "    }\n",
              "  </style>\n",
              "\n",
              "      <script>\n",
              "        const buttonEl =\n",
              "          document.querySelector('#df-f9bef634-c2a9-43ab-b077-ed9e98913ea4 button.colab-df-convert');\n",
              "        buttonEl.style.display =\n",
              "          google.colab.kernel.accessAllowed ? 'block' : 'none';\n",
              "\n",
              "        async function convertToInteractive(key) {\n",
              "          const element = document.querySelector('#df-f9bef634-c2a9-43ab-b077-ed9e98913ea4');\n",
              "          const dataTable =\n",
              "            await google.colab.kernel.invokeFunction('convertToInteractive',\n",
              "                                                     [key], {});\n",
              "          if (!dataTable) return;\n",
              "\n",
              "          const docLinkHtml = 'Like what you see? Visit the ' +\n",
              "            '<a target=\"_blank\" href=https://colab.research.google.com/notebooks/data_table.ipynb>data table notebook</a>'\n",
              "            + ' to learn more about interactive tables.';\n",
              "          element.innerHTML = '';\n",
              "          dataTable['output_type'] = 'display_data';\n",
              "          await google.colab.output.renderOutput(dataTable, element);\n",
              "          const docLink = document.createElement('div');\n",
              "          docLink.innerHTML = docLinkHtml;\n",
              "          element.appendChild(docLink);\n",
              "        }\n",
              "      </script>\n",
              "    </div>\n",
              "  </div>\n",
              "  "
            ],
            "text/plain": [
              "       SeniorCitizen       tenure  MonthlyCharges\n",
              "count    7043.000000  7043.000000     7043.000000\n",
              "mean        0.162147    32.371149       64.761692\n",
              "std         0.368612    24.559481       30.090047\n",
              "min         0.000000     0.000000       18.250000\n",
              "25%         0.000000     9.000000       35.500000\n",
              "50%         0.000000    29.000000       70.350000\n",
              "75%         0.000000    55.000000       89.850000\n",
              "max         1.000000    72.000000      118.750000"
            ]
          },
          "metadata": {},
          "execution_count": 8
        }
      ]
    },
    {
      "cell_type": "code",
      "source": [
        "dataset.isnull().sum()"
      ],
      "metadata": {
        "colab": {
          "base_uri": "https://localhost:8080/"
        },
        "id": "FH3WRR9PZNrz",
        "outputId": "74d51fab-8f74-4924-8141-bfe54a6ee0e7"
      },
      "execution_count": 9,
      "outputs": [
        {
          "output_type": "execute_result",
          "data": {
            "text/plain": [
              "customerID          0\n",
              "gender              0\n",
              "SeniorCitizen       0\n",
              "Partner             0\n",
              "Dependents          0\n",
              "tenure              0\n",
              "PhoneService        0\n",
              "MultipleLines       0\n",
              "InternetService     0\n",
              "OnlineSecurity      0\n",
              "OnlineBackup        0\n",
              "DeviceProtection    0\n",
              "TechSupport         0\n",
              "StreamingTV         0\n",
              "StreamingMovies     0\n",
              "Contract            0\n",
              "PaperlessBilling    0\n",
              "PaymentMethod       0\n",
              "MonthlyCharges      0\n",
              "TotalCharges        0\n",
              "Churn               0\n",
              "dtype: int64"
            ]
          },
          "metadata": {},
          "execution_count": 9
        }
      ]
    },
    {
      "cell_type": "code",
      "source": [
        "dataset.duplicated().sum()"
      ],
      "metadata": {
        "colab": {
          "base_uri": "https://localhost:8080/"
        },
        "id": "yzGkvqioaesm",
        "outputId": "96dfa875-1eb4-403f-c4c7-861f395a03c1"
      },
      "execution_count": 10,
      "outputs": [
        {
          "output_type": "execute_result",
          "data": {
            "text/plain": [
              "0"
            ]
          },
          "metadata": {},
          "execution_count": 10
        }
      ]
    },
    {
      "cell_type": "code",
      "source": [
        "dataset.skew()"
      ],
      "metadata": {
        "colab": {
          "base_uri": "https://localhost:8080/"
        },
        "id": "7gqRElKMa-Id",
        "outputId": "ed2b29ff-694b-4b46-de04-6f09fd5323d9"
      },
      "execution_count": 11,
      "outputs": [
        {
          "output_type": "execute_result",
          "data": {
            "text/plain": [
              "SeniorCitizen     1.833633\n",
              "tenure            0.239540\n",
              "MonthlyCharges   -0.220524\n",
              "Churn             1.063031\n",
              "dtype: float64"
            ]
          },
          "metadata": {},
          "execution_count": 11
        }
      ]
    },
    {
      "cell_type": "markdown",
      "source": [
        ""
      ],
      "metadata": {
        "id": "AVs80hcqrbQe"
      }
    },
    {
      "cell_type": "code",
      "source": [
        "dataset.corr()"
      ],
      "metadata": {
        "colab": {
          "base_uri": "https://localhost:8080/",
          "height": 143
        },
        "id": "gBq7BxixBzHz",
        "outputId": "ca469d9b-475c-489a-cb65-c8dafa820f8c"
      },
      "execution_count": 12,
      "outputs": [
        {
          "output_type": "execute_result",
          "data": {
            "text/html": [
              "\n",
              "  <div id=\"df-45e5f2ad-89d2-4044-b3c3-5326083c6308\">\n",
              "    <div class=\"colab-df-container\">\n",
              "      <div>\n",
              "<style scoped>\n",
              "    .dataframe tbody tr th:only-of-type {\n",
              "        vertical-align: middle;\n",
              "    }\n",
              "\n",
              "    .dataframe tbody tr th {\n",
              "        vertical-align: top;\n",
              "    }\n",
              "\n",
              "    .dataframe thead th {\n",
              "        text-align: right;\n",
              "    }\n",
              "</style>\n",
              "<table border=\"1\" class=\"dataframe\">\n",
              "  <thead>\n",
              "    <tr style=\"text-align: right;\">\n",
              "      <th></th>\n",
              "      <th>SeniorCitizen</th>\n",
              "      <th>tenure</th>\n",
              "      <th>MonthlyCharges</th>\n",
              "    </tr>\n",
              "  </thead>\n",
              "  <tbody>\n",
              "    <tr>\n",
              "      <th>SeniorCitizen</th>\n",
              "      <td>1.000000</td>\n",
              "      <td>0.016567</td>\n",
              "      <td>0.220173</td>\n",
              "    </tr>\n",
              "    <tr>\n",
              "      <th>tenure</th>\n",
              "      <td>0.016567</td>\n",
              "      <td>1.000000</td>\n",
              "      <td>0.247900</td>\n",
              "    </tr>\n",
              "    <tr>\n",
              "      <th>MonthlyCharges</th>\n",
              "      <td>0.220173</td>\n",
              "      <td>0.247900</td>\n",
              "      <td>1.000000</td>\n",
              "    </tr>\n",
              "  </tbody>\n",
              "</table>\n",
              "</div>\n",
              "      <button class=\"colab-df-convert\" onclick=\"convertToInteractive('df-45e5f2ad-89d2-4044-b3c3-5326083c6308')\"\n",
              "              title=\"Convert this dataframe to an interactive table.\"\n",
              "              style=\"display:none;\">\n",
              "        \n",
              "  <svg xmlns=\"http://www.w3.org/2000/svg\" height=\"24px\"viewBox=\"0 0 24 24\"\n",
              "       width=\"24px\">\n",
              "    <path d=\"M0 0h24v24H0V0z\" fill=\"none\"/>\n",
              "    <path d=\"M18.56 5.44l.94 2.06.94-2.06 2.06-.94-2.06-.94-.94-2.06-.94 2.06-2.06.94zm-11 1L8.5 8.5l.94-2.06 2.06-.94-2.06-.94L8.5 2.5l-.94 2.06-2.06.94zm10 10l.94 2.06.94-2.06 2.06-.94-2.06-.94-.94-2.06-.94 2.06-2.06.94z\"/><path d=\"M17.41 7.96l-1.37-1.37c-.4-.4-.92-.59-1.43-.59-.52 0-1.04.2-1.43.59L10.3 9.45l-7.72 7.72c-.78.78-.78 2.05 0 2.83L4 21.41c.39.39.9.59 1.41.59.51 0 1.02-.2 1.41-.59l7.78-7.78 2.81-2.81c.8-.78.8-2.07 0-2.86zM5.41 20L4 18.59l7.72-7.72 1.47 1.35L5.41 20z\"/>\n",
              "  </svg>\n",
              "      </button>\n",
              "      \n",
              "  <style>\n",
              "    .colab-df-container {\n",
              "      display:flex;\n",
              "      flex-wrap:wrap;\n",
              "      gap: 12px;\n",
              "    }\n",
              "\n",
              "    .colab-df-convert {\n",
              "      background-color: #E8F0FE;\n",
              "      border: none;\n",
              "      border-radius: 50%;\n",
              "      cursor: pointer;\n",
              "      display: none;\n",
              "      fill: #1967D2;\n",
              "      height: 32px;\n",
              "      padding: 0 0 0 0;\n",
              "      width: 32px;\n",
              "    }\n",
              "\n",
              "    .colab-df-convert:hover {\n",
              "      background-color: #E2EBFA;\n",
              "      box-shadow: 0px 1px 2px rgba(60, 64, 67, 0.3), 0px 1px 3px 1px rgba(60, 64, 67, 0.15);\n",
              "      fill: #174EA6;\n",
              "    }\n",
              "\n",
              "    [theme=dark] .colab-df-convert {\n",
              "      background-color: #3B4455;\n",
              "      fill: #D2E3FC;\n",
              "    }\n",
              "\n",
              "    [theme=dark] .colab-df-convert:hover {\n",
              "      background-color: #434B5C;\n",
              "      box-shadow: 0px 1px 3px 1px rgba(0, 0, 0, 0.15);\n",
              "      filter: drop-shadow(0px 1px 2px rgba(0, 0, 0, 0.3));\n",
              "      fill: #FFFFFF;\n",
              "    }\n",
              "  </style>\n",
              "\n",
              "      <script>\n",
              "        const buttonEl =\n",
              "          document.querySelector('#df-45e5f2ad-89d2-4044-b3c3-5326083c6308 button.colab-df-convert');\n",
              "        buttonEl.style.display =\n",
              "          google.colab.kernel.accessAllowed ? 'block' : 'none';\n",
              "\n",
              "        async function convertToInteractive(key) {\n",
              "          const element = document.querySelector('#df-45e5f2ad-89d2-4044-b3c3-5326083c6308');\n",
              "          const dataTable =\n",
              "            await google.colab.kernel.invokeFunction('convertToInteractive',\n",
              "                                                     [key], {});\n",
              "          if (!dataTable) return;\n",
              "\n",
              "          const docLinkHtml = 'Like what you see? Visit the ' +\n",
              "            '<a target=\"_blank\" href=https://colab.research.google.com/notebooks/data_table.ipynb>data table notebook</a>'\n",
              "            + ' to learn more about interactive tables.';\n",
              "          element.innerHTML = '';\n",
              "          dataTable['output_type'] = 'display_data';\n",
              "          await google.colab.output.renderOutput(dataTable, element);\n",
              "          const docLink = document.createElement('div');\n",
              "          docLink.innerHTML = docLinkHtml;\n",
              "          element.appendChild(docLink);\n",
              "        }\n",
              "      </script>\n",
              "    </div>\n",
              "  </div>\n",
              "  "
            ],
            "text/plain": [
              "                SeniorCitizen    tenure  MonthlyCharges\n",
              "SeniorCitizen        1.000000  0.016567        0.220173\n",
              "tenure               0.016567  1.000000        0.247900\n",
              "MonthlyCharges       0.220173  0.247900        1.000000"
            ]
          },
          "metadata": {},
          "execution_count": 12
        }
      ]
    },
    {
      "cell_type": "code",
      "source": [
        "sns.heatmap(dataset.corr(),annot=True, cmap='crest')\n",
        "plt.title('Heat Map Showing Correlation Between Different Numerical Regressors')\n",
        "plt.show()"
      ],
      "metadata": {
        "colab": {
          "base_uri": "https://localhost:8080/",
          "height": 281
        },
        "id": "9-I9roSy2zR8",
        "outputId": "f9d43427-688d-485e-fca4-2e54de3c706e"
      },
      "execution_count": 13,
      "outputs": [
        {
          "output_type": "display_data",
          "data": {
            "image/png": "[encoded data removed]",
            "text/plain": [
              "<Figure size 432x288 with 2 Axes>"
            ]
          },
          "metadata": {
            "needs_background": "light"
          }
        }
      ]
    },
    {
      "cell_type": "markdown",
      "source": [
        "Making a plot of tenure"
      ],
      "metadata": {
        "id": "dnNhS1l-0U6K"
      }
    },
    {
      "cell_type": "code",
      "source": [
        "from matplotlib import rcParams\n",
        "sns.histplot(dataset, x=\"tenure\", kde = True, color= 'seagreen')\n",
        "rcParams['figure.figsize'] = 10,7\n",
        "plt.title('Tenure')\n",
        "plt.show()"
      ],
      "metadata": {
        "colab": {
          "base_uri": "https://localhost:8080/",
          "height": 458
        },
        "id": "2-xLIsYckSBj",
        "outputId": "82096849-c944-4401-d4e3-97824bf2ed04"
      },
      "execution_count": 15,
      "outputs": [
        {
          "output_type": "display_data",
          "data": {
            "image/png": "[encoded data removed]",
            "text/plain": [
              "<Figure size 720x504 with 1 Axes>"
            ]
          },
          "metadata": {
            "needs_background": "light"
          }
        }
      ]
    },
    {
      "cell_type": "markdown",
      "source": [
        "What Proportion Of Customers are Senior Citizen?\n"
      ],
      "metadata": {
        "id": "Nb_Iza_j0cLv"
      }
    },
    {
      "cell_type": "code",
      "source": [
        "ax = sns.countplot(x=\"SeniorCitizen\", data=dataset)\n",
        "for p in ax.patches:\n",
        "    ax.annotate('{:.2f}'.format(p.get_height()), (p.get_x()+0.15, p.get_height()+1))\n",
        "sns.set(rc={'figure.figsize':(7,7)})\n",
        "plt.title('Senior Citizenship Status Quo')\n",
        "plt.show()"
      ],
      "metadata": {
        "colab": {
          "base_uri": "https://localhost:8080/",
          "height": 458
        },
        "id": "DKeZuRt8rleo",
        "outputId": "86822a74-1a7c-4966-9fbd-a48e27b90ff1"
      },
      "execution_count": 16,
      "outputs": [
        {
          "output_type": "display_data",
          "data": {
            "image/png": "[encoded data removed]",
            "text/plain": [
              "<Figure size 720x504 with 1 Axes>"
            ]
          },
          "metadata": {
            "needs_background": "light"
          }
        }
      ]
    },
    {
      "cell_type": "code",
      "source": [
        "citizen_data= dataset.SeniorCitizen.value_counts()\n",
        "print(citizen_data)\n",
        "\n",
        "#Visualization\n",
        "plt.pie(citizen_data,labels=['No','Yes'],colors=['steelblue','skyblue'],shadow=True,autopct=\"%.1f%%\")\n",
        "plt.title('Senior Citizenship Proprtion')\n",
        "plt.show()"
      ],
      "metadata": {
        "colab": {
          "base_uri": "https://localhost:8080/",
          "height": 479
        },
        "id": "nJAMrPMM0iG1",
        "outputId": "8a1e4111-77f5-400f-cf8d-f2257921e689"
      },
      "execution_count": 17,
      "outputs": [
        {
          "output_type": "stream",
          "name": "stdout",
          "text": [
            "0    5901\n",
            "1    1142\n",
            "Name: SeniorCitizen, dtype: int64\n"
          ]
        },
        {
          "output_type": "display_data",
          "data": {
            "image/png": "[encoded data removed]",
            "text/plain": [
              "<Figure size 504x504 with 1 Axes>"
            ]
          },
          "metadata": {}
        }
      ]
    },
    {
      "cell_type": "markdown",
      "source": [
        "Monthly Charges Distribution"
      ],
      "metadata": {
        "id": "yYDmCDKh0pml"
      }
    },
    {
      "cell_type": "code",
      "source": [
        "sns.histplot(dataset, x=\"MonthlyCharges\", kde = True)\n",
        "plt.title('Monthly Charges Distribution')\n",
        "plt.show()"
      ],
      "metadata": {
        "colab": {
          "base_uri": "https://localhost:8080/",
          "height": 464
        },
        "id": "PfJvlFZson0J",
        "outputId": "cbcd030d-f243-4a2e-9e13-0a86abb65946"
      },
      "execution_count": 19,
      "outputs": [
        {
          "output_type": "display_data",
          "data": {
            "image/png": "[encoded data removed]",
            "text/plain": [
              "<Figure size 504x504 with 1 Axes>"
            ]
          },
          "metadata": {}
        }
      ]
    },
    {
      "cell_type": "markdown",
      "source": [
        "Visualizing The Gender Diversity Among Customers\n"
      ],
      "metadata": {
        "id": "swM9nSzUZWMT"
      }
    },
    {
      "cell_type": "code",
      "source": [
        "gender_data= dataset.gender.value_counts()\n",
        "print(gender_data)"
      ],
      "metadata": {
        "colab": {
          "base_uri": "https://localhost:8080/"
        },
        "id": "CtC9k2-AvRQh",
        "outputId": "bc2d0fbe-2b3a-4051-df93-5f95a5577d8d"
      },
      "execution_count": 20,
      "outputs": [
        {
          "output_type": "stream",
          "name": "stdout",
          "text": [
            "Male      3555\n",
            "Female    3488\n",
            "Name: gender, dtype: int64\n"
          ]
        }
      ]
    },
    {
      "cell_type": "code",
      "source": [
        "#Visualization\n",
        "plt.pie(gender_data,labels=['Male','Female'],colors=['skyblue','steelblue'],shadow=True,autopct=\"%.1f%%\")\n",
        "plt.title('Gender Proportion')\n",
        "plt.show()"
      ],
      "metadata": {
        "colab": {
          "base_uri": "https://localhost:8080/",
          "height": 427
        },
        "id": "KgWfHiPBLnKS",
        "outputId": "7f2a140b-cbee-445e-c9a6-ca85416d3f9f"
      },
      "execution_count": 21,
      "outputs": [
        {
          "output_type": "display_data",
          "data": {
            "image/png": "[encoded data removed]",
            "text/plain": [
              "<Figure size 504x504 with 1 Axes>"
            ]
          },
          "metadata": {}
        }
      ]
    },
    {
      "cell_type": "markdown",
      "source": [
        "Customers : With or Without Partners!"
      ],
      "metadata": {
        "id": "tZXAgun7n3w0"
      }
    },
    {
      "cell_type": "code",
      "source": [
        "partnership= dataset.Partner.value_counts()\n",
        "print(partnership)\n",
        "\n",
        "#Visualization\n",
        "plt.pie(partnership,labels=['No','Yes'],colors=['skyblue','steelblue'],shadow=True,autopct=\"%.1f%%\")\n",
        "plt.title('Partners: Yes or No')\n",
        "plt.show()"
      ],
      "metadata": {
        "colab": {
          "base_uri": "https://localhost:8080/",
          "height": 479
        },
        "id": "rdphU8d4MUTV",
        "outputId": "2b2ab266-0450-40d6-e3bd-e2f2de909b9c"
      },
      "execution_count": 22,
      "outputs": [
        {
          "output_type": "stream",
          "name": "stdout",
          "text": [
            "No     3641\n",
            "Yes    3402\n",
            "Name: Partner, dtype: int64\n"
          ]
        },
        {
          "output_type": "display_data",
          "data": {
            "image/png": "[encoded data removed]",
            "text/plain": [
              "<Figure size 504x504 with 1 Axes>"
            ]
          },
          "metadata": {}
        }
      ]
    },
    {
      "cell_type": "markdown",
      "source": [
        "Customers : With or Without Dependents!"
      ],
      "metadata": {
        "id": "MW3OilePXIbf"
      }
    },
    {
      "cell_type": "code",
      "source": [
        "dp= dataset.Dependents.value_counts()\n",
        "print(dp)\n",
        "\n",
        "#Visualization\n",
        "plt.pie(dp,labels=['No','Yes'],colors=['skyblue','steelblue'],shadow=True,autopct=\"%.1f%%\")\n",
        "plt.title('Dependents: Yes or No')\n",
        "plt.show()"
      ],
      "metadata": {
        "colab": {
          "base_uri": "https://localhost:8080/",
          "height": 479
        },
        "id": "nGY2vavpXG7e",
        "outputId": "b6d005d4-5618-4ea8-bbea-d6c6162f1c5f"
      },
      "execution_count": 33,
      "outputs": [
        {
          "output_type": "stream",
          "name": "stdout",
          "text": [
            "No     4933\n",
            "Yes    2110\n",
            "Name: Dependents, dtype: int64\n"
          ]
        },
        {
          "output_type": "display_data",
          "data": {
            "image/png": "[encoded data removed]",
            "text/plain": [
              "<Figure size 504x504 with 1 Axes>"
            ]
          },
          "metadata": {}
        }
      ]
    },
    {
      "cell_type": "code",
      "source": [
        "#Visualization\n",
        "ax = sns.catplot(x='Dependents',hue = 'Churn',data=dataset,kind='count',palette='mako')\n",
        "plt.title('Dependents Proportion ')\n",
        "plt.show()"
      ],
      "metadata": {
        "colab": {
          "base_uri": "https://localhost:8080/",
          "height": 381
        },
        "id": "R6_TMHnmYMSU",
        "outputId": "60f05ce6-b6d2-4a6d-fbd2-53cc2dd548f8"
      },
      "execution_count": 34,
      "outputs": [
        {
          "output_type": "display_data",
          "data": {
            "image/png": "[encoded data removed]",
            "text/plain": [
              "<Figure size 406.6x360 with 1 Axes>"
            ]
          },
          "metadata": {}
        }
      ]
    },
    {
      "cell_type": "markdown",
      "source": [
        "Churn rate based on Senior Citizenship"
      ],
      "metadata": {
        "id": "paHUPUEM07YX"
      }
    },
    {
      "cell_type": "code",
      "source": [
        "ax = sns.catplot(x='SeniorCitizen',hue = 'Churn',data=dataset,kind='count',palette='mako')\n",
        "plt.title('Senior Citizenship Proportion ')\n",
        "plt.show()"
      ],
      "metadata": {
        "colab": {
          "base_uri": "https://localhost:8080/",
          "height": 381
        },
        "id": "kY71uzG7iJXC",
        "outputId": "ab09f477-cfc9-4130-beb3-185a94d8273f"
      },
      "execution_count": 23,
      "outputs": [
        {
          "output_type": "display_data",
          "data": {
            "image/png": "[encoded data removed]",
            "text/plain": [
              "<Figure size 406.6x360 with 1 Axes>"
            ]
          },
          "metadata": {}
        }
      ]
    },
    {
      "cell_type": "markdown",
      "source": [
        "Churn rate based on PhoneService \n"
      ],
      "metadata": {
        "id": "AyDd8CsRZhYa"
      }
    },
    {
      "cell_type": "code",
      "source": [
        "sns.catplot(x='PhoneService', hue = 'Churn',data=dataset,kind='count',palette='mako')\n",
        "plt.title('Phone Service')\n",
        "plt.show()"
      ],
      "metadata": {
        "colab": {
          "base_uri": "https://localhost:8080/",
          "height": 381
        },
        "id": "XzGbJCOiSfHJ",
        "outputId": "03d9d44b-b906-4d26-a005-95e3c9302ffd"
      },
      "execution_count": 24,
      "outputs": [
        {
          "output_type": "display_data",
          "data": {
            "image/png": "[encoded data removed]",
            "text/plain": [
              "<Figure size 406.6x360 with 1 Axes>"
            ]
          },
          "metadata": {}
        }
      ]
    },
    {
      "cell_type": "markdown",
      "source": [
        "Churn rate based on InternetService Among Customers\n"
      ],
      "metadata": {
        "id": "3tIbKCuReHBb"
      }
    },
    {
      "cell_type": "code",
      "source": [
        "sns.catplot(x='InternetService', hue = 'Churn',data=dataset,kind='count',palette='mako')\n",
        "plt.title('Internet Service')\n",
        "plt.show()"
      ],
      "metadata": {
        "colab": {
          "base_uri": "https://localhost:8080/",
          "height": 381
        },
        "id": "Jy57Jev_X0tE",
        "outputId": "07d9ec88-1b9d-4b13-8ecc-8c77e7d7f437"
      },
      "execution_count": 25,
      "outputs": [
        {
          "output_type": "display_data",
          "data": {
            "image/png": "[encoded data removed]",
            "text/plain": [
              "<Figure size 406.6x360 with 1 Axes>"
            ]
          },
          "metadata": {}
        }
      ]
    },
    {
      "cell_type": "code",
      "source": [
        "Service_Type_data= dataset.InternetService.value_counts()\n",
        "print(Service_Type_data)\n",
        "\n",
        "#Visualization\n",
        "plt.pie(Service_Type_data,labels=['Fiber Optic','DSL','No Service'],colors=['palegreen','seagreen','mediumseagreen'],shadow=True,autopct=\"%.1f%%\")\n",
        "plt.title('Types Of Internet Services')\n",
        "plt.show()"
      ],
      "metadata": {
        "colab": {
          "base_uri": "https://localhost:8080/",
          "height": 497
        },
        "id": "6ZUrGJdw2K_b",
        "outputId": "d9c8cea4-3261-4866-f57d-772d026f16c5"
      },
      "execution_count": 27,
      "outputs": [
        {
          "output_type": "stream",
          "name": "stdout",
          "text": [
            "Fiber optic    3096\n",
            "DSL            2421\n",
            "No             1526\n",
            "Name: InternetService, dtype: int64\n"
          ]
        },
        {
          "output_type": "display_data",
          "data": {
            "image/png": "[encoded data removed]",
            "text/plain": [
              "<Figure size 504x504 with 1 Axes>"
            ]
          },
          "metadata": {}
        }
      ]
    },
    {
      "cell_type": "markdown",
      "source": [
        "Churn rate based on Payment Method Adopted By Customers"
      ],
      "metadata": {
        "id": "_xNa-buif2bK"
      }
    },
    {
      "cell_type": "code",
      "source": [
        "chart = sns.catplot(x='PaymentMethod', hue = 'Churn',data=dataset,kind='count',palette='mako')\n",
        "plt.title('Payment Method')\n",
        "plt.xticks(\n",
        "    rotation=45, \n",
        "    horizontalalignment='right',\n",
        "    fontweight='light',  \n",
        ")\n",
        "plt.show()"
      ],
      "metadata": {
        "colab": {
          "base_uri": "https://localhost:8080/",
          "height": 479
        },
        "id": "yD_B2vM7a8ZG",
        "outputId": "7ea49632-50e7-4ebf-f8d6-fb0c16269c03"
      },
      "execution_count": 28,
      "outputs": [
        {
          "output_type": "display_data",
          "data": {
            "image/png": "[encoded data removed]",
            "text/plain": [
              "<Figure size 406.6x360 with 1 Axes>"
            ]
          },
          "metadata": {}
        }
      ]
    },
    {
      "cell_type": "code",
      "source": [
        "payment_data= dataset.PaymentMethod.value_counts()\n",
        "print(payment_data)\n",
        "\n",
        "#Visualization\n",
        "plt.pie(payment_data,labels=['Electronic Check','Mailed Check','Bank Transfer','Credit Card'],colors=['darkcyan','lightseagreen','paleturquoise','lightcyan'],shadow=True,autopct=\"%.1f%%\")\n",
        "plt.title('Payment Method Market Share')\n",
        "plt.show()\n"
      ],
      "metadata": {
        "colab": {
          "base_uri": "https://localhost:8080/",
          "height": 514
        },
        "id": "drs97fAX1U6z",
        "outputId": "b91bad5f-c4fb-4e73-87ef-bd5ca8c1b532"
      },
      "execution_count": 29,
      "outputs": [
        {
          "output_type": "stream",
          "name": "stdout",
          "text": [
            "Electronic check             2365\n",
            "Mailed check                 1612\n",
            "Bank transfer (automatic)    1544\n",
            "Credit card (automatic)      1522\n",
            "Name: PaymentMethod, dtype: int64\n"
          ]
        },
        {
          "output_type": "display_data",
          "data": {
            "image/png": "[encoded data removed]",
            "text/plain": [
              "<Figure size 504x504 with 1 Axes>"
            ]
          },
          "metadata": {}
        }
      ]
    },
    {
      "cell_type": "markdown",
      "source": [
        "Analyzing The Various Contract Types Among Customers"
      ],
      "metadata": {
        "id": "qR3rjjIgkGTd"
      }
    },
    {
      "cell_type": "code",
      "source": [
        "contract_data= dataset.Contract.value_counts()\n",
        "print(contract_data)\n",
        "\n",
        "#Visualization\n",
        "plt.pie(contract_data,labels=['Month-to-month','Two year','One year'],colors=['indianred','rosybrown','coral'],shadow=True,autopct=\"%.1f%%\")\n",
        "plt.title('Payment Method Market Share')\n",
        "plt.show()"
      ],
      "metadata": {
        "colab": {
          "base_uri": "https://localhost:8080/",
          "height": 497
        },
        "id": "WVhvaIhCjZWM",
        "outputId": "ebfff3a7-f5b4-4f7f-a86d-58b6c8ad6529"
      },
      "execution_count": 30,
      "outputs": [
        {
          "output_type": "stream",
          "name": "stdout",
          "text": [
            "Month-to-month    3875\n",
            "Two year          1695\n",
            "One year          1473\n",
            "Name: Contract, dtype: int64\n"
          ]
        },
        {
          "output_type": "display_data",
          "data": {
            "image/png": "[encoded data removed]",
            "text/plain": [
              "<Figure size 504x504 with 1 Axes>"
            ]
          },
          "metadata": {}
        }
      ]
    },
    {
      "cell_type": "markdown",
      "source": [
        "# Analysing Numerical Data"
      ],
      "metadata": {
        "id": "53us_aW9MLrW"
      }
    },
    {
      "cell_type": "code",
      "source": [
        "dataset['StreamingMovies'].value_counts()\n",
        "sns.countplot(x=\"StreamingMovies\", data=dataset)"
      ],
      "metadata": {
        "colab": {
          "base_uri": "https://localhost:8080/",
          "height": 465
        },
        "id": "LwAE4eOlKUmA",
        "outputId": "7e718faa-ceae-477f-b677-d0ad793b8e51"
      },
      "execution_count": 35,
      "outputs": [
        {
          "output_type": "execute_result",
          "data": {
            "text/plain": [
              "<matplotlib.axes._subplots.AxesSubplot at 0x7f8a95e82ed0>"
            ]
          },
          "metadata": {},
          "execution_count": 35
        },
        {
          "output_type": "display_data",
          "data": {
            "image/png": "[encoded data removed]",
            "text/plain": [
              "<Figure size 504x504 with 1 Axes>"
            ]
          },
          "metadata": {}
        }
      ]
    },
    {
      "cell_type": "code",
      "source": [
        "dataset['Churn'].value_counts()\n",
        "sns.countplot(x=\"Churn\", data=dataset)"
      ],
      "metadata": {
        "colab": {
          "base_uri": "https://localhost:8080/",
          "height": 465
        },
        "id": "gjnkp4nwJlEf",
        "outputId": "b8cb4717-b8de-42c3-8694-20a7c53920e0"
      },
      "execution_count": 36,
      "outputs": [
        {
          "output_type": "execute_result",
          "data": {
            "text/plain": [
              "<matplotlib.axes._subplots.AxesSubplot at 0x7f8a95e4a550>"
            ]
          },
          "metadata": {},
          "execution_count": 36
        },
        {
          "output_type": "display_data",
          "data": {
            "image/png": "[encoded data removed]",
            "text/plain": [
              "<Figure size 504x504 with 1 Axes>"
            ]
          },
          "metadata": {}
        }
      ]
    },
    {
      "cell_type": "code",
      "source": [
        "churn_data= dataset.Churn.value_counts()\n",
        "print(churn_data)\n",
        "plt.pie(churn_data,labels=['No','Yes'],colors=['steelblue','skyblue'],shadow=True,autopct=\"%.1f%%\")\n",
        "plt.title('Churn Analysis')\n",
        "plt.show()"
      ],
      "metadata": {
        "colab": {
          "base_uri": "https://localhost:8080/",
          "height": 479
        },
        "id": "GYbFBGUlhdg_",
        "outputId": "a8b5743c-fb56-4d04-9d4d-237f844a48fc"
      },
      "execution_count": 37,
      "outputs": [
        {
          "output_type": "stream",
          "name": "stdout",
          "text": [
            "0    5174\n",
            "1    1869\n",
            "Name: Churn, dtype: int64\n"
          ]
        },
        {
          "output_type": "display_data",
          "data": {
            "image/png": "[encoded data removed]",
            "text/plain": [
              "<Figure size 504x504 with 1 Axes>"
            ]
          },
          "metadata": {}
        }
      ]
    },
    {
      "cell_type": "markdown",
      "source": [
        "# Data Cleaning"
      ],
      "metadata": {
        "id": "rWm2GiSGFoch"
      }
    },
    {
      "cell_type": "code",
      "source": [
        "dataset[\"TotalCharges\"] = pd.to_numeric(dataset['TotalCharges'],errors = 'coerce')"
      ],
      "metadata": {
        "id": "UXuJkxZxFVL2"
      },
      "execution_count": 39,
      "outputs": []
    },
    {
      "cell_type": "code",
      "source": [
        "dataset.drop(['customerID'],axis = 1,inplace = True)"
      ],
      "metadata": {
        "id": "vJxMDHrgKTTa"
      },
      "execution_count": 40,
      "outputs": []
    },
    {
      "cell_type": "code",
      "source": [
        "dataset.head(3)"
      ],
      "metadata": {
        "colab": {
          "base_uri": "https://localhost:8080/",
          "height": 242
        },
        "id": "MM-XI2gWBaEu",
        "outputId": "e59c6e60-9fde-41ae-e5a5-299a12138dfc"
      },
      "execution_count": 41,
      "outputs": [
        {
          "output_type": "execute_result",
          "data": {
            "text/html": [
              "\n",
              "  <div id=\"df-3eb9b324-1ad7-4bfb-8d04-fc94c22f45af\">\n",
              "    <div class=\"colab-df-container\">\n",
              "      <div>\n",
              "<style scoped>\n",
              "    .dataframe tbody tr th:only-of-type {\n",
              "        vertical-align: middle;\n",
              "    }\n",
              "\n",
              "    .dataframe tbody tr th {\n",
              "        vertical-align: top;\n",
              "    }\n",
              "\n",
              "    .dataframe thead th {\n",
              "        text-align: right;\n",
              "    }\n",
              "</style>\n",
              "<table border=\"1\" class=\"dataframe\">\n",
              "  <thead>\n",
              "    <tr style=\"text-align: right;\">\n",
              "      <th></th>\n",
              "      <th>gender</th>\n",
              "      <th>SeniorCitizen</th>\n",
              "      <th>Partner</th>\n",
              "      <th>Dependents</th>\n",
              "      <th>tenure</th>\n",
              "      <th>PhoneService</th>\n",
              "      <th>MultipleLines</th>\n",
              "      <th>InternetService</th>\n",
              "      <th>OnlineSecurity</th>\n",
              "      <th>OnlineBackup</th>\n",
              "      <th>DeviceProtection</th>\n",
              "      <th>TechSupport</th>\n",
              "      <th>StreamingTV</th>\n",
              "      <th>StreamingMovies</th>\n",
              "      <th>Contract</th>\n",
              "      <th>PaperlessBilling</th>\n",
              "      <th>PaymentMethod</th>\n",
              "      <th>MonthlyCharges</th>\n",
              "      <th>TotalCharges</th>\n",
              "      <th>Churn</th>\n",
              "    </tr>\n",
              "  </thead>\n",
              "  <tbody>\n",
              "    <tr>\n",
              "      <th>0</th>\n",
              "      <td>Female</td>\n",
              "      <td>0</td>\n",
              "      <td>Yes</td>\n",
              "      <td>No</td>\n",
              "      <td>1</td>\n",
              "      <td>No</td>\n",
              "      <td>No phone service</td>\n",
              "      <td>DSL</td>\n",
              "      <td>No</td>\n",
              "      <td>Yes</td>\n",
              "      <td>No</td>\n",
              "      <td>No</td>\n",
              "      <td>No</td>\n",
              "      <td>No</td>\n",
              "      <td>Month-to-month</td>\n",
              "      <td>Yes</td>\n",
              "      <td>Electronic check</td>\n",
              "      <td>29.85</td>\n",
              "      <td>29.85</td>\n",
              "      <td>0</td>\n",
              "    </tr>\n",
              "    <tr>\n",
              "      <th>1</th>\n",
              "      <td>Male</td>\n",
              "      <td>0</td>\n",
              "      <td>No</td>\n",
              "      <td>No</td>\n",
              "      <td>34</td>\n",
              "      <td>Yes</td>\n",
              "      <td>No</td>\n",
              "      <td>DSL</td>\n",
              "      <td>Yes</td>\n",
              "      <td>No</td>\n",
              "      <td>Yes</td>\n",
              "      <td>No</td>\n",
              "      <td>No</td>\n",
              "      <td>No</td>\n",
              "      <td>One year</td>\n",
              "      <td>No</td>\n",
              "      <td>Mailed check</td>\n",
              "      <td>56.95</td>\n",
              "      <td>1889.50</td>\n",
              "      <td>0</td>\n",
              "    </tr>\n",
              "    <tr>\n",
              "      <th>2</th>\n",
              "      <td>Male</td>\n",
              "      <td>0</td>\n",
              "      <td>No</td>\n",
              "      <td>No</td>\n",
              "      <td>2</td>\n",
              "      <td>Yes</td>\n",
              "      <td>No</td>\n",
              "      <td>DSL</td>\n",
              "      <td>Yes</td>\n",
              "      <td>Yes</td>\n",
              "      <td>No</td>\n",
              "      <td>No</td>\n",
              "      <td>No</td>\n",
              "      <td>No</td>\n",
              "      <td>Month-to-month</td>\n",
              "      <td>Yes</td>\n",
              "      <td>Mailed check</td>\n",
              "      <td>53.85</td>\n",
              "      <td>108.15</td>\n",
              "      <td>1</td>\n",
              "    </tr>\n",
              "  </tbody>\n",
              "</table>\n",
              "</div>\n",
              "      <button class=\"colab-df-convert\" onclick=\"convertToInteractive('df-3eb9b324-1ad7-4bfb-8d04-fc94c22f45af')\"\n",
              "              title=\"Convert this dataframe to an interactive table.\"\n",
              "              style=\"display:none;\">\n",
              "        \n",
              "  <svg xmlns=\"http://www.w3.org/2000/svg\" height=\"24px\"viewBox=\"0 0 24 24\"\n",
              "       width=\"24px\">\n",
              "    <path d=\"M0 0h24v24H0V0z\" fill=\"none\"/>\n",
              "    <path d=\"M18.56 5.44l.94 2.06.94-2.06 2.06-.94-2.06-.94-.94-2.06-.94 2.06-2.06.94zm-11 1L8.5 8.5l.94-2.06 2.06-.94-2.06-.94L8.5 2.5l-.94 2.06-2.06.94zm10 10l.94 2.06.94-2.06 2.06-.94-2.06-.94-.94-2.06-.94 2.06-2.06.94z\"/><path d=\"M17.41 7.96l-1.37-1.37c-.4-.4-.92-.59-1.43-.59-.52 0-1.04.2-1.43.59L10.3 9.45l-7.72 7.72c-.78.78-.78 2.05 0 2.83L4 21.41c.39.39.9.59 1.41.59.51 0 1.02-.2 1.41-.59l7.78-7.78 2.81-2.81c.8-.78.8-2.07 0-2.86zM5.41 20L4 18.59l7.72-7.72 1.47 1.35L5.41 20z\"/>\n",
              "  </svg>\n",
              "      </button>\n",
              "      \n",
              "  <style>\n",
              "    .colab-df-container {\n",
              "      display:flex;\n",
              "      flex-wrap:wrap;\n",
              "      gap: 12px;\n",
              "    }\n",
              "\n",
              "    .colab-df-convert {\n",
              "      background-color: #E8F0FE;\n",
              "      border: none;\n",
              "      border-radius: 50%;\n",
              "      cursor: pointer;\n",
              "      display: none;\n",
              "      fill: #1967D2;\n",
              "      height: 32px;\n",
              "      padding: 0 0 0 0;\n",
              "      width: 32px;\n",
              "    }\n",
              "\n",
              "    .colab-df-convert:hover {\n",
              "      background-color: #E2EBFA;\n",
              "      box-shadow: 0px 1px 2px rgba(60, 64, 67, 0.3), 0px 1px 3px 1px rgba(60, 64, 67, 0.15);\n",
              "      fill: #174EA6;\n",
              "    }\n",
              "\n",
              "    [theme=dark] .colab-df-convert {\n",
              "      background-color: #3B4455;\n",
              "      fill: #D2E3FC;\n",
              "    }\n",
              "\n",
              "    [theme=dark] .colab-df-convert:hover {\n",
              "      background-color: #434B5C;\n",
              "      box-shadow: 0px 1px 3px 1px rgba(0, 0, 0, 0.15);\n",
              "      filter: drop-shadow(0px 1px 2px rgba(0, 0, 0, 0.3));\n",
              "      fill: #FFFFFF;\n",
              "    }\n",
              "  </style>\n",
              "\n",
              "      <script>\n",
              "        const buttonEl =\n",
              "          document.querySelector('#df-3eb9b324-1ad7-4bfb-8d04-fc94c22f45af button.colab-df-convert');\n",
              "        buttonEl.style.display =\n",
              "          google.colab.kernel.accessAllowed ? 'block' : 'none';\n",
              "\n",
              "        async function convertToInteractive(key) {\n",
              "          const element = document.querySelector('#df-3eb9b324-1ad7-4bfb-8d04-fc94c22f45af');\n",
              "          const dataTable =\n",
              "            await google.colab.kernel.invokeFunction('convertToInteractive',\n",
              "                                                     [key], {});\n",
              "          if (!dataTable) return;\n",
              "\n",
              "          const docLinkHtml = 'Like what you see? Visit the ' +\n",
              "            '<a target=\"_blank\" href=https://colab.research.google.com/notebooks/data_table.ipynb>data table notebook</a>'\n",
              "            + ' to learn more about interactive tables.';\n",
              "          element.innerHTML = '';\n",
              "          dataTable['output_type'] = 'display_data';\n",
              "          await google.colab.output.renderOutput(dataTable, element);\n",
              "          const docLink = document.createElement('div');\n",
              "          docLink.innerHTML = docLinkHtml;\n",
              "          element.appendChild(docLink);\n",
              "        }\n",
              "      </script>\n",
              "    </div>\n",
              "  </div>\n",
              "  "
            ],
            "text/plain": [
              "   gender  SeniorCitizen Partner  ... MonthlyCharges  TotalCharges Churn\n",
              "0  Female              0     Yes  ...          29.85         29.85     0\n",
              "1    Male              0      No  ...          56.95       1889.50     0\n",
              "2    Male              0      No  ...          53.85        108.15     1\n",
              "\n",
              "[3 rows x 20 columns]"
            ]
          },
          "metadata": {},
          "execution_count": 41
        }
      ]
    },
    {
      "cell_type": "code",
      "source": [
        "df1=pd.get_dummies(data=dataset,columns=['gender', 'Partner', 'Dependents', \n",
        "       'PhoneService', 'MultipleLines', 'InternetService', 'OnlineSecurity',\n",
        "       'OnlineBackup', 'DeviceProtection', 'TechSupport', 'StreamingTV',\n",
        "       'StreamingMovies', 'Contract', 'PaperlessBilling', 'PaymentMethod'],drop_first=True)\n"
      ],
      "metadata": {
        "id": "8MRlskzrCAOX"
      },
      "execution_count": 42,
      "outputs": []
    },
    {
      "cell_type": "code",
      "source": [
        "df1.head()"
      ],
      "metadata": {
        "colab": {
          "base_uri": "https://localhost:8080/",
          "height": 305
        },
        "id": "zHn1o35ZGMg9",
        "outputId": "a5d8e5a4-ce21-45cb-a21b-c8264b3b7a29"
      },
      "execution_count": 43,
      "outputs": [
        {
          "output_type": "execute_result",
          "data": {
            "text/html": [
              "\n",
              "  <div id=\"df-822d7abf-dc2e-4334-8085-e96c7d18bb7d\">\n",
              "    <div class=\"colab-df-container\">\n",
              "      <div>\n",
              "<style scoped>\n",
              "    .dataframe tbody tr th:only-of-type {\n",
              "        vertical-align: middle;\n",
              "    }\n",
              "\n",
              "    .dataframe tbody tr th {\n",
              "        vertical-align: top;\n",
              "    }\n",
              "\n",
              "    .dataframe thead th {\n",
              "        text-align: right;\n",
              "    }\n",
              "</style>\n",
              "<table border=\"1\" class=\"dataframe\">\n",
              "  <thead>\n",
              "    <tr style=\"text-align: right;\">\n",
              "      <th></th>\n",
              "      <th>SeniorCitizen</th>\n",
              "      <th>tenure</th>\n",
              "      <th>MonthlyCharges</th>\n",
              "      <th>TotalCharges</th>\n",
              "      <th>Churn</th>\n",
              "      <th>gender_Male</th>\n",
              "      <th>Partner_Yes</th>\n",
              "      <th>Dependents_Yes</th>\n",
              "      <th>PhoneService_Yes</th>\n",
              "      <th>MultipleLines_No phone service</th>\n",
              "      <th>MultipleLines_Yes</th>\n",
              "      <th>InternetService_Fiber optic</th>\n",
              "      <th>InternetService_No</th>\n",
              "      <th>OnlineSecurity_No internet service</th>\n",
              "      <th>OnlineSecurity_Yes</th>\n",
              "      <th>OnlineBackup_No internet service</th>\n",
              "      <th>OnlineBackup_Yes</th>\n",
              "      <th>DeviceProtection_No internet service</th>\n",
              "      <th>DeviceProtection_Yes</th>\n",
              "      <th>TechSupport_No internet service</th>\n",
              "      <th>TechSupport_Yes</th>\n",
              "      <th>StreamingTV_No internet service</th>\n",
              "      <th>StreamingTV_Yes</th>\n",
              "      <th>StreamingMovies_No internet service</th>\n",
              "      <th>StreamingMovies_Yes</th>\n",
              "      <th>Contract_One year</th>\n",
              "      <th>Contract_Two year</th>\n",
              "      <th>PaperlessBilling_Yes</th>\n",
              "      <th>PaymentMethod_Credit card (automatic)</th>\n",
              "      <th>PaymentMethod_Electronic check</th>\n",
              "      <th>PaymentMethod_Mailed check</th>\n",
              "    </tr>\n",
              "  </thead>\n",
              "  <tbody>\n",
              "    <tr>\n",
              "      <th>0</th>\n",
              "      <td>0</td>\n",
              "      <td>1</td>\n",
              "      <td>29.85</td>\n",
              "      <td>29.85</td>\n",
              "      <td>0</td>\n",
              "      <td>0</td>\n",
              "      <td>1</td>\n",
              "      <td>0</td>\n",
              "      <td>0</td>\n",
              "      <td>1</td>\n",
              "      <td>0</td>\n",
              "      <td>0</td>\n",
              "      <td>0</td>\n",
              "      <td>0</td>\n",
              "      <td>0</td>\n",
              "      <td>0</td>\n",
              "      <td>1</td>\n",
              "      <td>0</td>\n",
              "      <td>0</td>\n",
              "      <td>0</td>\n",
              "      <td>0</td>\n",
              "      <td>0</td>\n",
              "      <td>0</td>\n",
              "      <td>0</td>\n",
              "      <td>0</td>\n",
              "      <td>0</td>\n",
              "      <td>0</td>\n",
              "      <td>1</td>\n",
              "      <td>0</td>\n",
              "      <td>1</td>\n",
              "      <td>0</td>\n",
              "    </tr>\n",
              "    <tr>\n",
              "      <th>1</th>\n",
              "      <td>0</td>\n",
              "      <td>34</td>\n",
              "      <td>56.95</td>\n",
              "      <td>1889.50</td>\n",
              "      <td>0</td>\n",
              "      <td>1</td>\n",
              "      <td>0</td>\n",
              "      <td>0</td>\n",
              "      <td>1</td>\n",
              "      <td>0</td>\n",
              "      <td>0</td>\n",
              "      <td>0</td>\n",
              "      <td>0</td>\n",
              "      <td>0</td>\n",
              "      <td>1</td>\n",
              "      <td>0</td>\n",
              "      <td>0</td>\n",
              "      <td>0</td>\n",
              "      <td>1</td>\n",
              "      <td>0</td>\n",
              "      <td>0</td>\n",
              "      <td>0</td>\n",
              "      <td>0</td>\n",
              "      <td>0</td>\n",
              "      <td>0</td>\n",
              "      <td>1</td>\n",
              "      <td>0</td>\n",
              "      <td>0</td>\n",
              "      <td>0</td>\n",
              "      <td>0</td>\n",
              "      <td>1</td>\n",
              "    </tr>\n",
              "    <tr>\n",
              "      <th>2</th>\n",
              "      <td>0</td>\n",
              "      <td>2</td>\n",
              "      <td>53.85</td>\n",
              "      <td>108.15</td>\n",
              "      <td>1</td>\n",
              "      <td>1</td>\n",
              "      <td>0</td>\n",
              "      <td>0</td>\n",
              "      <td>1</td>\n",
              "      <td>0</td>\n",
              "      <td>0</td>\n",
              "      <td>0</td>\n",
              "      <td>0</td>\n",
              "      <td>0</td>\n",
              "      <td>1</td>\n",
              "      <td>0</td>\n",
              "      <td>1</td>\n",
              "      <td>0</td>\n",
              "      <td>0</td>\n",
              "      <td>0</td>\n",
              "      <td>0</td>\n",
              "      <td>0</td>\n",
              "      <td>0</td>\n",
              "      <td>0</td>\n",
              "      <td>0</td>\n",
              "      <td>0</td>\n",
              "      <td>0</td>\n",
              "      <td>1</td>\n",
              "      <td>0</td>\n",
              "      <td>0</td>\n",
              "      <td>1</td>\n",
              "    </tr>\n",
              "    <tr>\n",
              "      <th>3</th>\n",
              "      <td>0</td>\n",
              "      <td>45</td>\n",
              "      <td>42.30</td>\n",
              "      <td>1840.75</td>\n",
              "      <td>0</td>\n",
              "      <td>1</td>\n",
              "      <td>0</td>\n",
              "      <td>0</td>\n",
              "      <td>0</td>\n",
              "      <td>1</td>\n",
              "      <td>0</td>\n",
              "      <td>0</td>\n",
              "      <td>0</td>\n",
              "      <td>0</td>\n",
              "      <td>1</td>\n",
              "      <td>0</td>\n",
              "      <td>0</td>\n",
              "      <td>0</td>\n",
              "      <td>1</td>\n",
              "      <td>0</td>\n",
              "      <td>1</td>\n",
              "      <td>0</td>\n",
              "      <td>0</td>\n",
              "      <td>0</td>\n",
              "      <td>0</td>\n",
              "      <td>1</td>\n",
              "      <td>0</td>\n",
              "      <td>0</td>\n",
              "      <td>0</td>\n",
              "      <td>0</td>\n",
              "      <td>0</td>\n",
              "    </tr>\n",
              "    <tr>\n",
              "      <th>4</th>\n",
              "      <td>0</td>\n",
              "      <td>2</td>\n",
              "      <td>70.70</td>\n",
              "      <td>151.65</td>\n",
              "      <td>1</td>\n",
              "      <td>0</td>\n",
              "      <td>0</td>\n",
              "      <td>0</td>\n",
              "      <td>1</td>\n",
              "      <td>0</td>\n",
              "      <td>0</td>\n",
              "      <td>1</td>\n",
              "      <td>0</td>\n",
              "      <td>0</td>\n",
              "      <td>0</td>\n",
              "      <td>0</td>\n",
              "      <td>0</td>\n",
              "      <td>0</td>\n",
              "      <td>0</td>\n",
              "      <td>0</td>\n",
              "      <td>0</td>\n",
              "      <td>0</td>\n",
              "      <td>0</td>\n",
              "      <td>0</td>\n",
              "      <td>0</td>\n",
              "      <td>0</td>\n",
              "      <td>0</td>\n",
              "      <td>1</td>\n",
              "      <td>0</td>\n",
              "      <td>1</td>\n",
              "      <td>0</td>\n",
              "    </tr>\n",
              "  </tbody>\n",
              "</table>\n",
              "</div>\n",
              "      <button class=\"colab-df-convert\" onclick=\"convertToInteractive('df-822d7abf-dc2e-4334-8085-e96c7d18bb7d')\"\n",
              "              title=\"Convert this dataframe to an interactive table.\"\n",
              "              style=\"display:none;\">\n",
              "        \n",
              "  <svg xmlns=\"http://www.w3.org/2000/svg\" height=\"24px\"viewBox=\"0 0 24 24\"\n",
              "       width=\"24px\">\n",
              "    <path d=\"M0 0h24v24H0V0z\" fill=\"none\"/>\n",
              "    <path d=\"M18.56 5.44l.94 2.06.94-2.06 2.06-.94-2.06-.94-.94-2.06-.94 2.06-2.06.94zm-11 1L8.5 8.5l.94-2.06 2.06-.94-2.06-.94L8.5 2.5l-.94 2.06-2.06.94zm10 10l.94 2.06.94-2.06 2.06-.94-2.06-.94-.94-2.06-.94 2.06-2.06.94z\"/><path d=\"M17.41 7.96l-1.37-1.37c-.4-.4-.92-.59-1.43-.59-.52 0-1.04.2-1.43.59L10.3 9.45l-7.72 7.72c-.78.78-.78 2.05 0 2.83L4 21.41c.39.39.9.59 1.41.59.51 0 1.02-.2 1.41-.59l7.78-7.78 2.81-2.81c.8-.78.8-2.07 0-2.86zM5.41 20L4 18.59l7.72-7.72 1.47 1.35L5.41 20z\"/>\n",
              "  </svg>\n",
              "      </button>\n",
              "      \n",
              "  <style>\n",
              "    .colab-df-container {\n",
              "      display:flex;\n",
              "      flex-wrap:wrap;\n",
              "      gap: 12px;\n",
              "    }\n",
              "\n",
              "    .colab-df-convert {\n",
              "      background-color: #E8F0FE;\n",
              "      border: none;\n",
              "      border-radius: 50%;\n",
              "      cursor: pointer;\n",
              "      display: none;\n",
              "      fill: #1967D2;\n",
              "      height: 32px;\n",
              "      padding: 0 0 0 0;\n",
              "      width: 32px;\n",
              "    }\n",
              "\n",
              "    .colab-df-convert:hover {\n",
              "      background-color: #E2EBFA;\n",
              "      box-shadow: 0px 1px 2px rgba(60, 64, 67, 0.3), 0px 1px 3px 1px rgba(60, 64, 67, 0.15);\n",
              "      fill: #174EA6;\n",
              "    }\n",
              "\n",
              "    [theme=dark] .colab-df-convert {\n",
              "      background-color: #3B4455;\n",
              "      fill: #D2E3FC;\n",
              "    }\n",
              "\n",
              "    [theme=dark] .colab-df-convert:hover {\n",
              "      background-color: #434B5C;\n",
              "      box-shadow: 0px 1px 3px 1px rgba(0, 0, 0, 0.15);\n",
              "      filter: drop-shadow(0px 1px 2px rgba(0, 0, 0, 0.3));\n",
              "      fill: #FFFFFF;\n",
              "    }\n",
              "  </style>\n",
              "\n",
              "      <script>\n",
              "        const buttonEl =\n",
              "          document.querySelector('#df-822d7abf-dc2e-4334-8085-e96c7d18bb7d button.colab-df-convert');\n",
              "        buttonEl.style.display =\n",
              "          google.colab.kernel.accessAllowed ? 'block' : 'none';\n",
              "\n",
              "        async function convertToInteractive(key) {\n",
              "          const element = document.querySelector('#df-822d7abf-dc2e-4334-8085-e96c7d18bb7d');\n",
              "          const dataTable =\n",
              "            await google.colab.kernel.invokeFunction('convertToInteractive',\n",
              "                                                     [key], {});\n",
              "          if (!dataTable) return;\n",
              "\n",
              "          const docLinkHtml = 'Like what you see? Visit the ' +\n",
              "            '<a target=\"_blank\" href=https://colab.research.google.com/notebooks/data_table.ipynb>data table notebook</a>'\n",
              "            + ' to learn more about interactive tables.';\n",
              "          element.innerHTML = '';\n",
              "          dataTable['output_type'] = 'display_data';\n",
              "          await google.colab.output.renderOutput(dataTable, element);\n",
              "          const docLink = document.createElement('div');\n",
              "          docLink.innerHTML = docLinkHtml;\n",
              "          element.appendChild(docLink);\n",
              "        }\n",
              "      </script>\n",
              "    </div>\n",
              "  </div>\n",
              "  "
            ],
            "text/plain": [
              "   SeniorCitizen  ...  PaymentMethod_Mailed check\n",
              "0              0  ...                           0\n",
              "1              0  ...                           1\n",
              "2              0  ...                           1\n",
              "3              0  ...                           0\n",
              "4              0  ...                           0\n",
              "\n",
              "[5 rows x 31 columns]"
            ]
          },
          "metadata": {},
          "execution_count": 43
        }
      ]
    },
    {
      "cell_type": "code",
      "source": [
        "df1 = df1[['SeniorCitizen', 'tenure', 'MonthlyCharges', 'TotalCharges',\n",
        "        'gender_Male', 'Partner_Yes', 'Dependents_Yes',\n",
        "       'PhoneService_Yes', 'MultipleLines_No phone service',\n",
        "       'MultipleLines_Yes', 'InternetService_Fiber optic',\n",
        "       'InternetService_No', 'OnlineSecurity_No internet service',\n",
        "       'OnlineSecurity_Yes', 'OnlineBackup_No internet service',\n",
        "       'OnlineBackup_Yes', 'DeviceProtection_No internet service',\n",
        "       'DeviceProtection_Yes', 'TechSupport_No internet service',\n",
        "       'TechSupport_Yes', 'StreamingTV_No internet service', 'StreamingTV_Yes',\n",
        "       'StreamingMovies_No internet service', 'StreamingMovies_Yes',\n",
        "       'Contract_One year', 'Contract_Two year', 'PaperlessBilling_Yes',\n",
        "       'PaymentMethod_Credit card (automatic)',\n",
        "       'PaymentMethod_Electronic check', 'PaymentMethod_Mailed check','Churn']]"
      ],
      "metadata": {
        "id": "vmDX33SiGQSW"
      },
      "execution_count": 44,
      "outputs": []
    },
    {
      "cell_type": "code",
      "source": [
        "from sklearn.impute import SimpleImputer\n",
        "\n",
        "imputer = SimpleImputer(missing_values=np.nan, strategy=\"mean\")\n",
        "\n",
        "df1.TotalCharges = imputer.fit_transform(df1[\"TotalCharges\"].values.reshape(-1, 1))"
      ],
      "metadata": {
        "id": "5AEpWGxp0xa7"
      },
      "execution_count": 45,
      "outputs": []
    },
    {
      "cell_type": "code",
      "source": [
        "df1.head()"
      ],
      "metadata": {
        "colab": {
          "base_uri": "https://localhost:8080/",
          "height": 305
        },
        "id": "uAlsF9P8Hi8l",
        "outputId": "1f8b64f8-afe1-4b68-da0a-6a8b58753177"
      },
      "execution_count": 46,
      "outputs": [
        {
          "output_type": "execute_result",
          "data": {
            "text/html": [
              "\n",
              "  <div id=\"df-522c16a5-b534-4142-beb7-a20ff83c5f36\">\n",
              "    <div class=\"colab-df-container\">\n",
              "      <div>\n",
              "<style scoped>\n",
              "    .dataframe tbody tr th:only-of-type {\n",
              "        vertical-align: middle;\n",
              "    }\n",
              "\n",
              "    .dataframe tbody tr th {\n",
              "        vertical-align: top;\n",
              "    }\n",
              "\n",
              "    .dataframe thead th {\n",
              "        text-align: right;\n",
              "    }\n",
              "</style>\n",
              "<table border=\"1\" class=\"dataframe\">\n",
              "  <thead>\n",
              "    <tr style=\"text-align: right;\">\n",
              "      <th></th>\n",
              "      <th>SeniorCitizen</th>\n",
              "      <th>tenure</th>\n",
              "      <th>MonthlyCharges</th>\n",
              "      <th>TotalCharges</th>\n",
              "      <th>gender_Male</th>\n",
              "      <th>Partner_Yes</th>\n",
              "      <th>Dependents_Yes</th>\n",
              "      <th>PhoneService_Yes</th>\n",
              "      <th>MultipleLines_No phone service</th>\n",
              "      <th>MultipleLines_Yes</th>\n",
              "      <th>InternetService_Fiber optic</th>\n",
              "      <th>InternetService_No</th>\n",
              "      <th>OnlineSecurity_No internet service</th>\n",
              "      <th>OnlineSecurity_Yes</th>\n",
              "      <th>OnlineBackup_No internet service</th>\n",
              "      <th>OnlineBackup_Yes</th>\n",
              "      <th>DeviceProtection_No internet service</th>\n",
              "      <th>DeviceProtection_Yes</th>\n",
              "      <th>TechSupport_No internet service</th>\n",
              "      <th>TechSupport_Yes</th>\n",
              "      <th>StreamingTV_No internet service</th>\n",
              "      <th>StreamingTV_Yes</th>\n",
              "      <th>StreamingMovies_No internet service</th>\n",
              "      <th>StreamingMovies_Yes</th>\n",
              "      <th>Contract_One year</th>\n",
              "      <th>Contract_Two year</th>\n",
              "      <th>PaperlessBilling_Yes</th>\n",
              "      <th>PaymentMethod_Credit card (automatic)</th>\n",
              "      <th>PaymentMethod_Electronic check</th>\n",
              "      <th>PaymentMethod_Mailed check</th>\n",
              "      <th>Churn</th>\n",
              "    </tr>\n",
              "  </thead>\n",
              "  <tbody>\n",
              "    <tr>\n",
              "      <th>0</th>\n",
              "      <td>0</td>\n",
              "      <td>1</td>\n",
              "      <td>29.85</td>\n",
              "      <td>29.85</td>\n",
              "      <td>0</td>\n",
              "      <td>1</td>\n",
              "      <td>0</td>\n",
              "      <td>0</td>\n",
              "      <td>1</td>\n",
              "      <td>0</td>\n",
              "      <td>0</td>\n",
              "      <td>0</td>\n",
              "      <td>0</td>\n",
              "      <td>0</td>\n",
              "      <td>0</td>\n",
              "      <td>1</td>\n",
              "      <td>0</td>\n",
              "      <td>0</td>\n",
              "      <td>0</td>\n",
              "      <td>0</td>\n",
              "      <td>0</td>\n",
              "      <td>0</td>\n",
              "      <td>0</td>\n",
              "      <td>0</td>\n",
              "      <td>0</td>\n",
              "      <td>0</td>\n",
              "      <td>1</td>\n",
              "      <td>0</td>\n",
              "      <td>1</td>\n",
              "      <td>0</td>\n",
              "      <td>0</td>\n",
              "    </tr>\n",
              "    <tr>\n",
              "      <th>1</th>\n",
              "      <td>0</td>\n",
              "      <td>34</td>\n",
              "      <td>56.95</td>\n",
              "      <td>1889.50</td>\n",
              "      <td>1</td>\n",
              "      <td>0</td>\n",
              "      <td>0</td>\n",
              "      <td>1</td>\n",
              "      <td>0</td>\n",
              "      <td>0</td>\n",
              "      <td>0</td>\n",
              "      <td>0</td>\n",
              "      <td>0</td>\n",
              "      <td>1</td>\n",
              "      <td>0</td>\n",
              "      <td>0</td>\n",
              "      <td>0</td>\n",
              "      <td>1</td>\n",
              "      <td>0</td>\n",
              "      <td>0</td>\n",
              "      <td>0</td>\n",
              "      <td>0</td>\n",
              "      <td>0</td>\n",
              "      <td>0</td>\n",
              "      <td>1</td>\n",
              "      <td>0</td>\n",
              "      <td>0</td>\n",
              "      <td>0</td>\n",
              "      <td>0</td>\n",
              "      <td>1</td>\n",
              "      <td>0</td>\n",
              "    </tr>\n",
              "    <tr>\n",
              "      <th>2</th>\n",
              "      <td>0</td>\n",
              "      <td>2</td>\n",
              "      <td>53.85</td>\n",
              "      <td>108.15</td>\n",
              "      <td>1</td>\n",
              "      <td>0</td>\n",
              "      <td>0</td>\n",
              "      <td>1</td>\n",
              "      <td>0</td>\n",
              "      <td>0</td>\n",
              "      <td>0</td>\n",
              "      <td>0</td>\n",
              "      <td>0</td>\n",
              "      <td>1</td>\n",
              "      <td>0</td>\n",
              "      <td>1</td>\n",
              "      <td>0</td>\n",
              "      <td>0</td>\n",
              "      <td>0</td>\n",
              "      <td>0</td>\n",
              "      <td>0</td>\n",
              "      <td>0</td>\n",
              "      <td>0</td>\n",
              "      <td>0</td>\n",
              "      <td>0</td>\n",
              "      <td>0</td>\n",
              "      <td>1</td>\n",
              "      <td>0</td>\n",
              "      <td>0</td>\n",
              "      <td>1</td>\n",
              "      <td>1</td>\n",
              "    </tr>\n",
              "    <tr>\n",
              "      <th>3</th>\n",
              "      <td>0</td>\n",
              "      <td>45</td>\n",
              "      <td>42.30</td>\n",
              "      <td>1840.75</td>\n",
              "      <td>1</td>\n",
              "      <td>0</td>\n",
              "      <td>0</td>\n",
              "      <td>0</td>\n",
              "      <td>1</td>\n",
              "      <td>0</td>\n",
              "      <td>0</td>\n",
              "      <td>0</td>\n",
              "      <td>0</td>\n",
              "      <td>1</td>\n",
              "      <td>0</td>\n",
              "      <td>0</td>\n",
              "      <td>0</td>\n",
              "      <td>1</td>\n",
              "      <td>0</td>\n",
              "      <td>1</td>\n",
              "      <td>0</td>\n",
              "      <td>0</td>\n",
              "      <td>0</td>\n",
              "      <td>0</td>\n",
              "      <td>1</td>\n",
              "      <td>0</td>\n",
              "      <td>0</td>\n",
              "      <td>0</td>\n",
              "      <td>0</td>\n",
              "      <td>0</td>\n",
              "      <td>0</td>\n",
              "    </tr>\n",
              "    <tr>\n",
              "      <th>4</th>\n",
              "      <td>0</td>\n",
              "      <td>2</td>\n",
              "      <td>70.70</td>\n",
              "      <td>151.65</td>\n",
              "      <td>0</td>\n",
              "      <td>0</td>\n",
              "      <td>0</td>\n",
              "      <td>1</td>\n",
              "      <td>0</td>\n",
              "      <td>0</td>\n",
              "      <td>1</td>\n",
              "      <td>0</td>\n",
              "      <td>0</td>\n",
              "      <td>0</td>\n",
              "      <td>0</td>\n",
              "      <td>0</td>\n",
              "      <td>0</td>\n",
              "      <td>0</td>\n",
              "      <td>0</td>\n",
              "      <td>0</td>\n",
              "      <td>0</td>\n",
              "      <td>0</td>\n",
              "      <td>0</td>\n",
              "      <td>0</td>\n",
              "      <td>0</td>\n",
              "      <td>0</td>\n",
              "      <td>1</td>\n",
              "      <td>0</td>\n",
              "      <td>1</td>\n",
              "      <td>0</td>\n",
              "      <td>1</td>\n",
              "    </tr>\n",
              "  </tbody>\n",
              "</table>\n",
              "</div>\n",
              "      <button class=\"colab-df-convert\" onclick=\"convertToInteractive('df-522c16a5-b534-4142-beb7-a20ff83c5f36')\"\n",
              "              title=\"Convert this dataframe to an interactive table.\"\n",
              "              style=\"display:none;\">\n",
              "        \n",
              "  <svg xmlns=\"http://www.w3.org/2000/svg\" height=\"24px\"viewBox=\"0 0 24 24\"\n",
              "       width=\"24px\">\n",
              "    <path d=\"M0 0h24v24H0V0z\" fill=\"none\"/>\n",
              "    <path d=\"M18.56 5.44l.94 2.06.94-2.06 2.06-.94-2.06-.94-.94-2.06-.94 2.06-2.06.94zm-11 1L8.5 8.5l.94-2.06 2.06-.94-2.06-.94L8.5 2.5l-.94 2.06-2.06.94zm10 10l.94 2.06.94-2.06 2.06-.94-2.06-.94-.94-2.06-.94 2.06-2.06.94z\"/><path d=\"M17.41 7.96l-1.37-1.37c-.4-.4-.92-.59-1.43-.59-.52 0-1.04.2-1.43.59L10.3 9.45l-7.72 7.72c-.78.78-.78 2.05 0 2.83L4 21.41c.39.39.9.59 1.41.59.51 0 1.02-.2 1.41-.59l7.78-7.78 2.81-2.81c.8-.78.8-2.07 0-2.86zM5.41 20L4 18.59l7.72-7.72 1.47 1.35L5.41 20z\"/>\n",
              "  </svg>\n",
              "      </button>\n",
              "      \n",
              "  <style>\n",
              "    .colab-df-container {\n",
              "      display:flex;\n",
              "      flex-wrap:wrap;\n",
              "      gap: 12px;\n",
              "    }\n",
              "\n",
              "    .colab-df-convert {\n",
              "      background-color: #E8F0FE;\n",
              "      border: none;\n",
              "      border-radius: 50%;\n",
              "      cursor: pointer;\n",
              "      display: none;\n",
              "      fill: #1967D2;\n",
              "      height: 32px;\n",
              "      padding: 0 0 0 0;\n",
              "      width: 32px;\n",
              "    }\n",
              "\n",
              "    .colab-df-convert:hover {\n",
              "      background-color: #E2EBFA;\n",
              "      box-shadow: 0px 1px 2px rgba(60, 64, 67, 0.3), 0px 1px 3px 1px rgba(60, 64, 67, 0.15);\n",
              "      fill: #174EA6;\n",
              "    }\n",
              "\n",
              "    [theme=dark] .colab-df-convert {\n",
              "      background-color: #3B4455;\n",
              "      fill: #D2E3FC;\n",
              "    }\n",
              "\n",
              "    [theme=dark] .colab-df-convert:hover {\n",
              "      background-color: #434B5C;\n",
              "      box-shadow: 0px 1px 3px 1px rgba(0, 0, 0, 0.15);\n",
              "      filter: drop-shadow(0px 1px 2px rgba(0, 0, 0, 0.3));\n",
              "      fill: #FFFFFF;\n",
              "    }\n",
              "  </style>\n",
              "\n",
              "      <script>\n",
              "        const buttonEl =\n",
              "          document.querySelector('#df-522c16a5-b534-4142-beb7-a20ff83c5f36 button.colab-df-convert');\n",
              "        buttonEl.style.display =\n",
              "          google.colab.kernel.accessAllowed ? 'block' : 'none';\n",
              "\n",
              "        async function convertToInteractive(key) {\n",
              "          const element = document.querySelector('#df-522c16a5-b534-4142-beb7-a20ff83c5f36');\n",
              "          const dataTable =\n",
              "            await google.colab.kernel.invokeFunction('convertToInteractive',\n",
              "                                                     [key], {});\n",
              "          if (!dataTable) return;\n",
              "\n",
              "          const docLinkHtml = 'Like what you see? Visit the ' +\n",
              "            '<a target=\"_blank\" href=https://colab.research.google.com/notebooks/data_table.ipynb>data table notebook</a>'\n",
              "            + ' to learn more about interactive tables.';\n",
              "          element.innerHTML = '';\n",
              "          dataTable['output_type'] = 'display_data';\n",
              "          await google.colab.output.renderOutput(dataTable, element);\n",
              "          const docLink = document.createElement('div');\n",
              "          docLink.innerHTML = docLinkHtml;\n",
              "          element.appendChild(docLink);\n",
              "        }\n",
              "      </script>\n",
              "    </div>\n",
              "  </div>\n",
              "  "
            ],
            "text/plain": [
              "   SeniorCitizen  tenure  ...  PaymentMethod_Mailed check  Churn\n",
              "0              0       1  ...                           0      0\n",
              "1              0      34  ...                           1      0\n",
              "2              0       2  ...                           1      1\n",
              "3              0      45  ...                           0      0\n",
              "4              0       2  ...                           0      1\n",
              "\n",
              "[5 rows x 31 columns]"
            ]
          },
          "metadata": {},
          "execution_count": 46
        }
      ]
    },
    {
      "cell_type": "code",
      "source": [
        "df1.info()"
      ],
      "metadata": {
        "colab": {
          "base_uri": "https://localhost:8080/"
        },
        "id": "0FRSMvXALec7",
        "outputId": "259cea71-6485-441f-8dde-015aee30eef1"
      },
      "execution_count": 47,
      "outputs": [
        {
          "output_type": "stream",
          "name": "stdout",
          "text": [
            "<class 'pandas.core.frame.DataFrame'>\n",
            "RangeIndex: 7043 entries, 0 to 7042\n",
            "Data columns (total 31 columns):\n",
            " #   Column                                 Non-Null Count  Dtype  \n",
            "---  ------                                 --------------  -----  \n",
            " 0   SeniorCitizen                          7043 non-null   int64  \n",
            " 1   tenure                                 7043 non-null   int64  \n",
            " 2   MonthlyCharges                         7043 non-null   float64\n",
            " 3   TotalCharges                           7043 non-null   float64\n",
            " 4   gender_Male                            7043 non-null   uint8  \n",
            " 5   Partner_Yes                            7043 non-null   uint8  \n",
            " 6   Dependents_Yes                         7043 non-null   uint8  \n",
            " 7   PhoneService_Yes                       7043 non-null   uint8  \n",
            " 8   MultipleLines_No phone service         7043 non-null   uint8  \n",
            " 9   MultipleLines_Yes                      7043 non-null   uint8  \n",
            " 10  InternetService_Fiber optic            7043 non-null   uint8  \n",
            " 11  InternetService_No                     7043 non-null   uint8  \n",
            " 12  OnlineSecurity_No internet service     7043 non-null   uint8  \n",
            " 13  OnlineSecurity_Yes                     7043 non-null   uint8  \n",
            " 14  OnlineBackup_No internet service       7043 non-null   uint8  \n",
            " 15  OnlineBackup_Yes                       7043 non-null   uint8  \n",
            " 16  DeviceProtection_No internet service   7043 non-null   uint8  \n",
            " 17  DeviceProtection_Yes                   7043 non-null   uint8  \n",
            " 18  TechSupport_No internet service        7043 non-null   uint8  \n",
            " 19  TechSupport_Yes                        7043 non-null   uint8  \n",
            " 20  StreamingTV_No internet service        7043 non-null   uint8  \n",
            " 21  StreamingTV_Yes                        7043 non-null   uint8  \n",
            " 22  StreamingMovies_No internet service    7043 non-null   uint8  \n",
            " 23  StreamingMovies_Yes                    7043 non-null   uint8  \n",
            " 24  Contract_One year                      7043 non-null   uint8  \n",
            " 25  Contract_Two year                      7043 non-null   uint8  \n",
            " 26  PaperlessBilling_Yes                   7043 non-null   uint8  \n",
            " 27  PaymentMethod_Credit card (automatic)  7043 non-null   uint8  \n",
            " 28  PaymentMethod_Electronic check         7043 non-null   uint8  \n",
            " 29  PaymentMethod_Mailed check             7043 non-null   uint8  \n",
            " 30  Churn                                  7043 non-null   object \n",
            "dtypes: float64(2), int64(2), object(1), uint8(26)\n",
            "memory usage: 454.1+ KB\n"
          ]
        }
      ]
    },
    {
      "cell_type": "markdown",
      "source": [
        "# Deep Learning"
      ],
      "metadata": {
        "id": "zss6UFY9JLN7"
      }
    },
    {
      "cell_type": "code",
      "source": [
        "import tensorflow as tf\n",
        "tf.__version__"
      ],
      "metadata": {
        "colab": {
          "base_uri": "https://localhost:8080/",
          "height": 35
        },
        "id": "m3r_1qzyHxzr",
        "outputId": "c6533d95-57a9-4efb-ea6e-a473ece4e772"
      },
      "execution_count": 48,
      "outputs": [
        {
          "output_type": "execute_result",
          "data": {
            "application/vnd.google.colaboratory.intrinsic+json": {
              "type": "string"
            },
            "text/plain": [
              "'2.7.0'"
            ]
          },
          "metadata": {},
          "execution_count": 48
        }
      ]
    },
    {
      "cell_type": "code",
      "source": [
        "df1.head()"
      ],
      "metadata": {
        "colab": {
          "base_uri": "https://localhost:8080/",
          "height": 305
        },
        "id": "G-oXZe4eJcpO",
        "outputId": "d56f968f-169f-4d31-d093-0c8525279ba5"
      },
      "execution_count": 49,
      "outputs": [
        {
          "output_type": "execute_result",
          "data": {
            "text/html": [
              "\n",
              "  <div id=\"df-0d135d68-5cc9-4089-afdc-49477f87a33d\">\n",
              "    <div class=\"colab-df-container\">\n",
              "      <div>\n",
              "<style scoped>\n",
              "    .dataframe tbody tr th:only-of-type {\n",
              "        vertical-align: middle;\n",
              "    }\n",
              "\n",
              "    .dataframe tbody tr th {\n",
              "        vertical-align: top;\n",
              "    }\n",
              "\n",
              "    .dataframe thead th {\n",
              "        text-align: right;\n",
              "    }\n",
              "</style>\n",
              "<table border=\"1\" class=\"dataframe\">\n",
              "  <thead>\n",
              "    <tr style=\"text-align: right;\">\n",
              "      <th></th>\n",
              "      <th>SeniorCitizen</th>\n",
              "      <th>tenure</th>\n",
              "      <th>MonthlyCharges</th>\n",
              "      <th>TotalCharges</th>\n",
              "      <th>gender_Male</th>\n",
              "      <th>Partner_Yes</th>\n",
              "      <th>Dependents_Yes</th>\n",
              "      <th>PhoneService_Yes</th>\n",
              "      <th>MultipleLines_No phone service</th>\n",
              "      <th>MultipleLines_Yes</th>\n",
              "      <th>InternetService_Fiber optic</th>\n",
              "      <th>InternetService_No</th>\n",
              "      <th>OnlineSecurity_No internet service</th>\n",
              "      <th>OnlineSecurity_Yes</th>\n",
              "      <th>OnlineBackup_No internet service</th>\n",
              "      <th>OnlineBackup_Yes</th>\n",
              "      <th>DeviceProtection_No internet service</th>\n",
              "      <th>DeviceProtection_Yes</th>\n",
              "      <th>TechSupport_No internet service</th>\n",
              "      <th>TechSupport_Yes</th>\n",
              "      <th>StreamingTV_No internet service</th>\n",
              "      <th>StreamingTV_Yes</th>\n",
              "      <th>StreamingMovies_No internet service</th>\n",
              "      <th>StreamingMovies_Yes</th>\n",
              "      <th>Contract_One year</th>\n",
              "      <th>Contract_Two year</th>\n",
              "      <th>PaperlessBilling_Yes</th>\n",
              "      <th>PaymentMethod_Credit card (automatic)</th>\n",
              "      <th>PaymentMethod_Electronic check</th>\n",
              "      <th>PaymentMethod_Mailed check</th>\n",
              "      <th>Churn</th>\n",
              "    </tr>\n",
              "  </thead>\n",
              "  <tbody>\n",
              "    <tr>\n",
              "      <th>0</th>\n",
              "      <td>0</td>\n",
              "      <td>1</td>\n",
              "      <td>29.85</td>\n",
              "      <td>29.85</td>\n",
              "      <td>0</td>\n",
              "      <td>1</td>\n",
              "      <td>0</td>\n",
              "      <td>0</td>\n",
              "      <td>1</td>\n",
              "      <td>0</td>\n",
              "      <td>0</td>\n",
              "      <td>0</td>\n",
              "      <td>0</td>\n",
              "      <td>0</td>\n",
              "      <td>0</td>\n",
              "      <td>1</td>\n",
              "      <td>0</td>\n",
              "      <td>0</td>\n",
              "      <td>0</td>\n",
              "      <td>0</td>\n",
              "      <td>0</td>\n",
              "      <td>0</td>\n",
              "      <td>0</td>\n",
              "      <td>0</td>\n",
              "      <td>0</td>\n",
              "      <td>0</td>\n",
              "      <td>1</td>\n",
              "      <td>0</td>\n",
              "      <td>1</td>\n",
              "      <td>0</td>\n",
              "      <td>0</td>\n",
              "    </tr>\n",
              "    <tr>\n",
              "      <th>1</th>\n",
              "      <td>0</td>\n",
              "      <td>34</td>\n",
              "      <td>56.95</td>\n",
              "      <td>1889.50</td>\n",
              "      <td>1</td>\n",
              "      <td>0</td>\n",
              "      <td>0</td>\n",
              "      <td>1</td>\n",
              "      <td>0</td>\n",
              "      <td>0</td>\n",
              "      <td>0</td>\n",
              "      <td>0</td>\n",
              "      <td>0</td>\n",
              "      <td>1</td>\n",
              "      <td>0</td>\n",
              "      <td>0</td>\n",
              "      <td>0</td>\n",
              "      <td>1</td>\n",
              "      <td>0</td>\n",
              "      <td>0</td>\n",
              "      <td>0</td>\n",
              "      <td>0</td>\n",
              "      <td>0</td>\n",
              "      <td>0</td>\n",
              "      <td>1</td>\n",
              "      <td>0</td>\n",
              "      <td>0</td>\n",
              "      <td>0</td>\n",
              "      <td>0</td>\n",
              "      <td>1</td>\n",
              "      <td>0</td>\n",
              "    </tr>\n",
              "    <tr>\n",
              "      <th>2</th>\n",
              "      <td>0</td>\n",
              "      <td>2</td>\n",
              "      <td>53.85</td>\n",
              "      <td>108.15</td>\n",
              "      <td>1</td>\n",
              "      <td>0</td>\n",
              "      <td>0</td>\n",
              "      <td>1</td>\n",
              "      <td>0</td>\n",
              "      <td>0</td>\n",
              "      <td>0</td>\n",
              "      <td>0</td>\n",
              "      <td>0</td>\n",
              "      <td>1</td>\n",
              "      <td>0</td>\n",
              "      <td>1</td>\n",
              "      <td>0</td>\n",
              "      <td>0</td>\n",
              "      <td>0</td>\n",
              "      <td>0</td>\n",
              "      <td>0</td>\n",
              "      <td>0</td>\n",
              "      <td>0</td>\n",
              "      <td>0</td>\n",
              "      <td>0</td>\n",
              "      <td>0</td>\n",
              "      <td>1</td>\n",
              "      <td>0</td>\n",
              "      <td>0</td>\n",
              "      <td>1</td>\n",
              "      <td>1</td>\n",
              "    </tr>\n",
              "    <tr>\n",
              "      <th>3</th>\n",
              "      <td>0</td>\n",
              "      <td>45</td>\n",
              "      <td>42.30</td>\n",
              "      <td>1840.75</td>\n",
              "      <td>1</td>\n",
              "      <td>0</td>\n",
              "      <td>0</td>\n",
              "      <td>0</td>\n",
              "      <td>1</td>\n",
              "      <td>0</td>\n",
              "      <td>0</td>\n",
              "      <td>0</td>\n",
              "      <td>0</td>\n",
              "      <td>1</td>\n",
              "      <td>0</td>\n",
              "      <td>0</td>\n",
              "      <td>0</td>\n",
              "      <td>1</td>\n",
              "      <td>0</td>\n",
              "      <td>1</td>\n",
              "      <td>0</td>\n",
              "      <td>0</td>\n",
              "      <td>0</td>\n",
              "      <td>0</td>\n",
              "      <td>1</td>\n",
              "      <td>0</td>\n",
              "      <td>0</td>\n",
              "      <td>0</td>\n",
              "      <td>0</td>\n",
              "      <td>0</td>\n",
              "      <td>0</td>\n",
              "    </tr>\n",
              "    <tr>\n",
              "      <th>4</th>\n",
              "      <td>0</td>\n",
              "      <td>2</td>\n",
              "      <td>70.70</td>\n",
              "      <td>151.65</td>\n",
              "      <td>0</td>\n",
              "      <td>0</td>\n",
              "      <td>0</td>\n",
              "      <td>1</td>\n",
              "      <td>0</td>\n",
              "      <td>0</td>\n",
              "      <td>1</td>\n",
              "      <td>0</td>\n",
              "      <td>0</td>\n",
              "      <td>0</td>\n",
              "      <td>0</td>\n",
              "      <td>0</td>\n",
              "      <td>0</td>\n",
              "      <td>0</td>\n",
              "      <td>0</td>\n",
              "      <td>0</td>\n",
              "      <td>0</td>\n",
              "      <td>0</td>\n",
              "      <td>0</td>\n",
              "      <td>0</td>\n",
              "      <td>0</td>\n",
              "      <td>0</td>\n",
              "      <td>1</td>\n",
              "      <td>0</td>\n",
              "      <td>1</td>\n",
              "      <td>0</td>\n",
              "      <td>1</td>\n",
              "    </tr>\n",
              "  </tbody>\n",
              "</table>\n",
              "</div>\n",
              "      <button class=\"colab-df-convert\" onclick=\"convertToInteractive('df-0d135d68-5cc9-4089-afdc-49477f87a33d')\"\n",
              "              title=\"Convert this dataframe to an interactive table.\"\n",
              "              style=\"display:none;\">\n",
              "        \n",
              "  <svg xmlns=\"http://www.w3.org/2000/svg\" height=\"24px\"viewBox=\"0 0 24 24\"\n",
              "       width=\"24px\">\n",
              "    <path d=\"M0 0h24v24H0V0z\" fill=\"none\"/>\n",
              "    <path d=\"M18.56 5.44l.94 2.06.94-2.06 2.06-.94-2.06-.94-.94-2.06-.94 2.06-2.06.94zm-11 1L8.5 8.5l.94-2.06 2.06-.94-2.06-.94L8.5 2.5l-.94 2.06-2.06.94zm10 10l.94 2.06.94-2.06 2.06-.94-2.06-.94-.94-2.06-.94 2.06-2.06.94z\"/><path d=\"M17.41 7.96l-1.37-1.37c-.4-.4-.92-.59-1.43-.59-.52 0-1.04.2-1.43.59L10.3 9.45l-7.72 7.72c-.78.78-.78 2.05 0 2.83L4 21.41c.39.39.9.59 1.41.59.51 0 1.02-.2 1.41-.59l7.78-7.78 2.81-2.81c.8-.78.8-2.07 0-2.86zM5.41 20L4 18.59l7.72-7.72 1.47 1.35L5.41 20z\"/>\n",
              "  </svg>\n",
              "      </button>\n",
              "      \n",
              "  <style>\n",
              "    .colab-df-container {\n",
              "      display:flex;\n",
              "      flex-wrap:wrap;\n",
              "      gap: 12px;\n",
              "    }\n",
              "\n",
              "    .colab-df-convert {\n",
              "      background-color: #E8F0FE;\n",
              "      border: none;\n",
              "      border-radius: 50%;\n",
              "      cursor: pointer;\n",
              "      display: none;\n",
              "      fill: #1967D2;\n",
              "      height: 32px;\n",
              "      padding: 0 0 0 0;\n",
              "      width: 32px;\n",
              "    }\n",
              "\n",
              "    .colab-df-convert:hover {\n",
              "      background-color: #E2EBFA;\n",
              "      box-shadow: 0px 1px 2px rgba(60, 64, 67, 0.3), 0px 1px 3px 1px rgba(60, 64, 67, 0.15);\n",
              "      fill: #174EA6;\n",
              "    }\n",
              "\n",
              "    [theme=dark] .colab-df-convert {\n",
              "      background-color: #3B4455;\n",
              "      fill: #D2E3FC;\n",
              "    }\n",
              "\n",
              "    [theme=dark] .colab-df-convert:hover {\n",
              "      background-color: #434B5C;\n",
              "      box-shadow: 0px 1px 3px 1px rgba(0, 0, 0, 0.15);\n",
              "      filter: drop-shadow(0px 1px 2px rgba(0, 0, 0, 0.3));\n",
              "      fill: #FFFFFF;\n",
              "    }\n",
              "  </style>\n",
              "\n",
              "      <script>\n",
              "        const buttonEl =\n",
              "          document.querySelector('#df-0d135d68-5cc9-4089-afdc-49477f87a33d button.colab-df-convert');\n",
              "        buttonEl.style.display =\n",
              "          google.colab.kernel.accessAllowed ? 'block' : 'none';\n",
              "\n",
              "        async function convertToInteractive(key) {\n",
              "          const element = document.querySelector('#df-0d135d68-5cc9-4089-afdc-49477f87a33d');\n",
              "          const dataTable =\n",
              "            await google.colab.kernel.invokeFunction('convertToInteractive',\n",
              "                                                     [key], {});\n",
              "          if (!dataTable) return;\n",
              "\n",
              "          const docLinkHtml = 'Like what you see? Visit the ' +\n",
              "            '<a target=\"_blank\" href=https://colab.research.google.com/notebooks/data_table.ipynb>data table notebook</a>'\n",
              "            + ' to learn more about interactive tables.';\n",
              "          element.innerHTML = '';\n",
              "          dataTable['output_type'] = 'display_data';\n",
              "          await google.colab.output.renderOutput(dataTable, element);\n",
              "          const docLink = document.createElement('div');\n",
              "          docLink.innerHTML = docLinkHtml;\n",
              "          element.appendChild(docLink);\n",
              "        }\n",
              "      </script>\n",
              "    </div>\n",
              "  </div>\n",
              "  "
            ],
            "text/plain": [
              "   SeniorCitizen  tenure  ...  PaymentMethod_Mailed check  Churn\n",
              "0              0       1  ...                           0      0\n",
              "1              0      34  ...                           1      0\n",
              "2              0       2  ...                           1      1\n",
              "3              0      45  ...                           0      0\n",
              "4              0       2  ...                           0      1\n",
              "\n",
              "[5 rows x 31 columns]"
            ]
          },
          "metadata": {},
          "execution_count": 49
        }
      ]
    },
    {
      "cell_type": "code",
      "source": [
        "df1.corr()"
      ],
      "metadata": {
        "colab": {
          "base_uri": "https://localhost:8080/",
          "height": 1000
        },
        "id": "fIAKz4K0jpOK",
        "outputId": "98b05a42-eedd-40b6-d8f6-ea4dd6717282"
      },
      "execution_count": 50,
      "outputs": [
        {
          "output_type": "execute_result",
          "data": {
            "text/html": [
              "\n",
              "  <div id=\"df-0ab3194e-0613-40e2-8a6e-f6c7a2897fbd\">\n",
              "    <div class=\"colab-df-container\">\n",
              "      <div>\n",
              "<style scoped>\n",
              "    .dataframe tbody tr th:only-of-type {\n",
              "        vertical-align: middle;\n",
              "    }\n",
              "\n",
              "    .dataframe tbody tr th {\n",
              "        vertical-align: top;\n",
              "    }\n",
              "\n",
              "    .dataframe thead th {\n",
              "        text-align: right;\n",
              "    }\n",
              "</style>\n",
              "<table border=\"1\" class=\"dataframe\">\n",
              "  <thead>\n",
              "    <tr style=\"text-align: right;\">\n",
              "      <th></th>\n",
              "      <th>SeniorCitizen</th>\n",
              "      <th>tenure</th>\n",
              "      <th>MonthlyCharges</th>\n",
              "      <th>TotalCharges</th>\n",
              "      <th>gender_Male</th>\n",
              "      <th>Partner_Yes</th>\n",
              "      <th>Dependents_Yes</th>\n",
              "      <th>PhoneService_Yes</th>\n",
              "      <th>MultipleLines_No phone service</th>\n",
              "      <th>MultipleLines_Yes</th>\n",
              "      <th>InternetService_Fiber optic</th>\n",
              "      <th>InternetService_No</th>\n",
              "      <th>OnlineSecurity_No internet service</th>\n",
              "      <th>OnlineSecurity_Yes</th>\n",
              "      <th>OnlineBackup_No internet service</th>\n",
              "      <th>OnlineBackup_Yes</th>\n",
              "      <th>DeviceProtection_No internet service</th>\n",
              "      <th>DeviceProtection_Yes</th>\n",
              "      <th>TechSupport_No internet service</th>\n",
              "      <th>TechSupport_Yes</th>\n",
              "      <th>StreamingTV_No internet service</th>\n",
              "      <th>StreamingTV_Yes</th>\n",
              "      <th>StreamingMovies_No internet service</th>\n",
              "      <th>StreamingMovies_Yes</th>\n",
              "      <th>Contract_One year</th>\n",
              "      <th>Contract_Two year</th>\n",
              "      <th>PaperlessBilling_Yes</th>\n",
              "      <th>PaymentMethod_Credit card (automatic)</th>\n",
              "      <th>PaymentMethod_Electronic check</th>\n",
              "      <th>PaymentMethod_Mailed check</th>\n",
              "    </tr>\n",
              "  </thead>\n",
              "  <tbody>\n",
              "    <tr>\n",
              "      <th>SeniorCitizen</th>\n",
              "      <td>1.000000</td>\n",
              "      <td>0.016567</td>\n",
              "      <td>0.220173</td>\n",
              "      <td>0.102395</td>\n",
              "      <td>-0.001874</td>\n",
              "      <td>0.016479</td>\n",
              "      <td>-0.211185</td>\n",
              "      <td>0.008576</td>\n",
              "      <td>-0.008576</td>\n",
              "      <td>0.142948</td>\n",
              "      <td>0.255338</td>\n",
              "      <td>-0.182742</td>\n",
              "      <td>-0.182742</td>\n",
              "      <td>-0.038653</td>\n",
              "      <td>-0.182742</td>\n",
              "      <td>0.066572</td>\n",
              "      <td>-0.182742</td>\n",
              "      <td>0.059428</td>\n",
              "      <td>-0.182742</td>\n",
              "      <td>-0.060625</td>\n",
              "      <td>-0.182742</td>\n",
              "      <td>0.105378</td>\n",
              "      <td>-0.182742</td>\n",
              "      <td>0.120176</td>\n",
              "      <td>-0.046262</td>\n",
              "      <td>-0.117000</td>\n",
              "      <td>0.156530</td>\n",
              "      <td>-0.024135</td>\n",
              "      <td>0.171718</td>\n",
              "      <td>-0.153477</td>\n",
              "    </tr>\n",
              "    <tr>\n",
              "      <th>tenure</th>\n",
              "      <td>0.016567</td>\n",
              "      <td>1.000000</td>\n",
              "      <td>0.247900</td>\n",
              "      <td>0.824757</td>\n",
              "      <td>0.005106</td>\n",
              "      <td>0.379697</td>\n",
              "      <td>0.159712</td>\n",
              "      <td>0.008448</td>\n",
              "      <td>-0.008448</td>\n",
              "      <td>0.331941</td>\n",
              "      <td>0.019720</td>\n",
              "      <td>-0.039062</td>\n",
              "      <td>-0.039062</td>\n",
              "      <td>0.327203</td>\n",
              "      <td>-0.039062</td>\n",
              "      <td>0.360277</td>\n",
              "      <td>-0.039062</td>\n",
              "      <td>0.360653</td>\n",
              "      <td>-0.039062</td>\n",
              "      <td>0.324221</td>\n",
              "      <td>-0.039062</td>\n",
              "      <td>0.279756</td>\n",
              "      <td>-0.039062</td>\n",
              "      <td>0.286111</td>\n",
              "      <td>0.202570</td>\n",
              "      <td>0.558533</td>\n",
              "      <td>0.006152</td>\n",
              "      <td>0.233006</td>\n",
              "      <td>-0.208363</td>\n",
              "      <td>-0.233852</td>\n",
              "    </tr>\n",
              "    <tr>\n",
              "      <th>MonthlyCharges</th>\n",
              "      <td>0.220173</td>\n",
              "      <td>0.247900</td>\n",
              "      <td>1.000000</td>\n",
              "      <td>0.650468</td>\n",
              "      <td>-0.014569</td>\n",
              "      <td>0.096848</td>\n",
              "      <td>-0.113890</td>\n",
              "      <td>0.247398</td>\n",
              "      <td>-0.247398</td>\n",
              "      <td>0.490434</td>\n",
              "      <td>0.787066</td>\n",
              "      <td>-0.763557</td>\n",
              "      <td>-0.763557</td>\n",
              "      <td>0.296594</td>\n",
              "      <td>-0.763557</td>\n",
              "      <td>0.441780</td>\n",
              "      <td>-0.763557</td>\n",
              "      <td>0.482692</td>\n",
              "      <td>-0.763557</td>\n",
              "      <td>0.338304</td>\n",
              "      <td>-0.763557</td>\n",
              "      <td>0.629603</td>\n",
              "      <td>-0.763557</td>\n",
              "      <td>0.627429</td>\n",
              "      <td>0.004904</td>\n",
              "      <td>-0.074681</td>\n",
              "      <td>0.352150</td>\n",
              "      <td>0.030550</td>\n",
              "      <td>0.271625</td>\n",
              "      <td>-0.377437</td>\n",
              "    </tr>\n",
              "    <tr>\n",
              "      <th>TotalCharges</th>\n",
              "      <td>0.102395</td>\n",
              "      <td>0.824757</td>\n",
              "      <td>0.650468</td>\n",
              "      <td>1.000000</td>\n",
              "      <td>0.000048</td>\n",
              "      <td>0.318812</td>\n",
              "      <td>0.064535</td>\n",
              "      <td>0.112851</td>\n",
              "      <td>-0.112851</td>\n",
              "      <td>0.468689</td>\n",
              "      <td>0.360547</td>\n",
              "      <td>-0.374263</td>\n",
              "      <td>-0.374263</td>\n",
              "      <td>0.412245</td>\n",
              "      <td>-0.374263</td>\n",
              "      <td>0.509692</td>\n",
              "      <td>-0.374263</td>\n",
              "      <td>0.522462</td>\n",
              "      <td>-0.374263</td>\n",
              "      <td>0.432480</td>\n",
              "      <td>-0.374263</td>\n",
              "      <td>0.515314</td>\n",
              "      <td>-0.374263</td>\n",
              "      <td>0.519574</td>\n",
              "      <td>0.170491</td>\n",
              "      <td>0.357224</td>\n",
              "      <td>0.157676</td>\n",
              "      <td>0.182581</td>\n",
              "      <td>-0.060412</td>\n",
              "      <td>-0.294125</td>\n",
              "    </tr>\n",
              "    <tr>\n",
              "      <th>gender_Male</th>\n",
              "      <td>-0.001874</td>\n",
              "      <td>0.005106</td>\n",
              "      <td>-0.014569</td>\n",
              "      <td>0.000048</td>\n",
              "      <td>1.000000</td>\n",
              "      <td>-0.001808</td>\n",
              "      <td>0.010517</td>\n",
              "      <td>-0.006488</td>\n",
              "      <td>0.006488</td>\n",
              "      <td>-0.008414</td>\n",
              "      <td>-0.011286</td>\n",
              "      <td>0.006026</td>\n",
              "      <td>0.006026</td>\n",
              "      <td>-0.017021</td>\n",
              "      <td>0.006026</td>\n",
              "      <td>-0.013773</td>\n",
              "      <td>0.006026</td>\n",
              "      <td>-0.002105</td>\n",
              "      <td>0.006026</td>\n",
              "      <td>-0.009212</td>\n",
              "      <td>0.006026</td>\n",
              "      <td>-0.008393</td>\n",
              "      <td>0.006026</td>\n",
              "      <td>-0.010487</td>\n",
              "      <td>0.008026</td>\n",
              "      <td>-0.003695</td>\n",
              "      <td>-0.011754</td>\n",
              "      <td>0.001215</td>\n",
              "      <td>0.000752</td>\n",
              "      <td>0.013744</td>\n",
              "    </tr>\n",
              "    <tr>\n",
              "      <th>Partner_Yes</th>\n",
              "      <td>0.016479</td>\n",
              "      <td>0.379697</td>\n",
              "      <td>0.096848</td>\n",
              "      <td>0.318812</td>\n",
              "      <td>-0.001808</td>\n",
              "      <td>1.000000</td>\n",
              "      <td>0.452676</td>\n",
              "      <td>0.017706</td>\n",
              "      <td>-0.017706</td>\n",
              "      <td>0.142057</td>\n",
              "      <td>0.000304</td>\n",
              "      <td>0.000615</td>\n",
              "      <td>0.000615</td>\n",
              "      <td>0.143106</td>\n",
              "      <td>0.000615</td>\n",
              "      <td>0.141498</td>\n",
              "      <td>0.000615</td>\n",
              "      <td>0.153786</td>\n",
              "      <td>0.000615</td>\n",
              "      <td>0.119999</td>\n",
              "      <td>0.000615</td>\n",
              "      <td>0.124666</td>\n",
              "      <td>0.000615</td>\n",
              "      <td>0.117412</td>\n",
              "      <td>0.082783</td>\n",
              "      <td>0.248091</td>\n",
              "      <td>-0.014877</td>\n",
              "      <td>0.082029</td>\n",
              "      <td>-0.083852</td>\n",
              "      <td>-0.095125</td>\n",
              "    </tr>\n",
              "    <tr>\n",
              "      <th>Dependents_Yes</th>\n",
              "      <td>-0.211185</td>\n",
              "      <td>0.159712</td>\n",
              "      <td>-0.113890</td>\n",
              "      <td>0.064535</td>\n",
              "      <td>0.010517</td>\n",
              "      <td>0.452676</td>\n",
              "      <td>1.000000</td>\n",
              "      <td>-0.001762</td>\n",
              "      <td>0.001762</td>\n",
              "      <td>-0.024526</td>\n",
              "      <td>-0.165818</td>\n",
              "      <td>0.139812</td>\n",
              "      <td>0.139812</td>\n",
              "      <td>0.080972</td>\n",
              "      <td>0.139812</td>\n",
              "      <td>0.023671</td>\n",
              "      <td>0.139812</td>\n",
              "      <td>0.013963</td>\n",
              "      <td>0.139812</td>\n",
              "      <td>0.063268</td>\n",
              "      <td>0.139812</td>\n",
              "      <td>-0.016558</td>\n",
              "      <td>0.139812</td>\n",
              "      <td>-0.039741</td>\n",
              "      <td>0.068368</td>\n",
              "      <td>0.204613</td>\n",
              "      <td>-0.111377</td>\n",
              "      <td>0.060267</td>\n",
              "      <td>-0.150642</td>\n",
              "      <td>0.059071</td>\n",
              "    </tr>\n",
              "    <tr>\n",
              "      <th>PhoneService_Yes</th>\n",
              "      <td>0.008576</td>\n",
              "      <td>0.008448</td>\n",
              "      <td>0.247398</td>\n",
              "      <td>0.112851</td>\n",
              "      <td>-0.006488</td>\n",
              "      <td>0.017706</td>\n",
              "      <td>-0.001762</td>\n",
              "      <td>1.000000</td>\n",
              "      <td>-1.000000</td>\n",
              "      <td>0.279690</td>\n",
              "      <td>0.289999</td>\n",
              "      <td>0.172209</td>\n",
              "      <td>0.172209</td>\n",
              "      <td>-0.092893</td>\n",
              "      <td>0.172209</td>\n",
              "      <td>-0.052312</td>\n",
              "      <td>0.172209</td>\n",
              "      <td>-0.071227</td>\n",
              "      <td>0.172209</td>\n",
              "      <td>-0.096340</td>\n",
              "      <td>0.172209</td>\n",
              "      <td>-0.022574</td>\n",
              "      <td>0.172209</td>\n",
              "      <td>-0.032959</td>\n",
              "      <td>-0.002791</td>\n",
              "      <td>0.003519</td>\n",
              "      <td>0.016505</td>\n",
              "      <td>-0.007721</td>\n",
              "      <td>0.003062</td>\n",
              "      <td>-0.003319</td>\n",
              "    </tr>\n",
              "    <tr>\n",
              "      <th>MultipleLines_No phone service</th>\n",
              "      <td>-0.008576</td>\n",
              "      <td>-0.008448</td>\n",
              "      <td>-0.247398</td>\n",
              "      <td>-0.112851</td>\n",
              "      <td>0.006488</td>\n",
              "      <td>-0.017706</td>\n",
              "      <td>0.001762</td>\n",
              "      <td>-1.000000</td>\n",
              "      <td>1.000000</td>\n",
              "      <td>-0.279690</td>\n",
              "      <td>-0.289999</td>\n",
              "      <td>-0.172209</td>\n",
              "      <td>-0.172209</td>\n",
              "      <td>0.092893</td>\n",
              "      <td>-0.172209</td>\n",
              "      <td>0.052312</td>\n",
              "      <td>-0.172209</td>\n",
              "      <td>0.071227</td>\n",
              "      <td>-0.172209</td>\n",
              "      <td>0.096340</td>\n",
              "      <td>-0.172209</td>\n",
              "      <td>0.022574</td>\n",
              "      <td>-0.172209</td>\n",
              "      <td>0.032959</td>\n",
              "      <td>0.002791</td>\n",
              "      <td>-0.003519</td>\n",
              "      <td>-0.016505</td>\n",
              "      <td>0.007721</td>\n",
              "      <td>-0.003062</td>\n",
              "      <td>0.003319</td>\n",
              "    </tr>\n",
              "    <tr>\n",
              "      <th>MultipleLines_Yes</th>\n",
              "      <td>0.142948</td>\n",
              "      <td>0.331941</td>\n",
              "      <td>0.490434</td>\n",
              "      <td>0.468689</td>\n",
              "      <td>-0.008414</td>\n",
              "      <td>0.142057</td>\n",
              "      <td>-0.024526</td>\n",
              "      <td>0.279690</td>\n",
              "      <td>-0.279690</td>\n",
              "      <td>1.000000</td>\n",
              "      <td>0.366083</td>\n",
              "      <td>-0.210564</td>\n",
              "      <td>-0.210564</td>\n",
              "      <td>0.098108</td>\n",
              "      <td>-0.210564</td>\n",
              "      <td>0.202237</td>\n",
              "      <td>-0.210564</td>\n",
              "      <td>0.201137</td>\n",
              "      <td>-0.210564</td>\n",
              "      <td>0.100571</td>\n",
              "      <td>-0.210564</td>\n",
              "      <td>0.257152</td>\n",
              "      <td>-0.210564</td>\n",
              "      <td>0.258751</td>\n",
              "      <td>-0.003794</td>\n",
              "      <td>0.106253</td>\n",
              "      <td>0.163530</td>\n",
              "      <td>0.060048</td>\n",
              "      <td>0.083618</td>\n",
              "      <td>-0.227206</td>\n",
              "    </tr>\n",
              "    <tr>\n",
              "      <th>InternetService_Fiber optic</th>\n",
              "      <td>0.255338</td>\n",
              "      <td>0.019720</td>\n",
              "      <td>0.787066</td>\n",
              "      <td>0.360547</td>\n",
              "      <td>-0.011286</td>\n",
              "      <td>0.000304</td>\n",
              "      <td>-0.165818</td>\n",
              "      <td>0.289999</td>\n",
              "      <td>-0.289999</td>\n",
              "      <td>0.366083</td>\n",
              "      <td>1.000000</td>\n",
              "      <td>-0.465793</td>\n",
              "      <td>-0.465793</td>\n",
              "      <td>-0.030696</td>\n",
              "      <td>-0.465793</td>\n",
              "      <td>0.165651</td>\n",
              "      <td>-0.465793</td>\n",
              "      <td>0.176049</td>\n",
              "      <td>-0.465793</td>\n",
              "      <td>-0.020492</td>\n",
              "      <td>-0.465793</td>\n",
              "      <td>0.329349</td>\n",
              "      <td>-0.465793</td>\n",
              "      <td>0.322923</td>\n",
              "      <td>-0.076324</td>\n",
              "      <td>-0.211526</td>\n",
              "      <td>0.326853</td>\n",
              "      <td>-0.050077</td>\n",
              "      <td>0.336410</td>\n",
              "      <td>-0.306834</td>\n",
              "    </tr>\n",
              "    <tr>\n",
              "      <th>InternetService_No</th>\n",
              "      <td>-0.182742</td>\n",
              "      <td>-0.039062</td>\n",
              "      <td>-0.763557</td>\n",
              "      <td>-0.374263</td>\n",
              "      <td>0.006026</td>\n",
              "      <td>0.000615</td>\n",
              "      <td>0.139812</td>\n",
              "      <td>0.172209</td>\n",
              "      <td>-0.172209</td>\n",
              "      <td>-0.210564</td>\n",
              "      <td>-0.465793</td>\n",
              "      <td>1.000000</td>\n",
              "      <td>1.000000</td>\n",
              "      <td>-0.333403</td>\n",
              "      <td>1.000000</td>\n",
              "      <td>-0.381593</td>\n",
              "      <td>1.000000</td>\n",
              "      <td>-0.380754</td>\n",
              "      <td>1.000000</td>\n",
              "      <td>-0.336298</td>\n",
              "      <td>1.000000</td>\n",
              "      <td>-0.415552</td>\n",
              "      <td>1.000000</td>\n",
              "      <td>-0.418675</td>\n",
              "      <td>0.038004</td>\n",
              "      <td>0.218278</td>\n",
              "      <td>-0.321013</td>\n",
              "      <td>0.001030</td>\n",
              "      <td>-0.284917</td>\n",
              "      <td>0.321361</td>\n",
              "    </tr>\n",
              "    <tr>\n",
              "      <th>OnlineSecurity_No internet service</th>\n",
              "      <td>-0.182742</td>\n",
              "      <td>-0.039062</td>\n",
              "      <td>-0.763557</td>\n",
              "      <td>-0.374263</td>\n",
              "      <td>0.006026</td>\n",
              "      <td>0.000615</td>\n",
              "      <td>0.139812</td>\n",
              "      <td>0.172209</td>\n",
              "      <td>-0.172209</td>\n",
              "      <td>-0.210564</td>\n",
              "      <td>-0.465793</td>\n",
              "      <td>1.000000</td>\n",
              "      <td>1.000000</td>\n",
              "      <td>-0.333403</td>\n",
              "      <td>1.000000</td>\n",
              "      <td>-0.381593</td>\n",
              "      <td>1.000000</td>\n",
              "      <td>-0.380754</td>\n",
              "      <td>1.000000</td>\n",
              "      <td>-0.336298</td>\n",
              "      <td>1.000000</td>\n",
              "      <td>-0.415552</td>\n",
              "      <td>1.000000</td>\n",
              "      <td>-0.418675</td>\n",
              "      <td>0.038004</td>\n",
              "      <td>0.218278</td>\n",
              "      <td>-0.321013</td>\n",
              "      <td>0.001030</td>\n",
              "      <td>-0.284917</td>\n",
              "      <td>0.321361</td>\n",
              "    </tr>\n",
              "    <tr>\n",
              "      <th>OnlineSecurity_Yes</th>\n",
              "      <td>-0.038653</td>\n",
              "      <td>0.327203</td>\n",
              "      <td>0.296594</td>\n",
              "      <td>0.412245</td>\n",
              "      <td>-0.017021</td>\n",
              "      <td>0.143106</td>\n",
              "      <td>0.080972</td>\n",
              "      <td>-0.092893</td>\n",
              "      <td>0.092893</td>\n",
              "      <td>0.098108</td>\n",
              "      <td>-0.030696</td>\n",
              "      <td>-0.333403</td>\n",
              "      <td>-0.333403</td>\n",
              "      <td>1.000000</td>\n",
              "      <td>-0.333403</td>\n",
              "      <td>0.283832</td>\n",
              "      <td>-0.333403</td>\n",
              "      <td>0.275438</td>\n",
              "      <td>-0.333403</td>\n",
              "      <td>0.354931</td>\n",
              "      <td>-0.333403</td>\n",
              "      <td>0.176207</td>\n",
              "      <td>-0.333403</td>\n",
              "      <td>0.187398</td>\n",
              "      <td>0.100162</td>\n",
              "      <td>0.191773</td>\n",
              "      <td>-0.003636</td>\n",
              "      <td>0.115721</td>\n",
              "      <td>-0.112338</td>\n",
              "      <td>-0.080798</td>\n",
              "    </tr>\n",
              "    <tr>\n",
              "      <th>OnlineBackup_No internet service</th>\n",
              "      <td>-0.182742</td>\n",
              "      <td>-0.039062</td>\n",
              "      <td>-0.763557</td>\n",
              "      <td>-0.374263</td>\n",
              "      <td>0.006026</td>\n",
              "      <td>0.000615</td>\n",
              "      <td>0.139812</td>\n",
              "      <td>0.172209</td>\n",
              "      <td>-0.172209</td>\n",
              "      <td>-0.210564</td>\n",
              "      <td>-0.465793</td>\n",
              "      <td>1.000000</td>\n",
              "      <td>1.000000</td>\n",
              "      <td>-0.333403</td>\n",
              "      <td>1.000000</td>\n",
              "      <td>-0.381593</td>\n",
              "      <td>1.000000</td>\n",
              "      <td>-0.380754</td>\n",
              "      <td>1.000000</td>\n",
              "      <td>-0.336298</td>\n",
              "      <td>1.000000</td>\n",
              "      <td>-0.415552</td>\n",
              "      <td>1.000000</td>\n",
              "      <td>-0.418675</td>\n",
              "      <td>0.038004</td>\n",
              "      <td>0.218278</td>\n",
              "      <td>-0.321013</td>\n",
              "      <td>0.001030</td>\n",
              "      <td>-0.284917</td>\n",
              "      <td>0.321361</td>\n",
              "    </tr>\n",
              "    <tr>\n",
              "      <th>OnlineBackup_Yes</th>\n",
              "      <td>0.066572</td>\n",
              "      <td>0.360277</td>\n",
              "      <td>0.441780</td>\n",
              "      <td>0.509692</td>\n",
              "      <td>-0.013773</td>\n",
              "      <td>0.141498</td>\n",
              "      <td>0.023671</td>\n",
              "      <td>-0.052312</td>\n",
              "      <td>0.052312</td>\n",
              "      <td>0.202237</td>\n",
              "      <td>0.165651</td>\n",
              "      <td>-0.381593</td>\n",
              "      <td>-0.381593</td>\n",
              "      <td>0.283832</td>\n",
              "      <td>-0.381593</td>\n",
              "      <td>1.000000</td>\n",
              "      <td>-0.381593</td>\n",
              "      <td>0.303546</td>\n",
              "      <td>-0.381593</td>\n",
              "      <td>0.294233</td>\n",
              "      <td>-0.381593</td>\n",
              "      <td>0.282106</td>\n",
              "      <td>-0.381593</td>\n",
              "      <td>0.274501</td>\n",
              "      <td>0.083722</td>\n",
              "      <td>0.111400</td>\n",
              "      <td>0.126735</td>\n",
              "      <td>0.090785</td>\n",
              "      <td>-0.000408</td>\n",
              "      <td>-0.174164</td>\n",
              "    </tr>\n",
              "    <tr>\n",
              "      <th>DeviceProtection_No internet service</th>\n",
              "      <td>-0.182742</td>\n",
              "      <td>-0.039062</td>\n",
              "      <td>-0.763557</td>\n",
              "      <td>-0.374263</td>\n",
              "      <td>0.006026</td>\n",
              "      <td>0.000615</td>\n",
              "      <td>0.139812</td>\n",
              "      <td>0.172209</td>\n",
              "      <td>-0.172209</td>\n",
              "      <td>-0.210564</td>\n",
              "      <td>-0.465793</td>\n",
              "      <td>1.000000</td>\n",
              "      <td>1.000000</td>\n",
              "      <td>-0.333403</td>\n",
              "      <td>1.000000</td>\n",
              "      <td>-0.381593</td>\n",
              "      <td>1.000000</td>\n",
              "      <td>-0.380754</td>\n",
              "      <td>1.000000</td>\n",
              "      <td>-0.336298</td>\n",
              "      <td>1.000000</td>\n",
              "      <td>-0.415552</td>\n",
              "      <td>1.000000</td>\n",
              "      <td>-0.418675</td>\n",
              "      <td>0.038004</td>\n",
              "      <td>0.218278</td>\n",
              "      <td>-0.321013</td>\n",
              "      <td>0.001030</td>\n",
              "      <td>-0.284917</td>\n",
              "      <td>0.321361</td>\n",
              "    </tr>\n",
              "    <tr>\n",
              "      <th>DeviceProtection_Yes</th>\n",
              "      <td>0.059428</td>\n",
              "      <td>0.360653</td>\n",
              "      <td>0.482692</td>\n",
              "      <td>0.522462</td>\n",
              "      <td>-0.002105</td>\n",
              "      <td>0.153786</td>\n",
              "      <td>0.013963</td>\n",
              "      <td>-0.071227</td>\n",
              "      <td>0.071227</td>\n",
              "      <td>0.201137</td>\n",
              "      <td>0.176049</td>\n",
              "      <td>-0.380754</td>\n",
              "      <td>-0.380754</td>\n",
              "      <td>0.275438</td>\n",
              "      <td>-0.380754</td>\n",
              "      <td>0.303546</td>\n",
              "      <td>-0.380754</td>\n",
              "      <td>1.000000</td>\n",
              "      <td>-0.380754</td>\n",
              "      <td>0.333313</td>\n",
              "      <td>-0.380754</td>\n",
              "      <td>0.390874</td>\n",
              "      <td>-0.380754</td>\n",
              "      <td>0.402111</td>\n",
              "      <td>0.102495</td>\n",
              "      <td>0.165096</td>\n",
              "      <td>0.103797</td>\n",
              "      <td>0.111554</td>\n",
              "      <td>-0.003351</td>\n",
              "      <td>-0.187373</td>\n",
              "    </tr>\n",
              "    <tr>\n",
              "      <th>TechSupport_No internet service</th>\n",
              "      <td>-0.182742</td>\n",
              "      <td>-0.039062</td>\n",
              "      <td>-0.763557</td>\n",
              "      <td>-0.374263</td>\n",
              "      <td>0.006026</td>\n",
              "      <td>0.000615</td>\n",
              "      <td>0.139812</td>\n",
              "      <td>0.172209</td>\n",
              "      <td>-0.172209</td>\n",
              "      <td>-0.210564</td>\n",
              "      <td>-0.465793</td>\n",
              "      <td>1.000000</td>\n",
              "      <td>1.000000</td>\n",
              "      <td>-0.333403</td>\n",
              "      <td>1.000000</td>\n",
              "      <td>-0.381593</td>\n",
              "      <td>1.000000</td>\n",
              "      <td>-0.380754</td>\n",
              "      <td>1.000000</td>\n",
              "      <td>-0.336298</td>\n",
              "      <td>1.000000</td>\n",
              "      <td>-0.415552</td>\n",
              "      <td>1.000000</td>\n",
              "      <td>-0.418675</td>\n",
              "      <td>0.038004</td>\n",
              "      <td>0.218278</td>\n",
              "      <td>-0.321013</td>\n",
              "      <td>0.001030</td>\n",
              "      <td>-0.284917</td>\n",
              "      <td>0.321361</td>\n",
              "    </tr>\n",
              "    <tr>\n",
              "      <th>TechSupport_Yes</th>\n",
              "      <td>-0.060625</td>\n",
              "      <td>0.324221</td>\n",
              "      <td>0.338304</td>\n",
              "      <td>0.432480</td>\n",
              "      <td>-0.009212</td>\n",
              "      <td>0.119999</td>\n",
              "      <td>0.063268</td>\n",
              "      <td>-0.096340</td>\n",
              "      <td>0.096340</td>\n",
              "      <td>0.100571</td>\n",
              "      <td>-0.020492</td>\n",
              "      <td>-0.336298</td>\n",
              "      <td>-0.336298</td>\n",
              "      <td>0.354931</td>\n",
              "      <td>-0.336298</td>\n",
              "      <td>0.294233</td>\n",
              "      <td>-0.336298</td>\n",
              "      <td>0.333313</td>\n",
              "      <td>-0.336298</td>\n",
              "      <td>1.000000</td>\n",
              "      <td>-0.336298</td>\n",
              "      <td>0.278070</td>\n",
              "      <td>-0.336298</td>\n",
              "      <td>0.279358</td>\n",
              "      <td>0.095775</td>\n",
              "      <td>0.240824</td>\n",
              "      <td>0.037880</td>\n",
              "      <td>0.117272</td>\n",
              "      <td>-0.114839</td>\n",
              "      <td>-0.085509</td>\n",
              "    </tr>\n",
              "    <tr>\n",
              "      <th>StreamingTV_No internet service</th>\n",
              "      <td>-0.182742</td>\n",
              "      <td>-0.039062</td>\n",
              "      <td>-0.763557</td>\n",
              "      <td>-0.374263</td>\n",
              "      <td>0.006026</td>\n",
              "      <td>0.000615</td>\n",
              "      <td>0.139812</td>\n",
              "      <td>0.172209</td>\n",
              "      <td>-0.172209</td>\n",
              "      <td>-0.210564</td>\n",
              "      <td>-0.465793</td>\n",
              "      <td>1.000000</td>\n",
              "      <td>1.000000</td>\n",
              "      <td>-0.333403</td>\n",
              "      <td>1.000000</td>\n",
              "      <td>-0.381593</td>\n",
              "      <td>1.000000</td>\n",
              "      <td>-0.380754</td>\n",
              "      <td>1.000000</td>\n",
              "      <td>-0.336298</td>\n",
              "      <td>1.000000</td>\n",
              "      <td>-0.415552</td>\n",
              "      <td>1.000000</td>\n",
              "      <td>-0.418675</td>\n",
              "      <td>0.038004</td>\n",
              "      <td>0.218278</td>\n",
              "      <td>-0.321013</td>\n",
              "      <td>0.001030</td>\n",
              "      <td>-0.284917</td>\n",
              "      <td>0.321361</td>\n",
              "    </tr>\n",
              "    <tr>\n",
              "      <th>StreamingTV_Yes</th>\n",
              "      <td>0.105378</td>\n",
              "      <td>0.279756</td>\n",
              "      <td>0.629603</td>\n",
              "      <td>0.515314</td>\n",
              "      <td>-0.008393</td>\n",
              "      <td>0.124666</td>\n",
              "      <td>-0.016558</td>\n",
              "      <td>-0.022574</td>\n",
              "      <td>0.022574</td>\n",
              "      <td>0.257152</td>\n",
              "      <td>0.329349</td>\n",
              "      <td>-0.415552</td>\n",
              "      <td>-0.415552</td>\n",
              "      <td>0.176207</td>\n",
              "      <td>-0.415552</td>\n",
              "      <td>0.282106</td>\n",
              "      <td>-0.415552</td>\n",
              "      <td>0.390874</td>\n",
              "      <td>-0.415552</td>\n",
              "      <td>0.278070</td>\n",
              "      <td>-0.415552</td>\n",
              "      <td>1.000000</td>\n",
              "      <td>-0.415552</td>\n",
              "      <td>0.533094</td>\n",
              "      <td>0.061612</td>\n",
              "      <td>0.072049</td>\n",
              "      <td>0.223841</td>\n",
              "      <td>0.040433</td>\n",
              "      <td>0.144626</td>\n",
              "      <td>-0.247742</td>\n",
              "    </tr>\n",
              "    <tr>\n",
              "      <th>StreamingMovies_No internet service</th>\n",
              "      <td>-0.182742</td>\n",
              "      <td>-0.039062</td>\n",
              "      <td>-0.763557</td>\n",
              "      <td>-0.374263</td>\n",
              "      <td>0.006026</td>\n",
              "      <td>0.000615</td>\n",
              "      <td>0.139812</td>\n",
              "      <td>0.172209</td>\n",
              "      <td>-0.172209</td>\n",
              "      <td>-0.210564</td>\n",
              "      <td>-0.465793</td>\n",
              "      <td>1.000000</td>\n",
              "      <td>1.000000</td>\n",
              "      <td>-0.333403</td>\n",
              "      <td>1.000000</td>\n",
              "      <td>-0.381593</td>\n",
              "      <td>1.000000</td>\n",
              "      <td>-0.380754</td>\n",
              "      <td>1.000000</td>\n",
              "      <td>-0.336298</td>\n",
              "      <td>1.000000</td>\n",
              "      <td>-0.415552</td>\n",
              "      <td>1.000000</td>\n",
              "      <td>-0.418675</td>\n",
              "      <td>0.038004</td>\n",
              "      <td>0.218278</td>\n",
              "      <td>-0.321013</td>\n",
              "      <td>0.001030</td>\n",
              "      <td>-0.284917</td>\n",
              "      <td>0.321361</td>\n",
              "    </tr>\n",
              "    <tr>\n",
              "      <th>StreamingMovies_Yes</th>\n",
              "      <td>0.120176</td>\n",
              "      <td>0.286111</td>\n",
              "      <td>0.627429</td>\n",
              "      <td>0.519574</td>\n",
              "      <td>-0.010487</td>\n",
              "      <td>0.117412</td>\n",
              "      <td>-0.039741</td>\n",
              "      <td>-0.032959</td>\n",
              "      <td>0.032959</td>\n",
              "      <td>0.258751</td>\n",
              "      <td>0.322923</td>\n",
              "      <td>-0.418675</td>\n",
              "      <td>-0.418675</td>\n",
              "      <td>0.187398</td>\n",
              "      <td>-0.418675</td>\n",
              "      <td>0.274501</td>\n",
              "      <td>-0.418675</td>\n",
              "      <td>0.402111</td>\n",
              "      <td>-0.418675</td>\n",
              "      <td>0.279358</td>\n",
              "      <td>-0.418675</td>\n",
              "      <td>0.533094</td>\n",
              "      <td>-0.418675</td>\n",
              "      <td>1.000000</td>\n",
              "      <td>0.064926</td>\n",
              "      <td>0.073960</td>\n",
              "      <td>0.211716</td>\n",
              "      <td>0.048575</td>\n",
              "      <td>0.137966</td>\n",
              "      <td>-0.250595</td>\n",
              "    </tr>\n",
              "    <tr>\n",
              "      <th>Contract_One year</th>\n",
              "      <td>-0.046262</td>\n",
              "      <td>0.202570</td>\n",
              "      <td>0.004904</td>\n",
              "      <td>0.170491</td>\n",
              "      <td>0.008026</td>\n",
              "      <td>0.082783</td>\n",
              "      <td>0.068368</td>\n",
              "      <td>-0.002791</td>\n",
              "      <td>0.002791</td>\n",
              "      <td>-0.003794</td>\n",
              "      <td>-0.076324</td>\n",
              "      <td>0.038004</td>\n",
              "      <td>0.038004</td>\n",
              "      <td>0.100162</td>\n",
              "      <td>0.038004</td>\n",
              "      <td>0.083722</td>\n",
              "      <td>0.038004</td>\n",
              "      <td>0.102495</td>\n",
              "      <td>0.038004</td>\n",
              "      <td>0.095775</td>\n",
              "      <td>0.038004</td>\n",
              "      <td>0.061612</td>\n",
              "      <td>0.038004</td>\n",
              "      <td>0.064926</td>\n",
              "      <td>1.000000</td>\n",
              "      <td>-0.289510</td>\n",
              "      <td>-0.051391</td>\n",
              "      <td>0.067589</td>\n",
              "      <td>-0.109130</td>\n",
              "      <td>-0.000116</td>\n",
              "    </tr>\n",
              "    <tr>\n",
              "      <th>Contract_Two year</th>\n",
              "      <td>-0.117000</td>\n",
              "      <td>0.558533</td>\n",
              "      <td>-0.074681</td>\n",
              "      <td>0.357224</td>\n",
              "      <td>-0.003695</td>\n",
              "      <td>0.248091</td>\n",
              "      <td>0.204613</td>\n",
              "      <td>0.003519</td>\n",
              "      <td>-0.003519</td>\n",
              "      <td>0.106253</td>\n",
              "      <td>-0.211526</td>\n",
              "      <td>0.218278</td>\n",
              "      <td>0.218278</td>\n",
              "      <td>0.191773</td>\n",
              "      <td>0.218278</td>\n",
              "      <td>0.111400</td>\n",
              "      <td>0.218278</td>\n",
              "      <td>0.165096</td>\n",
              "      <td>0.218278</td>\n",
              "      <td>0.240824</td>\n",
              "      <td>0.218278</td>\n",
              "      <td>0.072049</td>\n",
              "      <td>0.218278</td>\n",
              "      <td>0.073960</td>\n",
              "      <td>-0.289510</td>\n",
              "      <td>1.000000</td>\n",
              "      <td>-0.147889</td>\n",
              "      <td>0.173265</td>\n",
              "      <td>-0.282138</td>\n",
              "      <td>-0.004705</td>\n",
              "    </tr>\n",
              "    <tr>\n",
              "      <th>PaperlessBilling_Yes</th>\n",
              "      <td>0.156530</td>\n",
              "      <td>0.006152</td>\n",
              "      <td>0.352150</td>\n",
              "      <td>0.157676</td>\n",
              "      <td>-0.011754</td>\n",
              "      <td>-0.014877</td>\n",
              "      <td>-0.111377</td>\n",
              "      <td>0.016505</td>\n",
              "      <td>-0.016505</td>\n",
              "      <td>0.163530</td>\n",
              "      <td>0.326853</td>\n",
              "      <td>-0.321013</td>\n",
              "      <td>-0.321013</td>\n",
              "      <td>-0.003636</td>\n",
              "      <td>-0.321013</td>\n",
              "      <td>0.126735</td>\n",
              "      <td>-0.321013</td>\n",
              "      <td>0.103797</td>\n",
              "      <td>-0.321013</td>\n",
              "      <td>0.037880</td>\n",
              "      <td>-0.321013</td>\n",
              "      <td>0.223841</td>\n",
              "      <td>-0.321013</td>\n",
              "      <td>0.211716</td>\n",
              "      <td>-0.051391</td>\n",
              "      <td>-0.147889</td>\n",
              "      <td>1.000000</td>\n",
              "      <td>-0.013589</td>\n",
              "      <td>0.208865</td>\n",
              "      <td>-0.205398</td>\n",
              "    </tr>\n",
              "    <tr>\n",
              "      <th>PaymentMethod_Credit card (automatic)</th>\n",
              "      <td>-0.024135</td>\n",
              "      <td>0.233006</td>\n",
              "      <td>0.030550</td>\n",
              "      <td>0.182581</td>\n",
              "      <td>0.001215</td>\n",
              "      <td>0.082029</td>\n",
              "      <td>0.060267</td>\n",
              "      <td>-0.007721</td>\n",
              "      <td>0.007721</td>\n",
              "      <td>0.060048</td>\n",
              "      <td>-0.050077</td>\n",
              "      <td>0.001030</td>\n",
              "      <td>0.001030</td>\n",
              "      <td>0.115721</td>\n",
              "      <td>0.001030</td>\n",
              "      <td>0.090785</td>\n",
              "      <td>0.001030</td>\n",
              "      <td>0.111554</td>\n",
              "      <td>0.001030</td>\n",
              "      <td>0.117272</td>\n",
              "      <td>0.001030</td>\n",
              "      <td>0.040433</td>\n",
              "      <td>0.001030</td>\n",
              "      <td>0.048575</td>\n",
              "      <td>0.067589</td>\n",
              "      <td>0.173265</td>\n",
              "      <td>-0.013589</td>\n",
              "      <td>1.000000</td>\n",
              "      <td>-0.373322</td>\n",
              "      <td>-0.286049</td>\n",
              "    </tr>\n",
              "    <tr>\n",
              "      <th>PaymentMethod_Electronic check</th>\n",
              "      <td>0.171718</td>\n",
              "      <td>-0.208363</td>\n",
              "      <td>0.271625</td>\n",
              "      <td>-0.060412</td>\n",
              "      <td>0.000752</td>\n",
              "      <td>-0.083852</td>\n",
              "      <td>-0.150642</td>\n",
              "      <td>0.003062</td>\n",
              "      <td>-0.003062</td>\n",
              "      <td>0.083618</td>\n",
              "      <td>0.336410</td>\n",
              "      <td>-0.284917</td>\n",
              "      <td>-0.284917</td>\n",
              "      <td>-0.112338</td>\n",
              "      <td>-0.284917</td>\n",
              "      <td>-0.000408</td>\n",
              "      <td>-0.284917</td>\n",
              "      <td>-0.003351</td>\n",
              "      <td>-0.284917</td>\n",
              "      <td>-0.114839</td>\n",
              "      <td>-0.284917</td>\n",
              "      <td>0.144626</td>\n",
              "      <td>-0.284917</td>\n",
              "      <td>0.137966</td>\n",
              "      <td>-0.109130</td>\n",
              "      <td>-0.282138</td>\n",
              "      <td>0.208865</td>\n",
              "      <td>-0.373322</td>\n",
              "      <td>1.000000</td>\n",
              "      <td>-0.387372</td>\n",
              "    </tr>\n",
              "    <tr>\n",
              "      <th>PaymentMethod_Mailed check</th>\n",
              "      <td>-0.153477</td>\n",
              "      <td>-0.233852</td>\n",
              "      <td>-0.377437</td>\n",
              "      <td>-0.294125</td>\n",
              "      <td>0.013744</td>\n",
              "      <td>-0.095125</td>\n",
              "      <td>0.059071</td>\n",
              "      <td>-0.003319</td>\n",
              "      <td>0.003319</td>\n",
              "      <td>-0.227206</td>\n",
              "      <td>-0.306834</td>\n",
              "      <td>0.321361</td>\n",
              "      <td>0.321361</td>\n",
              "      <td>-0.080798</td>\n",
              "      <td>0.321361</td>\n",
              "      <td>-0.174164</td>\n",
              "      <td>0.321361</td>\n",
              "      <td>-0.187373</td>\n",
              "      <td>0.321361</td>\n",
              "      <td>-0.085509</td>\n",
              "      <td>0.321361</td>\n",
              "      <td>-0.247742</td>\n",
              "      <td>0.321361</td>\n",
              "      <td>-0.250595</td>\n",
              "      <td>-0.000116</td>\n",
              "      <td>-0.004705</td>\n",
              "      <td>-0.205398</td>\n",
              "      <td>-0.286049</td>\n",
              "      <td>-0.387372</td>\n",
              "      <td>1.000000</td>\n",
              "    </tr>\n",
              "  </tbody>\n",
              "</table>\n",
              "</div>\n",
              "      <button class=\"colab-df-convert\" onclick=\"convertToInteractive('df-0ab3194e-0613-40e2-8a6e-f6c7a2897fbd')\"\n",
              "              title=\"Convert this dataframe to an interactive table.\"\n",
              "              style=\"display:none;\">\n",
              "        \n",
              "  <svg xmlns=\"http://www.w3.org/2000/svg\" height=\"24px\"viewBox=\"0 0 24 24\"\n",
              "       width=\"24px\">\n",
              "    <path d=\"M0 0h24v24H0V0z\" fill=\"none\"/>\n",
              "    <path d=\"M18.56 5.44l.94 2.06.94-2.06 2.06-.94-2.06-.94-.94-2.06-.94 2.06-2.06.94zm-11 1L8.5 8.5l.94-2.06 2.06-.94-2.06-.94L8.5 2.5l-.94 2.06-2.06.94zm10 10l.94 2.06.94-2.06 2.06-.94-2.06-.94-.94-2.06-.94 2.06-2.06.94z\"/><path d=\"M17.41 7.96l-1.37-1.37c-.4-.4-.92-.59-1.43-.59-.52 0-1.04.2-1.43.59L10.3 9.45l-7.72 7.72c-.78.78-.78 2.05 0 2.83L4 21.41c.39.39.9.59 1.41.59.51 0 1.02-.2 1.41-.59l7.78-7.78 2.81-2.81c.8-.78.8-2.07 0-2.86zM5.41 20L4 18.59l7.72-7.72 1.47 1.35L5.41 20z\"/>\n",
              "  </svg>\n",
              "      </button>\n",
              "      \n",
              "  <style>\n",
              "    .colab-df-container {\n",
              "      display:flex;\n",
              "      flex-wrap:wrap;\n",
              "      gap: 12px;\n",
              "    }\n",
              "\n",
              "    .colab-df-convert {\n",
              "      background-color: #E8F0FE;\n",
              "      border: none;\n",
              "      border-radius: 50%;\n",
              "      cursor: pointer;\n",
              "      display: none;\n",
              "      fill: #1967D2;\n",
              "      height: 32px;\n",
              "      padding: 0 0 0 0;\n",
              "      width: 32px;\n",
              "    }\n",
              "\n",
              "    .colab-df-convert:hover {\n",
              "      background-color: #E2EBFA;\n",
              "      box-shadow: 0px 1px 2px rgba(60, 64, 67, 0.3), 0px 1px 3px 1px rgba(60, 64, 67, 0.15);\n",
              "      fill: #174EA6;\n",
              "    }\n",
              "\n",
              "    [theme=dark] .colab-df-convert {\n",
              "      background-color: #3B4455;\n",
              "      fill: #D2E3FC;\n",
              "    }\n",
              "\n",
              "    [theme=dark] .colab-df-convert:hover {\n",
              "      background-color: #434B5C;\n",
              "      box-shadow: 0px 1px 3px 1px rgba(0, 0, 0, 0.15);\n",
              "      filter: drop-shadow(0px 1px 2px rgba(0, 0, 0, 0.3));\n",
              "      fill: #FFFFFF;\n",
              "    }\n",
              "  </style>\n",
              "\n",
              "      <script>\n",
              "        const buttonEl =\n",
              "          document.querySelector('#df-0ab3194e-0613-40e2-8a6e-f6c7a2897fbd button.colab-df-convert');\n",
              "        buttonEl.style.display =\n",
              "          google.colab.kernel.accessAllowed ? 'block' : 'none';\n",
              "\n",
              "        async function convertToInteractive(key) {\n",
              "          const element = document.querySelector('#df-0ab3194e-0613-40e2-8a6e-f6c7a2897fbd');\n",
              "          const dataTable =\n",
              "            await google.colab.kernel.invokeFunction('convertToInteractive',\n",
              "                                                     [key], {});\n",
              "          if (!dataTable) return;\n",
              "\n",
              "          const docLinkHtml = 'Like what you see? Visit the ' +\n",
              "            '<a target=\"_blank\" href=https://colab.research.google.com/notebooks/data_table.ipynb>data table notebook</a>'\n",
              "            + ' to learn more about interactive tables.';\n",
              "          element.innerHTML = '';\n",
              "          dataTable['output_type'] = 'display_data';\n",
              "          await google.colab.output.renderOutput(dataTable, element);\n",
              "          const docLink = document.createElement('div');\n",
              "          docLink.innerHTML = docLinkHtml;\n",
              "          element.appendChild(docLink);\n",
              "        }\n",
              "      </script>\n",
              "    </div>\n",
              "  </div>\n",
              "  "
            ],
            "text/plain": [
              "                                       SeniorCitizen  ...  PaymentMethod_Mailed check\n",
              "SeniorCitizen                               1.000000  ...                   -0.153477\n",
              "tenure                                      0.016567  ...                   -0.233852\n",
              "MonthlyCharges                              0.220173  ...                   -0.377437\n",
              "TotalCharges                                0.102395  ...                   -0.294125\n",
              "gender_Male                                -0.001874  ...                    0.013744\n",
              "Partner_Yes                                 0.016479  ...                   -0.095125\n",
              "Dependents_Yes                             -0.211185  ...                    0.059071\n",
              "PhoneService_Yes                            0.008576  ...                   -0.003319\n",
              "MultipleLines_No phone service             -0.008576  ...                    0.003319\n",
              "MultipleLines_Yes                           0.142948  ...                   -0.227206\n",
              "InternetService_Fiber optic                 0.255338  ...                   -0.306834\n",
              "InternetService_No                         -0.182742  ...                    0.321361\n",
              "OnlineSecurity_No internet service         -0.182742  ...                    0.321361\n",
              "OnlineSecurity_Yes                         -0.038653  ...                   -0.080798\n",
              "OnlineBackup_No internet service           -0.182742  ...                    0.321361\n",
              "OnlineBackup_Yes                            0.066572  ...                   -0.174164\n",
              "DeviceProtection_No internet service       -0.182742  ...                    0.321361\n",
              "DeviceProtection_Yes                        0.059428  ...                   -0.187373\n",
              "TechSupport_No internet service            -0.182742  ...                    0.321361\n",
              "TechSupport_Yes                            -0.060625  ...                   -0.085509\n",
              "StreamingTV_No internet service            -0.182742  ...                    0.321361\n",
              "StreamingTV_Yes                             0.105378  ...                   -0.247742\n",
              "StreamingMovies_No internet service        -0.182742  ...                    0.321361\n",
              "StreamingMovies_Yes                         0.120176  ...                   -0.250595\n",
              "Contract_One year                          -0.046262  ...                   -0.000116\n",
              "Contract_Two year                          -0.117000  ...                   -0.004705\n",
              "PaperlessBilling_Yes                        0.156530  ...                   -0.205398\n",
              "PaymentMethod_Credit card (automatic)      -0.024135  ...                   -0.286049\n",
              "PaymentMethod_Electronic check              0.171718  ...                   -0.387372\n",
              "PaymentMethod_Mailed check                 -0.153477  ...                    1.000000\n",
              "\n",
              "[30 rows x 30 columns]"
            ]
          },
          "metadata": {},
          "execution_count": 50
        }
      ]
    },
    {
      "cell_type": "code",
      "source": [
        "X = df1.iloc[:,:-1].values\n",
        "Y = df1.iloc[:,-1].values"
      ],
      "metadata": {
        "id": "5hsIRZysJj16"
      },
      "execution_count": 51,
      "outputs": []
    },
    {
      "cell_type": "code",
      "source": [
        "print(X)\n"
      ],
      "metadata": {
        "colab": {
          "base_uri": "https://localhost:8080/"
        },
        "id": "HkZsKcw9J6CA",
        "outputId": "bf9f3c8d-254c-4f02-b146-aed30453146e"
      },
      "execution_count": 52,
      "outputs": [
        {
          "output_type": "stream",
          "name": "stdout",
          "text": [
            "[[  0.     1.    29.85 ...   0.     1.     0.  ]\n",
            " [  0.    34.    56.95 ...   0.     0.     1.  ]\n",
            " [  0.     2.    53.85 ...   0.     0.     1.  ]\n",
            " ...\n",
            " [  0.    11.    29.6  ...   0.     1.     0.  ]\n",
            " [  1.     4.    74.4  ...   0.     0.     1.  ]\n",
            " [  0.    66.   105.65 ...   0.     0.     0.  ]]\n"
          ]
        }
      ]
    },
    {
      "cell_type": "code",
      "source": [
        "print(Y)"
      ],
      "metadata": {
        "colab": {
          "base_uri": "https://localhost:8080/"
        },
        "id": "DuMR3EinBSry",
        "outputId": "4735ab76-10c1-4407-c857-4606918aabb6"
      },
      "execution_count": 53,
      "outputs": [
        {
          "output_type": "stream",
          "name": "stdout",
          "text": [
            "[0 0 1 ... 0 1 0]\n"
          ]
        }
      ]
    },
    {
      "cell_type": "markdown",
      "source": [
        "# Splitting the dataset into training and testset"
      ],
      "metadata": {
        "id": "YE_vAja-MBJx"
      }
    },
    {
      "cell_type": "code",
      "source": [
        "from sklearn.model_selection import train_test_split\n",
        "X_train, X_test, y_train, y_test = train_test_split(X, Y, test_size = 0.25, random_state = 0)"
      ],
      "metadata": {
        "id": "7zWHdbKpMI1z"
      },
      "execution_count": 54,
      "outputs": []
    },
    {
      "cell_type": "code",
      "source": [
        "print(y_test)"
      ],
      "metadata": {
        "colab": {
          "base_uri": "https://localhost:8080/"
        },
        "id": "4rTHWz3MB9Mk",
        "outputId": "fd1a33f7-ff04-462e-dff6-3f2b19fa0eb7"
      },
      "execution_count": 55,
      "outputs": [
        {
          "output_type": "stream",
          "name": "stdout",
          "text": [
            "[0 0 0 ... 0 0 0]\n"
          ]
        }
      ]
    },
    {
      "cell_type": "code",
      "source": [
        "print(X_train)"
      ],
      "metadata": {
        "colab": {
          "base_uri": "https://localhost:8080/"
        },
        "id": "baf03vasBW-z",
        "outputId": "e8365c89-f7e3-4630-c32b-13b0b765f0ce"
      },
      "execution_count": 56,
      "outputs": [
        {
          "output_type": "stream",
          "name": "stdout",
          "text": [
            "[[ 0.   24.   49.3  ...  1.    0.    0.  ]\n",
            " [ 1.   54.   65.25 ...  0.    0.    0.  ]\n",
            " [ 0.    3.   40.15 ...  0.    0.    1.  ]\n",
            " ...\n",
            " [ 0.   58.   20.75 ...  0.    0.    1.  ]\n",
            " [ 1.    1.   69.75 ...  0.    1.    0.  ]\n",
            " [ 0.    4.   20.4  ...  1.    0.    0.  ]]\n"
          ]
        }
      ]
    },
    {
      "cell_type": "code",
      "source": [
        "print(y_train)"
      ],
      "metadata": {
        "colab": {
          "base_uri": "https://localhost:8080/"
        },
        "id": "JQ5vN5ozBbwZ",
        "outputId": "9787db36-01e5-4938-e326-4f7348530483"
      },
      "execution_count": 57,
      "outputs": [
        {
          "output_type": "stream",
          "name": "stdout",
          "text": [
            "[0 0 1 ... 0 1 0]\n"
          ]
        }
      ]
    },
    {
      "cell_type": "markdown",
      "source": [
        "# Feature Scaling"
      ],
      "metadata": {
        "id": "IywRk0TsKNfY"
      }
    },
    {
      "cell_type": "code",
      "source": [
        "from sklearn.preprocessing import StandardScaler\n",
        "sc = StandardScaler()\n",
        "X_train = sc.fit_transform(X_train)\n",
        "X_test = sc.transform(X_test)"
      ],
      "metadata": {
        "id": "BFSpi4lvJ74l"
      },
      "execution_count": 58,
      "outputs": []
    },
    {
      "cell_type": "markdown",
      "source": [
        "# Building an ANN\n"
      ],
      "metadata": {
        "id": "fBl8yHqI12f0"
      }
    },
    {
      "cell_type": "markdown",
      "source": [
        "## Initializing the ANN"
      ],
      "metadata": {
        "id": "ZaibvDRU2DnM"
      }
    },
    {
      "cell_type": "code",
      "source": [
        "ann = tf.keras.models.Sequential()\n",
        "ann.add(tf.keras.layers.Dense(units=29, activation='relu'))\n",
        "ann.add(tf.keras.layers.Dense(units=6, activation='relu'))\n",
        "ann.add(tf.keras.layers.Dense(units=1, activation='sigmoid'))"
      ],
      "metadata": {
        "id": "2dO-sIgT1331"
      },
      "execution_count": 59,
      "outputs": []
    },
    {
      "cell_type": "markdown",
      "source": [
        "## Training an ANN"
      ],
      "metadata": {
        "id": "mneSLdXO2NLb"
      }
    },
    {
      "cell_type": "code",
      "source": [
        "X_train=np.asarray(X_train).astype(np.int)\n",
        "\n",
        "y_train=np.asarray(y_train).astype(np.int)"
      ],
      "metadata": {
        "id": "DKmE2fhB_--I"
      },
      "execution_count": 60,
      "outputs": []
    },
    {
      "cell_type": "code",
      "source": [
        "y_train=np.asarray(y_train).astype(np.int)\n",
        "\n",
        "y_test=np.asarray(y_test).astype(np.int)"
      ],
      "metadata": {
        "id": "FrtnjTdlJQDf"
      },
      "execution_count": 61,
      "outputs": []
    },
    {
      "cell_type": "code",
      "source": [
        "print(X_train)"
      ],
      "metadata": {
        "colab": {
          "base_uri": "https://localhost:8080/"
        },
        "id": "WgY_BC3PBnpB",
        "outputId": "0f74d3a5-1ad2-481e-aa40-bb9916086b03"
      },
      "execution_count": 62,
      "outputs": [
        {
          "output_type": "stream",
          "name": "stdout",
          "text": [
            "[[ 0  0  0 ...  1  0  0]\n",
            " [ 2  0  0 ...  0  0  0]\n",
            " [ 0 -1  0 ...  0  0  1]\n",
            " ...\n",
            " [ 0  1 -1 ...  0  0  1]\n",
            " [ 2 -1  0 ...  0  1  0]\n",
            " [ 0 -1 -1 ...  1  0  0]]\n"
          ]
        }
      ]
    },
    {
      "cell_type": "code",
      "source": [
        "print(y_train)"
      ],
      "metadata": {
        "colab": {
          "base_uri": "https://localhost:8080/"
        },
        "id": "jAV3ehQ8BrTS",
        "outputId": "c85312a1-ce16-4c2b-a689-abea123ad3ec"
      },
      "execution_count": 63,
      "outputs": [
        {
          "output_type": "stream",
          "name": "stdout",
          "text": [
            "[0 0 1 ... 0 1 0]\n"
          ]
        }
      ]
    },
    {
      "cell_type": "code",
      "source": [
        "ann.compile(optimizer = 'adam', loss = 'binary_crossentropy', metrics = ['accuracy'])\n",
        "ann.fit(X_train, y_train, batch_size = 32, epochs = 100)"
      ],
      "metadata": {
        "colab": {
          "base_uri": "https://localhost:8080/"
        },
        "id": "m9YSC2sLZpSk",
        "outputId": "14ddcc8f-adca-4a36-9516-37dc90b44bab"
      },
      "execution_count": 64,
      "outputs": [
        {
          "output_type": "stream",
          "name": "stdout",
          "text": [
            "Epoch 1/100\n",
            "166/166 [==============================] - 1s 2ms/step - loss: 0.5130 - accuracy: 0.7391\n",
            "Epoch 2/100\n",
            "166/166 [==============================] - 0s 2ms/step - loss: 0.4341 - accuracy: 0.7952\n",
            "Epoch 3/100\n",
            "166/166 [==============================] - 0s 2ms/step - loss: 0.4222 - accuracy: 0.8027\n",
            "Epoch 4/100\n",
            "166/166 [==============================] - 0s 2ms/step - loss: 0.4170 - accuracy: 0.8082\n",
            "Epoch 5/100\n",
            "166/166 [==============================] - 0s 2ms/step - loss: 0.4141 - accuracy: 0.8061\n",
            "Epoch 6/100\n",
            "166/166 [==============================] - 0s 2ms/step - loss: 0.4117 - accuracy: 0.8094\n",
            "Epoch 7/100\n",
            "166/166 [==============================] - 0s 2ms/step - loss: 0.4104 - accuracy: 0.8103\n",
            "Epoch 8/100\n",
            "166/166 [==============================] - 0s 2ms/step - loss: 0.4085 - accuracy: 0.8097\n",
            "Epoch 9/100\n",
            "166/166 [==============================] - 0s 2ms/step - loss: 0.4071 - accuracy: 0.8105\n",
            "Epoch 10/100\n",
            "166/166 [==============================] - 0s 2ms/step - loss: 0.4065 - accuracy: 0.8118\n",
            "Epoch 11/100\n",
            "166/166 [==============================] - 0s 2ms/step - loss: 0.4060 - accuracy: 0.8105\n",
            "Epoch 12/100\n",
            "166/166 [==============================] - 0s 2ms/step - loss: 0.4047 - accuracy: 0.8114\n",
            "Epoch 13/100\n",
            "166/166 [==============================] - 0s 2ms/step - loss: 0.4040 - accuracy: 0.8107\n",
            "Epoch 14/100\n",
            "166/166 [==============================] - 0s 2ms/step - loss: 0.4025 - accuracy: 0.8129\n",
            "Epoch 15/100\n",
            "166/166 [==============================] - 0s 2ms/step - loss: 0.4016 - accuracy: 0.8148\n",
            "Epoch 16/100\n",
            "166/166 [==============================] - 0s 2ms/step - loss: 0.4010 - accuracy: 0.8156\n",
            "Epoch 17/100\n",
            "166/166 [==============================] - 0s 2ms/step - loss: 0.4013 - accuracy: 0.8139\n",
            "Epoch 18/100\n",
            "166/166 [==============================] - 0s 2ms/step - loss: 0.4001 - accuracy: 0.8133\n",
            "Epoch 19/100\n",
            "166/166 [==============================] - 0s 2ms/step - loss: 0.3991 - accuracy: 0.8147\n",
            "Epoch 20/100\n",
            "166/166 [==============================] - 0s 2ms/step - loss: 0.3979 - accuracy: 0.8152\n",
            "Epoch 21/100\n",
            "166/166 [==============================] - 0s 2ms/step - loss: 0.3976 - accuracy: 0.8133\n",
            "Epoch 22/100\n",
            "166/166 [==============================] - 0s 2ms/step - loss: 0.3965 - accuracy: 0.8179\n",
            "Epoch 23/100\n",
            "166/166 [==============================] - 0s 2ms/step - loss: 0.3973 - accuracy: 0.8165\n",
            "Epoch 24/100\n",
            "166/166 [==============================] - 0s 2ms/step - loss: 0.3959 - accuracy: 0.8175\n",
            "Epoch 25/100\n",
            "166/166 [==============================] - 0s 2ms/step - loss: 0.3956 - accuracy: 0.8169\n",
            "Epoch 26/100\n",
            "166/166 [==============================] - 0s 2ms/step - loss: 0.3947 - accuracy: 0.8186\n",
            "Epoch 27/100\n",
            "166/166 [==============================] - 0s 2ms/step - loss: 0.3934 - accuracy: 0.8145\n",
            "Epoch 28/100\n",
            "166/166 [==============================] - 0s 2ms/step - loss: 0.3936 - accuracy: 0.8175\n",
            "Epoch 29/100\n",
            "166/166 [==============================] - 0s 2ms/step - loss: 0.3922 - accuracy: 0.8147\n",
            "Epoch 30/100\n",
            "166/166 [==============================] - 0s 2ms/step - loss: 0.3918 - accuracy: 0.8171\n",
            "Epoch 31/100\n",
            "166/166 [==============================] - 0s 2ms/step - loss: 0.3912 - accuracy: 0.8181\n",
            "Epoch 32/100\n",
            "166/166 [==============================] - 0s 2ms/step - loss: 0.3909 - accuracy: 0.8175\n",
            "Epoch 33/100\n",
            "166/166 [==============================] - 0s 2ms/step - loss: 0.3895 - accuracy: 0.8188\n",
            "Epoch 34/100\n",
            "166/166 [==============================] - 0s 2ms/step - loss: 0.3881 - accuracy: 0.8224\n",
            "Epoch 35/100\n",
            "166/166 [==============================] - 0s 2ms/step - loss: 0.3878 - accuracy: 0.8222\n",
            "Epoch 36/100\n",
            "166/166 [==============================] - 0s 2ms/step - loss: 0.3875 - accuracy: 0.8179\n",
            "Epoch 37/100\n",
            "166/166 [==============================] - 0s 2ms/step - loss: 0.3865 - accuracy: 0.8213\n",
            "Epoch 38/100\n",
            "166/166 [==============================] - 0s 2ms/step - loss: 0.3868 - accuracy: 0.8190\n",
            "Epoch 39/100\n",
            "166/166 [==============================] - 0s 2ms/step - loss: 0.3854 - accuracy: 0.8237\n",
            "Epoch 40/100\n",
            "166/166 [==============================] - 0s 2ms/step - loss: 0.3839 - accuracy: 0.8228\n",
            "Epoch 41/100\n",
            "166/166 [==============================] - 0s 2ms/step - loss: 0.3840 - accuracy: 0.8224\n",
            "Epoch 42/100\n",
            "166/166 [==============================] - 0s 2ms/step - loss: 0.3826 - accuracy: 0.8226\n",
            "Epoch 43/100\n",
            "166/166 [==============================] - 0s 2ms/step - loss: 0.3833 - accuracy: 0.8217\n",
            "Epoch 44/100\n",
            "166/166 [==============================] - 0s 2ms/step - loss: 0.3817 - accuracy: 0.8226\n",
            "Epoch 45/100\n",
            "166/166 [==============================] - 0s 2ms/step - loss: 0.3809 - accuracy: 0.8228\n",
            "Epoch 46/100\n",
            "166/166 [==============================] - 0s 2ms/step - loss: 0.3807 - accuracy: 0.8251\n",
            "Epoch 47/100\n",
            "166/166 [==============================] - 0s 2ms/step - loss: 0.3799 - accuracy: 0.8237\n",
            "Epoch 48/100\n",
            "166/166 [==============================] - 0s 2ms/step - loss: 0.3794 - accuracy: 0.8258\n",
            "Epoch 49/100\n",
            "166/166 [==============================] - 0s 2ms/step - loss: 0.3771 - accuracy: 0.8279\n",
            "Epoch 50/100\n",
            "166/166 [==============================] - 0s 2ms/step - loss: 0.3770 - accuracy: 0.8266\n",
            "Epoch 51/100\n",
            "166/166 [==============================] - 0s 2ms/step - loss: 0.3782 - accuracy: 0.8253\n",
            "Epoch 52/100\n",
            "166/166 [==============================] - 0s 2ms/step - loss: 0.3763 - accuracy: 0.8279\n",
            "Epoch 53/100\n",
            "166/166 [==============================] - 0s 2ms/step - loss: 0.3763 - accuracy: 0.8268\n",
            "Epoch 54/100\n",
            "166/166 [==============================] - 0s 2ms/step - loss: 0.3750 - accuracy: 0.8277\n",
            "Epoch 55/100\n",
            "166/166 [==============================] - 0s 2ms/step - loss: 0.3739 - accuracy: 0.8260\n",
            "Epoch 56/100\n",
            "166/166 [==============================] - 0s 2ms/step - loss: 0.3735 - accuracy: 0.8287\n",
            "Epoch 57/100\n",
            "166/166 [==============================] - 0s 2ms/step - loss: 0.3735 - accuracy: 0.8258\n",
            "Epoch 58/100\n",
            "166/166 [==============================] - 0s 2ms/step - loss: 0.3723 - accuracy: 0.8296\n",
            "Epoch 59/100\n",
            "166/166 [==============================] - 0s 2ms/step - loss: 0.3712 - accuracy: 0.8309\n",
            "Epoch 60/100\n",
            "166/166 [==============================] - 0s 2ms/step - loss: 0.3711 - accuracy: 0.8294\n",
            "Epoch 61/100\n",
            "166/166 [==============================] - 0s 2ms/step - loss: 0.3695 - accuracy: 0.8273\n",
            "Epoch 62/100\n",
            "166/166 [==============================] - 0s 2ms/step - loss: 0.3701 - accuracy: 0.8309\n",
            "Epoch 63/100\n",
            "166/166 [==============================] - 0s 2ms/step - loss: 0.3694 - accuracy: 0.8281\n",
            "Epoch 64/100\n",
            "166/166 [==============================] - 0s 2ms/step - loss: 0.3687 - accuracy: 0.8317\n",
            "Epoch 65/100\n",
            "166/166 [==============================] - 0s 2ms/step - loss: 0.3682 - accuracy: 0.8296\n",
            "Epoch 66/100\n",
            "166/166 [==============================] - 0s 2ms/step - loss: 0.3674 - accuracy: 0.8273\n",
            "Epoch 67/100\n",
            "166/166 [==============================] - 0s 2ms/step - loss: 0.3677 - accuracy: 0.8315\n",
            "Epoch 68/100\n",
            "166/166 [==============================] - 0s 2ms/step - loss: 0.3658 - accuracy: 0.8338\n",
            "Epoch 69/100\n",
            "166/166 [==============================] - 0s 2ms/step - loss: 0.3662 - accuracy: 0.8302\n",
            "Epoch 70/100\n",
            "166/166 [==============================] - 0s 2ms/step - loss: 0.3642 - accuracy: 0.8323\n",
            "Epoch 71/100\n",
            "166/166 [==============================] - 0s 2ms/step - loss: 0.3649 - accuracy: 0.8323\n",
            "Epoch 72/100\n",
            "166/166 [==============================] - 0s 2ms/step - loss: 0.3637 - accuracy: 0.8311\n",
            "Epoch 73/100\n",
            "166/166 [==============================] - 0s 2ms/step - loss: 0.3642 - accuracy: 0.8340\n",
            "Epoch 74/100\n",
            "166/166 [==============================] - 0s 2ms/step - loss: 0.3620 - accuracy: 0.8309\n",
            "Epoch 75/100\n",
            "166/166 [==============================] - 0s 2ms/step - loss: 0.3625 - accuracy: 0.8342\n",
            "Epoch 76/100\n",
            "166/166 [==============================] - 0s 2ms/step - loss: 0.3628 - accuracy: 0.8309\n",
            "Epoch 77/100\n",
            "166/166 [==============================] - 0s 2ms/step - loss: 0.3600 - accuracy: 0.8323\n",
            "Epoch 78/100\n",
            "166/166 [==============================] - 0s 2ms/step - loss: 0.3608 - accuracy: 0.8311\n",
            "Epoch 79/100\n",
            "166/166 [==============================] - 0s 2ms/step - loss: 0.3609 - accuracy: 0.8345\n",
            "Epoch 80/100\n",
            "166/166 [==============================] - 0s 2ms/step - loss: 0.3594 - accuracy: 0.8343\n",
            "Epoch 81/100\n",
            "166/166 [==============================] - 0s 2ms/step - loss: 0.3596 - accuracy: 0.8323\n",
            "Epoch 82/100\n",
            "166/166 [==============================] - 0s 2ms/step - loss: 0.3581 - accuracy: 0.8347\n",
            "Epoch 83/100\n",
            "166/166 [==============================] - 0s 2ms/step - loss: 0.3583 - accuracy: 0.8323\n",
            "Epoch 84/100\n",
            "166/166 [==============================] - 0s 2ms/step - loss: 0.3583 - accuracy: 0.8323\n",
            "Epoch 85/100\n",
            "166/166 [==============================] - 0s 2ms/step - loss: 0.3581 - accuracy: 0.8360\n",
            "Epoch 86/100\n",
            "166/166 [==============================] - 0s 2ms/step - loss: 0.3574 - accuracy: 0.8357\n",
            "Epoch 87/100\n",
            "166/166 [==============================] - 0s 2ms/step - loss: 0.3572 - accuracy: 0.8334\n",
            "Epoch 88/100\n",
            "166/166 [==============================] - 0s 2ms/step - loss: 0.3568 - accuracy: 0.8368\n",
            "Epoch 89/100\n",
            "166/166 [==============================] - 0s 2ms/step - loss: 0.3555 - accuracy: 0.8353\n",
            "Epoch 90/100\n",
            "166/166 [==============================] - 0s 2ms/step - loss: 0.3549 - accuracy: 0.8359\n",
            "Epoch 91/100\n",
            "166/166 [==============================] - 0s 2ms/step - loss: 0.3549 - accuracy: 0.8368\n",
            "Epoch 92/100\n",
            "166/166 [==============================] - 0s 2ms/step - loss: 0.3561 - accuracy: 0.8385\n",
            "Epoch 93/100\n",
            "166/166 [==============================] - 0s 2ms/step - loss: 0.3534 - accuracy: 0.8391\n",
            "Epoch 94/100\n",
            "166/166 [==============================] - 0s 2ms/step - loss: 0.3549 - accuracy: 0.8353\n",
            "Epoch 95/100\n",
            "166/166 [==============================] - 0s 2ms/step - loss: 0.3543 - accuracy: 0.8351\n",
            "Epoch 96/100\n",
            "166/166 [==============================] - 0s 2ms/step - loss: 0.3536 - accuracy: 0.8366\n",
            "Epoch 97/100\n",
            "166/166 [==============================] - 0s 2ms/step - loss: 0.3522 - accuracy: 0.8349\n",
            "Epoch 98/100\n",
            "166/166 [==============================] - 0s 2ms/step - loss: 0.3522 - accuracy: 0.8360\n",
            "Epoch 99/100\n",
            "166/166 [==============================] - 0s 2ms/step - loss: 0.3511 - accuracy: 0.8360\n",
            "Epoch 100/100\n",
            "166/166 [==============================] - 0s 2ms/step - loss: 0.3515 - accuracy: 0.8383\n"
          ]
        },
        {
          "output_type": "execute_result",
          "data": {
            "text/plain": [
              "<keras.callbacks.History at 0x7f8a29b61e10>"
            ]
          },
          "metadata": {},
          "execution_count": 64
        }
      ]
    },
    {
      "cell_type": "markdown",
      "source": [
        "## Making Predictions on Testset"
      ],
      "metadata": {
        "id": "r1GmIPHw27W7"
      }
    },
    {
      "cell_type": "code",
      "source": [
        "y_pred = ann.predict(X_test)\n"
      ],
      "metadata": {
        "id": "m3z4MrXf3F0b"
      },
      "execution_count": 65,
      "outputs": []
    },
    {
      "cell_type": "code",
      "source": [
        "print(y_pred)"
      ],
      "metadata": {
        "colab": {
          "base_uri": "https://localhost:8080/"
        },
        "id": "euFNmIVYIb4b",
        "outputId": "1894f30c-6a66-4ac2-e525-daf5af84108e"
      },
      "execution_count": 66,
      "outputs": [
        {
          "output_type": "stream",
          "name": "stdout",
          "text": [
            "[[0.0545212 ]\n",
            " [0.49503025]\n",
            " [0.2632799 ]\n",
            " ...\n",
            " [0.00769252]\n",
            " [0.00080496]\n",
            " [0.00219324]]\n"
          ]
        }
      ]
    },
    {
      "cell_type": "code",
      "source": [
        "for i in range (0,y_pred.shape[0]):\n",
        "  if y_pred[i] >0.5:\n",
        "    y_pred[i] = 1\n",
        "  else:\n",
        "    y_pred[i]=0"
      ],
      "metadata": {
        "id": "8LbAjpMPIeTw"
      },
      "execution_count": 67,
      "outputs": []
    },
    {
      "cell_type": "code",
      "source": [
        "y_pred"
      ],
      "metadata": {
        "colab": {
          "base_uri": "https://localhost:8080/"
        },
        "id": "i8mrlej1Ik7r",
        "outputId": "93ad79b1-144a-4843-eafb-bb98d2b2bc05"
      },
      "execution_count": 68,
      "outputs": [
        {
          "output_type": "execute_result",
          "data": {
            "text/plain": [
              "array([[0.],\n",
              "       [0.],\n",
              "       [0.],\n",
              "       ...,\n",
              "       [0.],\n",
              "       [0.],\n",
              "       [0.]], dtype=float32)"
            ]
          },
          "metadata": {},
          "execution_count": 68
        }
      ]
    },
    {
      "cell_type": "code",
      "source": [
        "print(np.concatenate((y_pred.reshape(len(y_pred),1),  y_test.reshape(len(y_test),1)),1))"
      ],
      "metadata": {
        "colab": {
          "base_uri": "https://localhost:8080/"
        },
        "id": "WvHflt6aIqJe",
        "outputId": "17104d8e-3001-4f44-85ef-00644dd9e512"
      },
      "execution_count": 69,
      "outputs": [
        {
          "output_type": "stream",
          "name": "stdout",
          "text": [
            "[[0. 0.]\n",
            " [0. 0.]\n",
            " [0. 0.]\n",
            " ...\n",
            " [0. 0.]\n",
            " [0. 0.]\n",
            " [0. 0.]]\n"
          ]
        }
      ]
    },
    {
      "cell_type": "markdown",
      "source": [
        "## Making Confusion Matrix"
      ],
      "metadata": {
        "id": "pikBOsXcAk4_"
      }
    },
    {
      "cell_type": "code",
      "source": [
        "from sklearn.metrics import confusion_matrix, accuracy_score\n",
        "cm = confusion_matrix(y_test, y_pred)\n",
        "print(cm)\n",
        "accuracy_score(y_test, y_pred)"
      ],
      "metadata": {
        "colab": {
          "base_uri": "https://localhost:8080/"
        },
        "id": "2at4keVfAq2Z",
        "outputId": "e1d85360-9d83-41ae-d0e7-32c14d6a01ee"
      },
      "execution_count": 70,
      "outputs": [
        {
          "output_type": "stream",
          "name": "stdout",
          "text": [
            "[[1122  176]\n",
            " [ 225  238]]\n"
          ]
        },
        {
          "output_type": "execute_result",
          "data": {
            "text/plain": [
              "0.7722884724588303"
            ]
          },
          "metadata": {},
          "execution_count": 70
        }
      ]
    },
    {
      "cell_type": "markdown",
      "source": [
        "## Applying K-fold cross Validation"
      ],
      "metadata": {
        "id": "uE9s39pV_gF6"
      }
    },
    {
      "cell_type": "code",
      "source": [
        "from keras.wrappers.scikit_learn import KerasClassifier\n",
        "from sklearn.model_selection import cross_val_score"
      ],
      "metadata": {
        "id": "8kMqxL-V_fWx"
      },
      "execution_count": 71,
      "outputs": []
    },
    {
      "cell_type": "code",
      "source": [
        "def build_model():\n",
        "    ann = tf.keras.models.Sequential([\n",
        "        tf.keras.layers.Dense(units=29, activation='relu'),\n",
        "        tf.keras.layers.Dense(units=6, activation='relu'),\n",
        "        tf.keras.layers.Dense(units=1, activation='sigmoid')])\n",
        "    ann.compile(optimizer = 'adam', loss = 'binary_crossentropy', metrics = ['accuracy'])\n",
        "    return ann\n",
        "\n",
        "ann = build_model()\n",
        "\n",
        "history = ann.fit(X_train, y_train, epochs=1)\n",
        "\n",
        "keras_clf = KerasClassifier(build_model)\n",
        "\n",
        "accuracies = cross_val_score(estimator=keras_clf, scoring=\"accuracy\", \n",
        "    X=X_train, y=y_train, cv=5)\n",
        "\n",
        "print(accuracies)"
      ],
      "metadata": {
        "colab": {
          "base_uri": "https://localhost:8080/"
        },
        "id": "tPXftQh_GEK-",
        "outputId": "827d620c-e83d-4ab6-8508-1bdfbbd84694"
      },
      "execution_count": 101,
      "outputs": [
        {
          "output_type": "stream",
          "name": "stdout",
          "text": [
            "166/166 [==============================] - 1s 2ms/step - loss: 0.4986 - accuracy: 0.7524\n"
          ]
        },
        {
          "output_type": "stream",
          "name": "stderr",
          "text": [
            "/usr/local/lib/python3.7/dist-packages/ipykernel_launcher.py:13: DeprecationWarning: KerasClassifier is deprecated, use Sci-Keras (https://github.com/adriangb/scikeras) instead.\n",
            "  del sys.path[0]\n"
          ]
        },
        {
          "output_type": "stream",
          "name": "stdout",
          "text": [
            "133/133 [==============================] - 1s 2ms/step - loss: 0.5057 - accuracy: 0.7413\n",
            "133/133 [==============================] - 1s 2ms/step - loss: 0.5030 - accuracy: 0.7493\n",
            "133/133 [==============================] - 1s 2ms/step - loss: 0.4958 - accuracy: 0.7553\n",
            "133/133 [==============================] - 1s 2ms/step - loss: 0.5120 - accuracy: 0.7392\n",
            "133/133 [==============================] - 1s 2ms/step - loss: 0.5068 - accuracy: 0.7378\n",
            "[0.79848628 0.78618732 0.76609848 0.79640152 0.79829545]\n"
          ]
        }
      ]
    },
    {
      "cell_type": "code",
      "source": [
        "print(\"Accuracy: {:.2f} %\".format(accuracies.mean()*100))"
      ],
      "metadata": {
        "colab": {
          "base_uri": "https://localhost:8080/"
        },
        "id": "7kxNGxEzJkap",
        "outputId": "e3174f20-8be3-407e-dada-fd480af11f15"
      },
      "execution_count": 102,
      "outputs": [
        {
          "output_type": "stream",
          "name": "stdout",
          "text": [
            "Accuracy: 78.91 %\n"
          ]
        }
      ]
    },
    {
      "cell_type": "code",
      "source": [
        ""
      ],
      "metadata": {
        "id": "ScvbYKWQJlKZ"
      },
      "execution_count": null,
      "outputs": []
    }
  ]
}